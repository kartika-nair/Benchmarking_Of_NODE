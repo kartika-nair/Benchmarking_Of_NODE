{
  "nbformat": 4,
  "nbformat_minor": 0,
  "metadata": {
    "colab": {
      "name": "Visualisation.ipynb",
      "provenance": [],
      "collapsed_sections": [],
      "include_colab_link": true
    },
    "kernelspec": {
      "name": "python3",
      "display_name": "Python 3"
    }
  },
  "cells": [
    {
      "cell_type": "markdown",
      "metadata": {
        "id": "view-in-github",
        "colab_type": "text"
      },
      "source": [
        "<a href=\"https://colab.research.google.com/github/saahil-jain/Covid_19_predictor/blob/master/Visualisation.ipynb\" target=\"_parent\"><img src=\"https://colab.research.google.com/assets/colab-badge.svg\" alt=\"Open In Colab\"/></a>"
      ]
    },
    {
      "cell_type": "code",
      "metadata": {
        "id": "2bofvQt9_v-B",
        "colab_type": "code",
        "outputId": "3873ecf4-dd08-4800-af70-3ef9754a0c03",
        "colab": {
          "base_uri": "https://localhost:8080/",
          "height": 173
        }
      },
      "source": [
        "import numpy\n",
        "import seaborn as sns\n",
        "import pandas as pd\n",
        "from matplotlib import pyplot as plt\n",
        "# from google.colab import drive\n",
        "# drive.mount('/content/gdrive')\n",
        "! git clone https://github.com/saahil-jain/Covid_19_predictor.git"
      ],
      "execution_count": 1,
      "outputs": [
        {
          "output_type": "stream",
          "text": [
            "/usr/local/lib/python3.6/dist-packages/statsmodels/tools/_testing.py:19: FutureWarning: pandas.util.testing is deprecated. Use the functions in the public API at pandas.testing instead.\n",
            "  import pandas.util.testing as tm\n"
          ],
          "name": "stderr"
        },
        {
          "output_type": "stream",
          "text": [
            "Cloning into 'Covid_19_predictor'...\n",
            "remote: Enumerating objects: 11, done.\u001b[K\n",
            "remote: Counting objects:   9% (1/11)\u001b[K\rremote: Counting objects:  18% (2/11)\u001b[K\rremote: Counting objects:  27% (3/11)\u001b[K\rremote: Counting objects:  36% (4/11)\u001b[K\rremote: Counting objects:  45% (5/11)\u001b[K\rremote: Counting objects:  54% (6/11)\u001b[K\rremote: Counting objects:  63% (7/11)\u001b[K\rremote: Counting objects:  72% (8/11)\u001b[K\rremote: Counting objects:  81% (9/11)\u001b[K\rremote: Counting objects:  90% (10/11)\u001b[K\rremote: Counting objects: 100% (11/11)\u001b[K\rremote: Counting objects: 100% (11/11), done.\u001b[K\n",
            "remote: Compressing objects:  10% (1/10)\u001b[K\rremote: Compressing objects:  20% (2/10)\u001b[K\rremote: Compressing objects:  30% (3/10)\u001b[K\rremote: Compressing objects:  40% (4/10)\u001b[K\rremote: Compressing objects:  50% (5/10)\u001b[K\rremote: Compressing objects:  60% (6/10)\u001b[K\rremote: Compressing objects:  70% (7/10)\u001b[K\rremote: Compressing objects:  80% (8/10)\u001b[K\rremote: Compressing objects:  90% (9/10)\u001b[K\rremote: Compressing objects: 100% (10/10)\u001b[K\rremote: Compressing objects: 100% (10/10), done.\u001b[K\n",
            "Unpacking objects:   9% (1/11)   \rUnpacking objects:  18% (2/11)   \rUnpacking objects:  27% (3/11)   \rUnpacking objects:  36% (4/11)   \rUnpacking objects:  45% (5/11)   \rUnpacking objects:  54% (6/11)   \rUnpacking objects:  63% (7/11)   \rUnpacking objects:  72% (8/11)   \rremote: Total 11 (delta 0), reused 5 (delta 0), pack-reused 0\u001b[K\n",
            "Unpacking objects:  81% (9/11)   \rUnpacking objects:  90% (10/11)   \rUnpacking objects: 100% (11/11)   \rUnpacking objects: 100% (11/11), done.\n"
          ],
          "name": "stdout"
        }
      ]
    },
    {
      "cell_type": "code",
      "metadata": {
        "id": "dacTIIyevWp2",
        "colab_type": "code",
        "colab": {
          "base_uri": "https://localhost:8080/",
          "height": 85
        },
        "outputId": "62b4f91a-eb4d-4068-8c0b-895a5ebdc675"
      },
      "source": [
        "% ls\n",
        "% cd Covid_19_predictor\n",
        "% ls"
      ],
      "execution_count": 4,
      "outputs": [
        {
          "output_type": "stream",
          "text": [
            "data.csv  GRU-ODE_paper.pdf  NODE_paper.pdf  README.md  Visualisation.ipynb\n",
            "[Errno 2] No such file or directory: 'Covid_19_predictor'\n",
            "/content/Covid_19_predictor\n",
            "data.csv  GRU-ODE_paper.pdf  NODE_paper.pdf  README.md  Visualisation.ipynb\n"
          ],
          "name": "stdout"
        }
      ]
    },
    {
      "cell_type": "code",
      "metadata": {
        "id": "stcxW4Vy_5rr",
        "colab_type": "code",
        "outputId": "7bbfe373-e173-4946-e5e5-45313d559fdc",
        "colab": {
          "base_uri": "https://localhost:8080/",
          "height": 204
        }
      },
      "source": [
        "df=pd.read_csv(\"data.csv\")\n",
        "df.head()"
      ],
      "execution_count": 5,
      "outputs": [
        {
          "output_type": "execute_result",
          "data": {
            "text/html": [
              "<div>\n",
              "<style scoped>\n",
              "    .dataframe tbody tr th:only-of-type {\n",
              "        vertical-align: middle;\n",
              "    }\n",
              "\n",
              "    .dataframe tbody tr th {\n",
              "        vertical-align: top;\n",
              "    }\n",
              "\n",
              "    .dataframe thead th {\n",
              "        text-align: right;\n",
              "    }\n",
              "</style>\n",
              "<table border=\"1\" class=\"dataframe\">\n",
              "  <thead>\n",
              "    <tr style=\"text-align: right;\">\n",
              "      <th></th>\n",
              "      <th>dateRep</th>\n",
              "      <th>day</th>\n",
              "      <th>month</th>\n",
              "      <th>year</th>\n",
              "      <th>cases</th>\n",
              "      <th>deaths</th>\n",
              "      <th>countriesAndTerritories</th>\n",
              "      <th>geoId</th>\n",
              "      <th>countryterritoryCode</th>\n",
              "      <th>popData2018</th>\n",
              "      <th>continentExp</th>\n",
              "    </tr>\n",
              "  </thead>\n",
              "  <tbody>\n",
              "    <tr>\n",
              "      <th>0</th>\n",
              "      <td>22/05/2020</td>\n",
              "      <td>22</td>\n",
              "      <td>5</td>\n",
              "      <td>2020</td>\n",
              "      <td>531</td>\n",
              "      <td>6</td>\n",
              "      <td>Afghanistan</td>\n",
              "      <td>AF</td>\n",
              "      <td>AFG</td>\n",
              "      <td>37172386.0</td>\n",
              "      <td>Asia</td>\n",
              "    </tr>\n",
              "    <tr>\n",
              "      <th>1</th>\n",
              "      <td>21/05/2020</td>\n",
              "      <td>21</td>\n",
              "      <td>5</td>\n",
              "      <td>2020</td>\n",
              "      <td>492</td>\n",
              "      <td>9</td>\n",
              "      <td>Afghanistan</td>\n",
              "      <td>AF</td>\n",
              "      <td>AFG</td>\n",
              "      <td>37172386.0</td>\n",
              "      <td>Asia</td>\n",
              "    </tr>\n",
              "    <tr>\n",
              "      <th>2</th>\n",
              "      <td>20/05/2020</td>\n",
              "      <td>20</td>\n",
              "      <td>5</td>\n",
              "      <td>2020</td>\n",
              "      <td>581</td>\n",
              "      <td>5</td>\n",
              "      <td>Afghanistan</td>\n",
              "      <td>AF</td>\n",
              "      <td>AFG</td>\n",
              "      <td>37172386.0</td>\n",
              "      <td>Asia</td>\n",
              "    </tr>\n",
              "    <tr>\n",
              "      <th>3</th>\n",
              "      <td>19/05/2020</td>\n",
              "      <td>19</td>\n",
              "      <td>5</td>\n",
              "      <td>2020</td>\n",
              "      <td>408</td>\n",
              "      <td>4</td>\n",
              "      <td>Afghanistan</td>\n",
              "      <td>AF</td>\n",
              "      <td>AFG</td>\n",
              "      <td>37172386.0</td>\n",
              "      <td>Asia</td>\n",
              "    </tr>\n",
              "    <tr>\n",
              "      <th>4</th>\n",
              "      <td>18/05/2020</td>\n",
              "      <td>18</td>\n",
              "      <td>5</td>\n",
              "      <td>2020</td>\n",
              "      <td>262</td>\n",
              "      <td>1</td>\n",
              "      <td>Afghanistan</td>\n",
              "      <td>AF</td>\n",
              "      <td>AFG</td>\n",
              "      <td>37172386.0</td>\n",
              "      <td>Asia</td>\n",
              "    </tr>\n",
              "  </tbody>\n",
              "</table>\n",
              "</div>"
            ],
            "text/plain": [
              "      dateRep  day  month  ...  countryterritoryCode  popData2018  continentExp\n",
              "0  22/05/2020   22      5  ...                   AFG   37172386.0          Asia\n",
              "1  21/05/2020   21      5  ...                   AFG   37172386.0          Asia\n",
              "2  20/05/2020   20      5  ...                   AFG   37172386.0          Asia\n",
              "3  19/05/2020   19      5  ...                   AFG   37172386.0          Asia\n",
              "4  18/05/2020   18      5  ...                   AFG   37172386.0          Asia\n",
              "\n",
              "[5 rows x 11 columns]"
            ]
          },
          "metadata": {
            "tags": []
          },
          "execution_count": 5
        }
      ]
    },
    {
      "cell_type": "code",
      "metadata": {
        "id": "2eEKp1IGAylh",
        "colab_type": "code",
        "outputId": "724fcb48-cd53-47db-a196-23c6e510c3bb",
        "colab": {
          "base_uri": "https://localhost:8080/",
          "height": 1000
        }
      },
      "source": [
        "grouped=df.groupby('countriesAndTerritories')\n",
        "countries=sorted(list(set(df.countriesAndTerritories.unique())))\n",
        "countries"
      ],
      "execution_count": 0,
      "outputs": [
        {
          "output_type": "execute_result",
          "data": {
            "text/plain": [
              "['Afghanistan',\n",
              " 'Albania',\n",
              " 'Algeria',\n",
              " 'Andorra',\n",
              " 'Angola',\n",
              " 'Anguilla',\n",
              " 'Antigua_and_Barbuda',\n",
              " 'Argentina',\n",
              " 'Armenia',\n",
              " 'Aruba',\n",
              " 'Australia',\n",
              " 'Austria',\n",
              " 'Azerbaijan',\n",
              " 'Bahamas',\n",
              " 'Bahrain',\n",
              " 'Bangladesh',\n",
              " 'Barbados',\n",
              " 'Belarus',\n",
              " 'Belgium',\n",
              " 'Belize',\n",
              " 'Benin',\n",
              " 'Bermuda',\n",
              " 'Bhutan',\n",
              " 'Bolivia',\n",
              " 'Bonaire, Saint Eustatius and Saba',\n",
              " 'Bosnia_and_Herzegovina',\n",
              " 'Botswana',\n",
              " 'Brazil',\n",
              " 'British_Virgin_Islands',\n",
              " 'Brunei_Darussalam',\n",
              " 'Bulgaria',\n",
              " 'Burkina_Faso',\n",
              " 'Burundi',\n",
              " 'Cambodia',\n",
              " 'Cameroon',\n",
              " 'Canada',\n",
              " 'Cape_Verde',\n",
              " 'Cases_on_an_international_conveyance_Japan',\n",
              " 'Cayman_Islands',\n",
              " 'Central_African_Republic',\n",
              " 'Chad',\n",
              " 'Chile',\n",
              " 'China',\n",
              " 'Colombia',\n",
              " 'Comoros',\n",
              " 'Congo',\n",
              " 'Costa_Rica',\n",
              " 'Cote_dIvoire',\n",
              " 'Croatia',\n",
              " 'Cuba',\n",
              " 'Curaçao',\n",
              " 'Cyprus',\n",
              " 'Czechia',\n",
              " 'Democratic_Republic_of_the_Congo',\n",
              " 'Denmark',\n",
              " 'Djibouti',\n",
              " 'Dominica',\n",
              " 'Dominican_Republic',\n",
              " 'Ecuador',\n",
              " 'Egypt',\n",
              " 'El_Salvador',\n",
              " 'Equatorial_Guinea',\n",
              " 'Eritrea',\n",
              " 'Estonia',\n",
              " 'Eswatini',\n",
              " 'Ethiopia',\n",
              " 'Falkland_Islands_(Malvinas)',\n",
              " 'Faroe_Islands',\n",
              " 'Fiji',\n",
              " 'Finland',\n",
              " 'France',\n",
              " 'French_Polynesia',\n",
              " 'Gabon',\n",
              " 'Gambia',\n",
              " 'Georgia',\n",
              " 'Germany',\n",
              " 'Ghana',\n",
              " 'Gibraltar',\n",
              " 'Greece',\n",
              " 'Greenland',\n",
              " 'Grenada',\n",
              " 'Guam',\n",
              " 'Guatemala',\n",
              " 'Guernsey',\n",
              " 'Guinea',\n",
              " 'Guinea_Bissau',\n",
              " 'Guyana',\n",
              " 'Haiti',\n",
              " 'Holy_See',\n",
              " 'Honduras',\n",
              " 'Hungary',\n",
              " 'Iceland',\n",
              " 'India',\n",
              " 'Indonesia',\n",
              " 'Iran',\n",
              " 'Iraq',\n",
              " 'Ireland',\n",
              " 'Isle_of_Man',\n",
              " 'Israel',\n",
              " 'Italy',\n",
              " 'Jamaica',\n",
              " 'Japan',\n",
              " 'Jersey',\n",
              " 'Jordan',\n",
              " 'Kazakhstan',\n",
              " 'Kenya',\n",
              " 'Kosovo',\n",
              " 'Kuwait',\n",
              " 'Kyrgyzstan',\n",
              " 'Laos',\n",
              " 'Latvia',\n",
              " 'Lebanon',\n",
              " 'Lesotho',\n",
              " 'Liberia',\n",
              " 'Libya',\n",
              " 'Liechtenstein',\n",
              " 'Lithuania',\n",
              " 'Luxembourg',\n",
              " 'Madagascar',\n",
              " 'Malawi',\n",
              " 'Malaysia',\n",
              " 'Maldives',\n",
              " 'Mali',\n",
              " 'Malta',\n",
              " 'Mauritania',\n",
              " 'Mauritius',\n",
              " 'Mexico',\n",
              " 'Moldova',\n",
              " 'Monaco',\n",
              " 'Mongolia',\n",
              " 'Montenegro',\n",
              " 'Montserrat',\n",
              " 'Morocco',\n",
              " 'Mozambique',\n",
              " 'Myanmar',\n",
              " 'Namibia',\n",
              " 'Nepal',\n",
              " 'Netherlands',\n",
              " 'New_Caledonia',\n",
              " 'New_Zealand',\n",
              " 'Nicaragua',\n",
              " 'Niger',\n",
              " 'Nigeria',\n",
              " 'North_Macedonia',\n",
              " 'Northern_Mariana_Islands',\n",
              " 'Norway',\n",
              " 'Oman',\n",
              " 'Pakistan',\n",
              " 'Palestine',\n",
              " 'Panama',\n",
              " 'Papua_New_Guinea',\n",
              " 'Paraguay',\n",
              " 'Peru',\n",
              " 'Philippines',\n",
              " 'Poland',\n",
              " 'Portugal',\n",
              " 'Puerto_Rico',\n",
              " 'Qatar',\n",
              " 'Romania',\n",
              " 'Russia',\n",
              " 'Rwanda',\n",
              " 'Saint_Kitts_and_Nevis',\n",
              " 'Saint_Lucia',\n",
              " 'Saint_Vincent_and_the_Grenadines',\n",
              " 'San_Marino',\n",
              " 'Sao_Tome_and_Principe',\n",
              " 'Saudi_Arabia',\n",
              " 'Senegal',\n",
              " 'Serbia',\n",
              " 'Seychelles',\n",
              " 'Sierra_Leone',\n",
              " 'Singapore',\n",
              " 'Sint_Maarten',\n",
              " 'Slovakia',\n",
              " 'Slovenia',\n",
              " 'Somalia',\n",
              " 'South_Africa',\n",
              " 'South_Korea',\n",
              " 'South_Sudan',\n",
              " 'Spain',\n",
              " 'Sri_Lanka',\n",
              " 'Sudan',\n",
              " 'Suriname',\n",
              " 'Sweden',\n",
              " 'Switzerland',\n",
              " 'Syria',\n",
              " 'Taiwan',\n",
              " 'Tajikistan',\n",
              " 'Thailand',\n",
              " 'Timor_Leste',\n",
              " 'Togo',\n",
              " 'Trinidad_and_Tobago',\n",
              " 'Tunisia',\n",
              " 'Turkey',\n",
              " 'Turks_and_Caicos_islands',\n",
              " 'Uganda',\n",
              " 'Ukraine',\n",
              " 'United_Arab_Emirates',\n",
              " 'United_Kingdom',\n",
              " 'United_Republic_of_Tanzania',\n",
              " 'United_States_Virgin_Islands',\n",
              " 'United_States_of_America',\n",
              " 'Uruguay',\n",
              " 'Uzbekistan',\n",
              " 'Venezuela',\n",
              " 'Vietnam',\n",
              " 'Western_Sahara',\n",
              " 'Yemen',\n",
              " 'Zambia',\n",
              " 'Zimbabwe']"
            ]
          },
          "metadata": {
            "tags": []
          },
          "execution_count": 3
        }
      ]
    },
    {
      "cell_type": "code",
      "metadata": {
        "id": "BJRm3E37Cgym",
        "colab_type": "code",
        "colab": {}
      },
      "source": [
        "country_wise_cases=dict()\n",
        "country_wise_deaths=dict()\n",
        "for country in countries:\n",
        "  country_wise_cases[country]=list(grouped.get_group(country)['cases'])[::-1]\n",
        "  country_wise_deaths[country]=list(grouped.get_group(country)['deaths'])[::-1]\n"
      ],
      "execution_count": 0,
      "outputs": []
    },
    {
      "cell_type": "code",
      "metadata": {
        "id": "7o7N4Et9DLzA",
        "colab_type": "code",
        "outputId": "981e2c07-169e-4240-a4e5-d4d60164b7ba",
        "colab": {
          "base_uri": "https://localhost:8080/",
          "height": 265
        }
      },
      "source": [
        "for country in countries:\n",
        "  graph=plt.plot(country_wise_cases[country])\n",
        "  # plt.legend(countries,loc='lower left')\n",
        "plt.show()"
      ],
      "execution_count": 0,
      "outputs": [
        {
          "output_type": "display_data",
          "data": {
            "image/png": "[encoded data removed]",
            "text/plain": [
              "<Figure size 432x288 with 1 Axes>"
            ]
          },
          "metadata": {
            "tags": [],
            "needs_background": "light"
          }
        }
      ]
    },
    {
      "cell_type": "code",
      "metadata": {
        "id": "NyLSSV-jKFv9",
        "colab_type": "code",
        "outputId": "f59663af-753d-440e-f463-25e08ad2ad12",
        "colab": {
          "base_uri": "https://localhost:8080/",
          "height": 265
        }
      },
      "source": [
        "for country in countries:\n",
        "  graph=plt.plot(country_wise_deaths[country])\n",
        "  # plt.legend(countries,loc='lower left')\n",
        "plt.show()"
      ],
      "execution_count": 0,
      "outputs": [
        {
          "output_type": "display_data",
          "data": {
            "image/png": "[encoded data removed]",
            "text/plain": [
              "<Figure size 432x288 with 1 Axes>"
            ]
          },
          "metadata": {
            "tags": [],
            "needs_background": "light"
          }
        }
      ]
    },
    {
      "cell_type": "code",
      "metadata": {
        "id": "O8knzf4KKL_X",
        "colab_type": "code",
        "colab": {}
      },
      "source": [
        "cummulative_country_wise_cases=dict()\n",
        "cummulative_country_wise_deaths=dict()\n",
        "\n",
        "for country in countries:\n",
        "  cummulative_country_wise_cases[country] = []\n",
        "  cummulative_country_wise_deaths[country] = []\n",
        "  cummulative_cases = 0\n",
        "  cummulative_death = 0\n",
        "  total_days = len(country_wise_deaths[country])\n",
        "  for index in range(total_days):\n",
        "    cummulative_cases += country_wise_cases[country][index]\n",
        "    cummulative_death += country_wise_deaths[country][index]\n",
        "    cummulative_country_wise_cases[country].append(cummulative_cases)\n",
        "    cummulative_country_wise_deaths[country].append(cummulative_death)"
      ],
      "execution_count": 0,
      "outputs": []
    },
    {
      "cell_type": "code",
      "metadata": {
        "id": "5YIeKhBOOXPH",
        "colab_type": "code",
        "outputId": "54320871-f274-4c80-f9df-068730ab894d",
        "colab": {
          "base_uri": "https://localhost:8080/",
          "height": 276
        }
      },
      "source": [
        "for country in countries:\n",
        "  graph=plt.plot(cummulative_country_wise_cases[country])\n",
        "  # plt.legend(countries,loc='lower left')\n",
        "plt.show()"
      ],
      "execution_count": 0,
      "outputs": [
        {
          "output_type": "display_data",
          "data": {
            "image/png": "[encoded data removed]",
            "text/plain": [
              "<Figure size 432x288 with 1 Axes>"
            ]
          },
          "metadata": {
            "tags": [],
            "needs_background": "light"
          }
        }
      ]
    },
    {
      "cell_type": "code",
      "metadata": {
        "id": "v9uL6CT6bC44",
        "colab_type": "code",
        "outputId": "ceca38ec-8000-46a9-bdac-e4ea2325a109",
        "colab": {
          "base_uri": "https://localhost:8080/",
          "height": 265
        }
      },
      "source": [
        "for country in countries:\n",
        "  graph=plt.plot(cummulative_country_wise_deaths[country])\n",
        "  # plt.legend(countries,loc='lower left')\n",
        "plt.show()"
      ],
      "execution_count": 0,
      "outputs": [
        {
          "output_type": "display_data",
          "data": {
            "image/png": "[encoded data removed]",
            "text/plain": [
              "<Figure size 432x288 with 1 Axes>"
            ]
          },
          "metadata": {
            "tags": [],
            "needs_background": "light"
          }
        }
      ]
    },
    {
      "cell_type": "code",
      "metadata": {
        "id": "PZWGnVFgbHRL",
        "colab_type": "code",
        "outputId": "dc37338a-1d93-40d7-8a5a-fd2978256e5f",
        "colab": {
          "base_uri": "https://localhost:8080/",
          "height": 1000
        }
      },
      "source": [
        "for country in countries:\n",
        "  print(\"{0:45s}\".format(country),\"{0:10d}\".format(cummulative_country_wise_cases[country][-1]),\"{0:10d}\".format(cummulative_country_wise_deaths[country][-1]))\n",
        "plt.show()"
      ],
      "execution_count": 0,
      "outputs": [
        {
          "output_type": "stream",
          "text": [
            "Afghanistan                                         8676        193\n",
            "Albania                                              969         31\n",
            "Algeria                                             7728        575\n",
            "Andorra                                              762         51\n",
            "Angola                                                58          3\n",
            "Anguilla                                               3          0\n",
            "Antigua_and_Barbuda                                   25          3\n",
            "Argentina                                           9918        416\n",
            "Armenia                                             5606         70\n",
            "Aruba                                                101          3\n",
            "Australia                                           7081        100\n",
            "Austria                                            16332        633\n",
            "Azerbaijan                                          3749         44\n",
            "Bahamas                                               97         11\n",
            "Bahrain                                             8174         12\n",
            "Bangladesh                                         28511        408\n",
            "Barbados                                              90          7\n",
            "Belarus                                            33371        185\n",
            "Belgium                                            56235       9186\n",
            "Belize                                                18          2\n",
            "Benin                                                135          3\n",
            "Bermuda                                              125          9\n",
            "Bhutan                                                21          0\n",
            "Bolivia                                             5187        215\n",
            "Bonaire, Saint Eustatius and Saba                      6          0\n",
            "Bosnia_and_Herzegovina                              2352        139\n",
            "Botswana                                              29          1\n",
            "Brazil                                            310087      20047\n",
            "British_Virgin_Islands                                 8          1\n",
            "Brunei_Darussalam                                    141          1\n",
            "Bulgaria                                            2372        125\n",
            "Burkina_Faso                                         812         52\n",
            "Burundi                                               42          1\n",
            "Cambodia                                             123          0\n",
            "Cameroon                                            4288        156\n",
            "Canada                                             81313       6152\n",
            "Cape_Verde                                           356          3\n",
            "Cases_on_an_international_conveyance_Japan           696          7\n",
            "Cayman_Islands                                       111          1\n",
            "Central_African_Republic                             436          0\n",
            "Chad                                                 588         58\n",
            "Chile                                              57581        589\n",
            "China                                              84079       4638\n",
            "Colombia                                           18330        652\n",
            "Comoros                                               34          1\n",
            "Congo                                                469         16\n",
            "Costa_Rica                                           903         10\n",
            "Cote_dIvoire                                        2231         29\n",
            "Croatia                                             2237         97\n",
            "Cuba                                                1908         80\n",
            "Curaçao                                               16          1\n",
            "Cyprus                                               923         17\n",
            "Czechia                                             8754        306\n",
            "Democratic_Republic_of_the_Congo                    1945         63\n",
            "Denmark                                            11182        561\n",
            "Djibouti                                            2047         10\n",
            "Dominica                                              16          0\n",
            "Dominican_Republic                                 13657        448\n",
            "Ecuador                                            35306       2939\n",
            "Egypt                                              15003        696\n",
            "El_Salvador                                         1640         33\n",
            "Equatorial_Guinea                                    903         10\n",
            "Eritrea                                               39          0\n",
            "Estonia                                             1800         64\n",
            "Eswatini                                             220          2\n",
            "Ethiopia                                             399          5\n",
            "Falkland_Islands_(Malvinas)                           13          0\n",
            "Faroe_Islands                                        187          0\n",
            "Fiji                                                  18          0\n",
            "Finland                                             6493        306\n",
            "France                                            144163      28215\n",
            "French_Polynesia                                      60          0\n",
            "Gabon                                               1567         12\n",
            "Gambia                                                24          1\n",
            "Georgia                                              721         12\n",
            "Germany                                           177212       8174\n",
            "Ghana                                               6486         31\n",
            "Gibraltar                                            151          0\n",
            "Greece                                              2853        168\n",
            "Greenland                                             11          0\n",
            "Grenada                                               22          0\n",
            "Guam                                                 165          5\n",
            "Guatemala                                           2512         48\n",
            "Guernsey                                             252         13\n",
            "Guinea                                              3067         19\n",
            "Guinea_Bissau                                       1089          6\n",
            "Guyana                                               127         10\n",
            "Haiti                                                734         25\n",
            "Holy_See                                              12          0\n",
            "Honduras                                            3204        156\n",
            "Hungary                                             3678        476\n",
            "Iceland                                             1803         10\n",
            "India                                             118447       3583\n",
            "Indonesia                                          20162       1278\n",
            "Iran                                              129341       7249\n",
            "Iraq                                                3877        140\n",
            "Ireland                                            24391       1583\n",
            "Isle_of_Man                                          336         24\n",
            "Israel                                             16690        279\n",
            "Italy                                             228006      32486\n",
            "Jamaica                                              534          9\n",
            "Japan                                              16513        796\n",
            "Jersey                                               306         29\n",
            "Jordan                                               684          9\n",
            "Kazakhstan                                          7597         35\n",
            "Kenya                                               1109         50\n",
            "Kosovo                                              1003         29\n",
            "Kuwait                                             18609        129\n",
            "Kyrgyzstan                                          1350         14\n",
            "Laos                                                  19          0\n",
            "Latvia                                              1025         22\n",
            "Lebanon                                             1024         26\n",
            "Lesotho                                                1          0\n",
            "Liberia                                              240         23\n",
            "Libya                                                 71          3\n",
            "Liechtenstein                                         83          1\n",
            "Lithuania                                           1594         61\n",
            "Luxembourg                                          3980        109\n",
            "Madagascar                                           405          2\n",
            "Malawi                                                72          3\n",
            "Malaysia                                            7059        114\n",
            "Maldives                                            1216          4\n",
            "Mali                                                 947         60\n",
            "Malta                                                599          6\n",
            "Mauritania                                           173          5\n",
            "Mauritius                                            332         10\n",
            "Mexico                                             59567       6510\n",
            "Moldova                                             6704        233\n",
            "Monaco                                                97          5\n",
            "Mongolia                                             141          0\n",
            "Montenegro                                           324          9\n",
            "Montserrat                                            11          1\n",
            "Morocco                                             7211        196\n",
            "Mozambique                                           162          0\n",
            "Myanmar                                              199          6\n",
            "Namibia                                               18          0\n",
            "Nepal                                                487          3\n",
            "Netherlands                                        44700       5775\n",
            "New_Caledonia                                         18          0\n",
            "New_Zealand                                         1154         21\n",
            "Nicaragua                                             25          8\n",
            "Niger                                                924         60\n",
            "Nigeria                                             7016        211\n",
            "North_Macedonia                                     1898        111\n",
            "Northern_Mariana_Islands                              22          2\n",
            "Norway                                              8268        234\n",
            "Oman                                                6370         31\n",
            "Pakistan                                           50694       1067\n",
            "Palestine                                            602          4\n",
            "Panama                                             10116        291\n",
            "Papua_New_Guinea                                       8          0\n",
            "Paraguay                                             836         11\n",
            "Peru                                              108769       3148\n",
            "Philippines                                        13434        846\n",
            "Poland                                             20143        972\n",
            "Portugal                                           29912       1277\n",
            "Puerto_Rico                                         2913        126\n",
            "Qatar                                              38651         17\n",
            "Romania                                            17585       1151\n",
            "Russia                                            317554       3099\n",
            "Rwanda                                               320          0\n",
            "Saint_Kitts_and_Nevis                                 15          0\n",
            "Saint_Lucia                                           18          0\n",
            "Saint_Vincent_and_the_Grenadines                      18          0\n",
            "San_Marino                                           658         41\n",
            "Sao_Tome_and_Principe                                251          8\n",
            "Saudi_Arabia                                       65077        351\n",
            "Senegal                                             2812         33\n",
            "Serbia                                             10919        237\n",
            "Seychelles                                            11          0\n",
            "Sierra_Leone                                         585         35\n",
            "Singapore                                          29812         23\n",
            "Sint_Maarten                                          77         15\n",
            "Slovakia                                            1502         28\n",
            "Slovenia                                            1468        106\n",
            "Somalia                                             1594         61\n",
            "South_Africa                                       19137        369\n",
            "South_Korea                                        11142        264\n",
            "South_Sudan                                          339          6\n",
            "Spain                                             233037      27940\n",
            "Sri_Lanka                                           1055          9\n",
            "Sudan                                               3138        121\n",
            "Suriname                                              11          1\n",
            "Sweden                                             32172       3871\n",
            "Switzerland                                        30611       1637\n",
            "Syria                                                 58          3\n",
            "Taiwan                                               441          7\n",
            "Tajikistan                                          2140         44\n",
            "Thailand                                            3037         56\n",
            "Timor_Leste                                           24          0\n",
            "Togo                                                 354         12\n",
            "Trinidad_and_Tobago                                  116          8\n",
            "Tunisia                                             1046         47\n",
            "Turkey                                            153548       4249\n",
            "Turks_and_Caicos_islands                              12          1\n",
            "Uganda                                               264          0\n",
            "Ukraine                                            19706        579\n",
            "United_Arab_Emirates                               26898        237\n",
            "United_Kingdom                                    250908      36042\n",
            "United_Republic_of_Tanzania                          509         21\n",
            "United_States_Virgin_Islands                          69          6\n",
            "United_States_of_America                         1577287      94702\n",
            "Uruguay                                              749         20\n",
            "Uzbekistan                                          3006         13\n",
            "Venezuela                                            882         10\n",
            "Vietnam                                              324          0\n",
            "Western_Sahara                                         6          0\n",
            "Yemen                                                193         33\n",
            "Zambia                                               866          7\n",
            "Zimbabwe                                              51          4\n"
          ],
          "name": "stdout"
        }
      ]
    },
    {
      "cell_type": "code",
      "metadata": {
        "id": "_mVV_oV8BoQM",
        "colab_type": "code",
        "outputId": "12354713-b216-49d1-c707-ee5bc5aa7b23",
        "colab": {
          "base_uri": "https://localhost:8080/",
          "height": 272
        }
      },
      "source": [
        "#code to generate a list of top 15 countries with highest cummulative deaths and cases.\n",
        "#generates two lists of countries which are sorted in descending order based on the cases/deaths\n",
        "#adjust value of slicing to get top 10/20.\n",
        "countries_and_cases=[]\n",
        "countries_and_deaths=[]\n",
        "\n",
        "for country,cumm_cases in zip(cummulative_country_wise_cases.keys(),cummulative_country_wise_cases.values()):\n",
        "  countries_and_cases.append([country,cumm_cases[-1]])\n",
        "countries_and_cases=sorted(countries_and_cases,key=lambda x:x[1],reverse=True)\n",
        "top_15_cases=list(map(lambda x:x[0],countries_and_cases))[:15]\n",
        "\n",
        "\n",
        "for country,cumm_deaths in zip(cummulative_country_wise_deaths.keys(),cummulative_country_wise_deaths.values()):\n",
        "  countries_and_deaths.append([country,cumm_deaths[-1]])\n",
        "countries_and_deaths=sorted(countries_and_deaths,key=lambda x:x[1],reverse=True)\n",
        "\n",
        "top_15_deaths=list(map(lambda x:x[0],countries_and_deaths))[:15]\n",
        "top_15_cases"
      ],
      "execution_count": 0,
      "outputs": [
        {
          "output_type": "execute_result",
          "data": {
            "text/plain": [
              "['United_States_of_America',\n",
              " 'Russia',\n",
              " 'Brazil',\n",
              " 'United_Kingdom',\n",
              " 'Spain',\n",
              " 'Italy',\n",
              " 'Germany',\n",
              " 'Turkey',\n",
              " 'France',\n",
              " 'Iran',\n",
              " 'India',\n",
              " 'Peru',\n",
              " 'China',\n",
              " 'Canada',\n",
              " 'Saudi_Arabia']"
            ]
          },
          "metadata": {
            "tags": []
          },
          "execution_count": 11
        }
      ]
    },
    {
      "cell_type": "code",
      "metadata": {
        "id": "izAHpcjRlfUS",
        "colab_type": "code",
        "colab": {}
      },
      "source": [
        ""
      ],
      "execution_count": 0,
      "outputs": []
    }
  ]
}