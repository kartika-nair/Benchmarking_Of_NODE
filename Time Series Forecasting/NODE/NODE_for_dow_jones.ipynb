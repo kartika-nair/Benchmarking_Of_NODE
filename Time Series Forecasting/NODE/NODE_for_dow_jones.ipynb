{
  "nbformat": 4,
  "nbformat_minor": 0,
  "metadata": {
    "colab": {
      "name": "NODE_for_dow_jones.ipynb",
      "provenance": [],
      "collapsed_sections": [],
      "authorship_tag": "ABX9TyP6YNMhyK+nn0NrflMW8+ll",
      "include_colab_link": true
    },
    "kernelspec": {
      "name": "python3",
      "display_name": "Python 3"
    },
    "accelerator": "GPU"
  },
  "cells": [
    {
      "cell_type": "markdown",
      "metadata": {
        "id": "view-in-github",
        "colab_type": "text"
      },
      "source": [
        "<a href=\"https://colab.research.google.com/github/saahil-jain/Covid_19_predictor/blob/master/NODE_for_dow_jones.ipynb\" target=\"_parent\"><img src=\"https://colab.research.google.com/assets/colab-badge.svg\" alt=\"Open In Colab\"/></a>"
      ]
    },
    {
      "cell_type": "code",
      "metadata": {
        "id": "uTq1U_aOc_8w",
        "colab_type": "code",
        "colab": {
          "base_uri": "https://localhost:8080/",
          "height": 51
        },
        "outputId": "1309b03e-5b91-4d85-d78e-77c6776fc492"
      },
      "source": [
        "import os\n",
        "import numpy as np\n",
        "import pandas as pd\n",
        "from matplotlib import pyplot as plt\n",
        "from copy import deepcopy\n",
        "import tensorflow\n",
        "from sklearn.model_selection import train_test_split\n",
        "\n",
        "print(os.getcwd())\n",
        "if os.getcwd().split(\"/\")[-1] == \"Covid_19_predictor\":\n",
        "  print(\"Current working directory is already Covid_19_predictor\")\n",
        "elif os.path.isdir(\"Covid_19_predictor\"):\n",
        "  print(\"Covid_19_predictor already Exists\")\n",
        "else:\n",
        "  ! git clone https://github.com/saahil-jain/Covid_19_predictor.git"
      ],
      "execution_count": 125,
      "outputs": [
        {
          "output_type": "stream",
          "text": [
            "/content/Covid_19_predictor\n",
            "Current working directory is already Covid_19_predictor\n"
          ],
          "name": "stdout"
        }
      ]
    },
    {
      "cell_type": "code",
      "metadata": {
        "id": "B3J7_ZDdEeIX",
        "colab_type": "code",
        "colab": {
          "base_uri": "https://localhost:8080/",
          "height": 51
        },
        "outputId": "4775755f-6702-49bf-d138-dfe6bac7557b"
      },
      "source": [
        "%cd Covid_19_predictor/"
      ],
      "execution_count": 126,
      "outputs": [
        {
          "output_type": "stream",
          "text": [
            "[Errno 2] No such file or directory: 'Covid_19_predictor/'\n",
            "/content/Covid_19_predictor\n"
          ],
          "name": "stdout"
        }
      ]
    },
    {
      "cell_type": "code",
      "metadata": {
        "id": "VZLNFa_7FDl-",
        "colab_type": "code",
        "colab": {
          "base_uri": "https://localhost:8080/",
          "height": 204
        },
        "outputId": "f2c5b252-2321-44b2-a671-52eb80c9f782"
      },
      "source": [
        "data=pd.read_csv('DowJones.csv')\n",
        "data.set_index('Date')\n",
        "data.head()"
      ],
      "execution_count": 127,
      "outputs": [
        {
          "output_type": "execute_result",
          "data": {
            "text/html": [
              "<div>\n",
              "<style scoped>\n",
              "    .dataframe tbody tr th:only-of-type {\n",
              "        vertical-align: middle;\n",
              "    }\n",
              "\n",
              "    .dataframe tbody tr th {\n",
              "        vertical-align: top;\n",
              "    }\n",
              "\n",
              "    .dataframe thead th {\n",
              "        text-align: right;\n",
              "    }\n",
              "</style>\n",
              "<table border=\"1\" class=\"dataframe\">\n",
              "  <thead>\n",
              "    <tr style=\"text-align: right;\">\n",
              "      <th></th>\n",
              "      <th>Date</th>\n",
              "      <th>Value</th>\n",
              "    </tr>\n",
              "  </thead>\n",
              "  <tbody>\n",
              "    <tr>\n",
              "      <th>0</th>\n",
              "      <td>1977-09-02</td>\n",
              "      <td>872.31</td>\n",
              "    </tr>\n",
              "    <tr>\n",
              "      <th>1</th>\n",
              "      <td>1977-09-09</td>\n",
              "      <td>857.04</td>\n",
              "    </tr>\n",
              "    <tr>\n",
              "      <th>2</th>\n",
              "      <td>1977-09-16</td>\n",
              "      <td>856.81</td>\n",
              "    </tr>\n",
              "    <tr>\n",
              "      <th>3</th>\n",
              "      <td>1977-09-23</td>\n",
              "      <td>839.14</td>\n",
              "    </tr>\n",
              "    <tr>\n",
              "      <th>4</th>\n",
              "      <td>1977-09-30</td>\n",
              "      <td>847.11</td>\n",
              "    </tr>\n",
              "  </tbody>\n",
              "</table>\n",
              "</div>"
            ],
            "text/plain": [
              "         Date   Value\n",
              "0  1977-09-02  872.31\n",
              "1  1977-09-09  857.04\n",
              "2  1977-09-16  856.81\n",
              "3  1977-09-23  839.14\n",
              "4  1977-09-30  847.11"
            ]
          },
          "metadata": {
            "tags": []
          },
          "execution_count": 127
        }
      ]
    },
    {
      "cell_type": "code",
      "metadata": {
        "id": "nYosF7yHNNqe",
        "colab_type": "code",
        "colab": {
          "base_uri": "https://localhost:8080/",
          "height": 34
        },
        "outputId": "a3796807-d856-4d5a-ad73-424bc7aece17"
      },
      "source": [
        "data.columns"
      ],
      "execution_count": 128,
      "outputs": [
        {
          "output_type": "execute_result",
          "data": {
            "text/plain": [
              "Index(['Date', 'Value'], dtype='object')"
            ]
          },
          "metadata": {
            "tags": []
          },
          "execution_count": 128
        }
      ]
    },
    {
      "cell_type": "code",
      "metadata": {
        "id": "zl0A9oTmFZcA",
        "colab_type": "code",
        "colab": {
          "base_uri": "https://localhost:8080/",
          "height": 282
        },
        "outputId": "b03137e5-62cf-47d8-987f-85069291c7d5"
      },
      "source": [
        "dow_values=list(data.Value)\n",
        "plt.plot(dow_values)"
      ],
      "execution_count": 129,
      "outputs": [
        {
          "output_type": "execute_result",
          "data": {
            "text/plain": [
              "[<matplotlib.lines.Line2D at 0x7f2896521ba8>]"
            ]
          },
          "metadata": {
            "tags": []
          },
          "execution_count": 129
        },
        {
          "output_type": "display_data",
          "data": {
            "image/png": "[encoded data removed]",
            "text/plain": [
              "<Figure size 432x288 with 1 Axes>"
            ]
          },
          "metadata": {
            "tags": [],
            "needs_background": "light"
          }
        }
      ]
    },
    {
      "cell_type": "code",
      "metadata": {
        "id": "yq_LANEXFpTR",
        "colab_type": "code",
        "colab": {}
      },
      "source": [
        "from pandas import DataFrame\n",
        "from pandas import concat\n",
        "\n",
        "def series_to_supervised(data, n_in=1, n_out=1, dropnan=True):\n",
        "\tn_vars = 1 \n",
        "\tdf = DataFrame(data)\n",
        "\tcols, names = list(), list()\n",
        "\t# input sequence (t-n, ... t-1)\n",
        "\tfor i in range(n_in, 0, -1):\n",
        "\t\tcols.append(df.shift(i))\n",
        "\t\tnames += [('x') for j in range(n_vars)]\n",
        "\t# forecast sequence (t, t+1, ... t+n)\n",
        "\tfor i in range(0, n_out):\n",
        "\t\tcols.append(df.shift(-i))\n",
        "\t\tif i == 0:\n",
        "\t\t\tnames += [('y') for j in range(n_vars)]\n",
        "\t\telse:\n",
        "\t\t\tnames += [('var%d(t+%d)' % (j+1, i)) for j in range(n_vars)]\n",
        "\t# put it all together\n",
        "\tagg = concat(cols, axis=1)\n",
        "\tagg.columns = names\n",
        "\t# drop rows with NaN values\n",
        "\tif dropnan:\n",
        "\t\tagg.dropna(inplace=True)\n",
        "\treturn agg\n"
      ],
      "execution_count": 130,
      "outputs": []
    },
    {
      "cell_type": "code",
      "metadata": {
        "id": "8BS6ZOMgNdnk",
        "colab_type": "code",
        "colab": {}
      },
      "source": [
        "#splitting the values of dow into X and y.\n",
        "values = dow_values\n",
        "timeseries = series_to_supervised(values)\n",
        "X=timeseries.x\n",
        "y=timeseries.y\n"
      ],
      "execution_count": 131,
      "outputs": []
    },
    {
      "cell_type": "code",
      "metadata": {
        "id": "3wX8r76oRL53",
        "colab_type": "code",
        "colab": {}
      },
      "source": [
        "def create_sequences(data, seq_length):\n",
        "    xs = []\n",
        "    ys = []\n",
        "\n",
        "    for i in range(len(data)-seq_length-1):\n",
        "        x = data[i:(i+seq_length)]\n",
        "        y = data[i+seq_length]\n",
        "        xs.append(x)\n",
        "        ys.append(y)\n",
        "\n",
        "    return np.array(xs), np.array(ys)"
      ],
      "execution_count": 132,
      "outputs": []
    },
    {
      "cell_type": "code",
      "metadata": {
        "id": "zX-HkytjRzV4",
        "colab_type": "code",
        "colab": {}
      },
      "source": [
        "# seq_length = 5\n",
        "# X, y = create_sequences(dow_values, seq_length)\n"
      ],
      "execution_count": 133,
      "outputs": []
    },
    {
      "cell_type": "code",
      "metadata": {
        "id": "iHbr-GBCOgrv",
        "colab_type": "code",
        "colab": {}
      },
      "source": [
        "#splitting X and y into test and train.\n",
        "X_train, X_test, y_train, y_test=train_test_split(X, y, test_size=0.2, shuffle=False)\n",
        "X_train=np.array(X_train).astype(np.float32)\n",
        "X_test=np.array(X_test).astype(np.float32)\n",
        "y_train=np.array(y_train).astype(np.float32)\n",
        "y_test=np.array(y_test).astype(np.float32)"
      ],
      "execution_count": 134,
      "outputs": []
    },
    {
      "cell_type": "code",
      "metadata": {
        "id": "Tlnq_B1As4HL",
        "colab_type": "code",
        "colab": {
          "base_uri": "https://localhost:8080/",
          "height": 85
        },
        "outputId": "463066f4-cd7b-4f6c-ec0d-24dd54e19057"
      },
      "source": [
        "X_train,y_train"
      ],
      "execution_count": 135,
      "outputs": [
        {
          "output_type": "execute_result",
          "data": {
            "text/plain": [
              "(array([ 872.31,  857.04,  856.81, ..., 9093.24, 9171.61, 9370.07],\n",
              "       dtype=float32),\n",
              " array([ 857.04,  856.81,  839.14, ..., 9171.61, 9370.07, 9321.4 ],\n",
              "       dtype=float32))"
            ]
          },
          "metadata": {
            "tags": []
          },
          "execution_count": 135
        }
      ]
    },
    {
      "cell_type": "code",
      "metadata": {
        "id": "TNPo6ToDPEB7",
        "colab_type": "code",
        "colab": {}
      },
      "source": [
        "import torch\n",
        "import torch.nn as nn\n",
        "import torch.nn.functional as F\n",
        "import torch.optim as optim\n",
        "from torchvision import datasets, transforms\n",
        "from torch.optim.lr_scheduler import StepLR, MultiStepLR"
      ],
      "execution_count": 136,
      "outputs": []
    },
    {
      "cell_type": "code",
      "metadata": {
        "id": "t3Hr30delw_1",
        "colab_type": "code",
        "colab": {}
      },
      "source": [
        "trainset = torch.utils.data.DataLoader((X_train,y_train), batch_size=10, shuffle=False)\n",
        "testset = torch.utils.data.DataLoader((X_test,y_test), batch_size=10, shuffle=False)"
      ],
      "execution_count": 137,
      "outputs": []
    },
    {
      "cell_type": "code",
      "metadata": {
        "id": "yPYO71g7PMd4",
        "colab_type": "code",
        "colab": {}
      },
      "source": [
        "def norm(dim):\n",
        "    return nn.GroupNorm(min(32, dim), dim)\n",
        "    \n",
        "def zip_map(zipped, update_op):\n",
        "    return [update_op(*elems) for elems in zipped]\n",
        "\n",
        "def euler_update(h_list, dh_list, dt):\n",
        "    return zip_map(zip(h_list, dh_list), lambda h, dh: h + dt * dh)\n",
        "\n",
        "def euler_step(func, dt, state):\n",
        "    return euler_update(state, func(state), dt)\n",
        "\n",
        "def rk2_step(func, dt, state, **kwargs):\n",
        "    k1 = func(state, **kwargs)\n",
        "    k2 = func(euler_update(state, k1, dt), **kwargs)\n",
        "    return zip_map(zip(state, k1, k2),\n",
        "                   lambda h, dk1, dk2: h + dt * (dk1 + dk2) / 2)\n",
        "\n",
        "def rk4_step(func, dt, state, **kwargs):\n",
        "    k1 = func(state, **kwargs)\n",
        "    k2 = func(euler_update(state, k1, dt / 2), **kwargs)\n",
        "    k3 = func(euler_update(state, k2, dt / 2), **kwargs)\n",
        "    k4 = func(euler_update(state, k3, dt), **kwargs)\n",
        "\n",
        "    return zip_map(\n",
        "        zip(state, k1, k2, k3, k4), lambda h, dk1, dk2, dk3, dk4: h + dt * ( dk1 + 2 * dk2 + 2 * dk3 + dk4) / 6,)\n",
        "    \n",
        "def forward_dynamics(state, nnet):\n",
        "    t, y = state\n",
        "    return [1.0, nnet(t, y)]\n",
        "\n",
        "def backward_dynamics(state, nnet):\n",
        "    with torch.set_grad_enabled(True):\n",
        "        t, ht, at = state[0], state[1], state[2]\n",
        "        ht = ht.detach()\n",
        "        ht.requires_grad_(True)\n",
        "        ht_new = nnet(t, ht)\n",
        "        gradients = torch.autograd.grad(ht_new, [ht] + [w for w in nnet.parameters()], at, allow_unused=True, retain_graph=True)\n",
        "    return [1.0, ht_new, *gradients]\n",
        "\n",
        "class NeuralODEFunction(torch.autograd.Function):\n",
        "    @staticmethod\n",
        "    def forward(ctx, input, nnet, solver, t, *params):\n",
        "        delta_t = t[1:] - t[:-1]\n",
        "\n",
        "        ctx.nnet = nnet\n",
        "        ctx.solver = solver\n",
        "        ctx.delta_t = delta_t\n",
        "\n",
        "        state = [0, input]\n",
        "        for dt in delta_t:\n",
        "            state = solver(func=forward_dynamics, dt=float(dt), state=state, nnet=nnet)\n",
        "        output = state[1]\n",
        "        \n",
        "        ctx.save_for_backward(input, output)\n",
        "        return output\n",
        "\n",
        "    @staticmethod\n",
        "    def backward(ctx, output_gradients):\n",
        "        input, output = ctx.saved_tensors\n",
        "        nnet = ctx.nnet\n",
        "        solver = ctx.solver\n",
        "        delta_t = ctx.delta_t\n",
        "        params = nnet.parameters()\n",
        "\n",
        "        grad_weights = []\n",
        "        for p in params:\n",
        "            grad_weights.append(torch.zeros_like(p))\n",
        "\n",
        "        state = [1, output, output_gradients, *grad_weights]\n",
        "\n",
        "        for i, dt in enumerate(delta_t):\n",
        "            state = solver(func=backward_dynamics, dt=float(dt), state=state, nnet=nnet)\n",
        "\n",
        "        grad_input = state[2]\n",
        "        grad_weights = state[3:]\n",
        "        return (grad_input, None, None, None, *grad_weights)\n",
        "\n",
        "class NeuralODE(nn.Module):\n",
        "    def __init__(self, model, solver=rk4_step, t=np.linspace(0,99,99)):\n",
        "      super().__init__()\n",
        "      self.t = t\n",
        "      self.model = model\n",
        "      self.solver = solver\n",
        "      self.params = [w for w in model.parameters()]\n",
        "\n",
        "    def changetime(self, x):\n",
        "      self.t = np.array([n+1 for n in range(x)])\n",
        "\n",
        "    def forward(self, input):\n",
        "      return NeuralODEFunction.apply(input, self.model, self.solver, self.t, *self.params)\n",
        "\n",
        "class arguments:\n",
        "  def __init__(self):\n",
        "    self.batch_size=64\n",
        "    self.test_batch_size=1000\n",
        "    self.epochs=15\n",
        "    self.lr=0.01\n",
        "    self.gamma=1\n",
        "    self.seed=1\n",
        "    self.log_interval=5\n",
        "    \n",
        "args=arguments()\n",
        "device = torch.device(\"cuda\")"
      ],
      "execution_count": 138,
      "outputs": []
    },
    {
      "cell_type": "code",
      "metadata": {
        "id": "V3hNgJAQPSX3",
        "colab_type": "code",
        "colab": {}
      },
      "source": [
        "class Net(nn.Module):\n",
        "    def __init__(self):\n",
        "      super(Net, self).__init__()\n",
        "      self.fc1 = nn.Linear(1, 64)\n",
        "      self.fc2 = nn.Linear(64, 64)\n",
        "      self.fc3 = nn.Linear(64, 256)\n",
        "      # self.fc4 = nn.Linear(128, 256)\n",
        "      # self.fc5 = nn.Linear(256, 512)\n",
        "      # self.fc6 = nn.Linear(256, 256)\n",
        "      # self.fc7 = nn.Linear(512, 256)\n",
        "      # self.fc8 = nn.Linear(256, 128)\n",
        "      self.fc9 = nn.Linear(256, 64)\n",
        "      self.fc10 = nn.Linear(64, 64)\n",
        "      self.fc11 = nn.Linear(64, 1)\n",
        "      self.fc12 = nn.Linear(1,1)\n",
        "\n",
        "    def forward(self, t, x):\n",
        "      # x = torch.tanh(self.fc1(x))\n",
        "      # x = torch.tanh(self.fc2(x))\n",
        "      # x = torch.tanh(self.fc3(x))\n",
        "      # # x = self.fc4(x)\n",
        "      # # x = self.fc5(x)\n",
        "      # # x = self.fc6(x)\n",
        "      # # x = self.fc7(x)\n",
        "      # # x = self.fc8(x)\n",
        "      # x = torch.tanh(self.fc9(x))\n",
        "      # x = torch.tanh(self.fc10(x))\n",
        "      # x = torch.tanh(self.fc11(x))\n",
        "      x = self.fc12(x)\n",
        "      return x\n"
      ],
      "execution_count": 142,
      "outputs": []
    },
    {
      "cell_type": "code",
      "metadata": {
        "id": "uj_tksB7PWjI",
        "colab_type": "code",
        "colab": {}
      },
      "source": [
        "#train function\n",
        "\n",
        "def train(args, model, device, train_loader, optimizer, epoch, loss_values):\n",
        "  #optimizer = optim.Rprop(model.parameters(), lr=0.01, etas=(0.5, 1.2), step_sizes=(1e-06, 50))\n",
        "  for (x,y) in enumerate(train_loader):\n",
        "    y=y.view(2,1664,1)\n",
        "    data = y[0]\n",
        "    target = y[1]\n",
        "    data, target = data.to(device), target.to(device)\n",
        "    optimizer.zero_grad()\n",
        "    output = model(data)\n",
        "    loss = torch.sqrt(loss_function(output,target))\n",
        "    loss.backward()\n",
        "    optimizer.step()\n",
        "    loss_values.append(loss)\n",
        "    print(\"{0:45s}\".format('Train Loss'), loss.item())\n",
        "    "
      ],
      "execution_count": 143,
      "outputs": []
    },
    {
      "cell_type": "code",
      "metadata": {
        "id": "K8l3BA7dPZAf",
        "colab_type": "code",
        "colab": {
          "base_uri": "https://localhost:8080/",
          "height": 1000
        },
        "outputId": "2df8afec-41ce-4f01-950a-b391d83093cc"
      },
      "source": [
        "#training loop\n",
        "%%time\n",
        "loss_values=[]\n",
        "\n",
        "model_cases = Net().to(device)\n",
        "model_cases = NeuralODE(model_cases)\n",
        "loss_function=nn.MSELoss(reduction='mean')\n",
        "\n",
        "\n",
        "optimizer = optim.Adam(model_cases.parameters(), lr = 0.001)\n",
        "\n",
        "NODE_loss_cases = {}\n",
        "scheduler = StepLR(optimizer, step_size=1, gamma=args.gamma)\n",
        "\n",
        "epochs = 15\n",
        "\n",
        "for epoch in range(epochs):\n",
        "    print('\\nTrain Epoch: {}'.format(epoch))\n",
        "    train(args, model_cases, device, trainset, optimizer, epoch, loss_values)\n",
        "    #scheduler.step()\n",
        "\n",
        "plt.title('MSE LOSS')\n",
        "plt.plot(loss_values)\n",
        "plt.xlabel('Epoch#')\n",
        "plt.ylabel('MSE')\n"
      ],
      "execution_count": 144,
      "outputs": [
        {
          "output_type": "stream",
          "text": [
            "\n",
            "Train Epoch: 0\n"
          ],
          "name": "stdout"
        },
        {
          "output_type": "error",
          "ename": "RuntimeError",
          "evalue": "ignored",
          "traceback": [
            "\u001b[0;31m---------------------------------------------------------------------------\u001b[0m",
            "\u001b[0;31mRuntimeError\u001b[0m                              Traceback (most recent call last)",
            "\u001b[0;32m<ipython-input-144-7ce4ca1b943a>\u001b[0m in \u001b[0;36m<module>\u001b[0;34m()\u001b[0m\n\u001b[0;32m----> 1\u001b[0;31m \u001b[0mget_ipython\u001b[0m\u001b[0;34m(\u001b[0m\u001b[0;34m)\u001b[0m\u001b[0;34m.\u001b[0m\u001b[0mrun_cell_magic\u001b[0m\u001b[0;34m(\u001b[0m\u001b[0;34m'time'\u001b[0m\u001b[0;34m,\u001b[0m \u001b[0;34m''\u001b[0m\u001b[0;34m,\u001b[0m \u001b[0;34m\"loss_values=[]\\n\\nmodel_cases = Net().to(device)\\nmodel_cases = NeuralODE(model_cases)\\nloss_function=nn.MSELoss(reduction='mean')\\n\\n\\noptimizer = optim.Adam(model_cases.parameters(), lr = 0.001)\\n\\nNODE_loss_cases = {}\\nscheduler = StepLR(optimizer, step_size=1, gamma=args.gamma)\\n\\nepochs = 15\\n\\nfor epoch in range(epochs):\\n    print('\\\\nTrain Epoch: {}'.format(epoch))\\n    train(args, model_cases, device, trainset, optimizer, epoch, loss_values)\\n    #scheduler.step()\\n\\nplt.title('MSE LOSS')\\nplt.plot(loss_values)\\nplt.xlabel('Epoch#')\\nplt.ylabel('MSE')\"\u001b[0m\u001b[0;34m)\u001b[0m\u001b[0;34m\u001b[0m\u001b[0;34m\u001b[0m\u001b[0m\n\u001b[0m",
            "\u001b[0;32m/usr/local/lib/python3.6/dist-packages/IPython/core/interactiveshell.py\u001b[0m in \u001b[0;36mrun_cell_magic\u001b[0;34m(self, magic_name, line, cell)\u001b[0m\n\u001b[1;32m   2115\u001b[0m             \u001b[0mmagic_arg_s\u001b[0m \u001b[0;34m=\u001b[0m \u001b[0mself\u001b[0m\u001b[0;34m.\u001b[0m\u001b[0mvar_expand\u001b[0m\u001b[0;34m(\u001b[0m\u001b[0mline\u001b[0m\u001b[0;34m,\u001b[0m \u001b[0mstack_depth\u001b[0m\u001b[0;34m)\u001b[0m\u001b[0;34m\u001b[0m\u001b[0;34m\u001b[0m\u001b[0m\n\u001b[1;32m   2116\u001b[0m             \u001b[0;32mwith\u001b[0m \u001b[0mself\u001b[0m\u001b[0;34m.\u001b[0m\u001b[0mbuiltin_trap\u001b[0m\u001b[0;34m:\u001b[0m\u001b[0;34m\u001b[0m\u001b[0;34m\u001b[0m\u001b[0m\n\u001b[0;32m-> 2117\u001b[0;31m                 \u001b[0mresult\u001b[0m \u001b[0;34m=\u001b[0m \u001b[0mfn\u001b[0m\u001b[0;34m(\u001b[0m\u001b[0mmagic_arg_s\u001b[0m\u001b[0;34m,\u001b[0m \u001b[0mcell\u001b[0m\u001b[0;34m)\u001b[0m\u001b[0;34m\u001b[0m\u001b[0;34m\u001b[0m\u001b[0m\n\u001b[0m\u001b[1;32m   2118\u001b[0m             \u001b[0;32mreturn\u001b[0m \u001b[0mresult\u001b[0m\u001b[0;34m\u001b[0m\u001b[0;34m\u001b[0m\u001b[0m\n\u001b[1;32m   2119\u001b[0m \u001b[0;34m\u001b[0m\u001b[0m\n",
            "\u001b[0;32m<decorator-gen-60>\u001b[0m in \u001b[0;36mtime\u001b[0;34m(self, line, cell, local_ns)\u001b[0m\n",
            "\u001b[0;32m/usr/local/lib/python3.6/dist-packages/IPython/core/magic.py\u001b[0m in \u001b[0;36m<lambda>\u001b[0;34m(f, *a, **k)\u001b[0m\n\u001b[1;32m    186\u001b[0m     \u001b[0;31m# but it's overkill for just that one bit of state.\u001b[0m\u001b[0;34m\u001b[0m\u001b[0;34m\u001b[0m\u001b[0;34m\u001b[0m\u001b[0m\n\u001b[1;32m    187\u001b[0m     \u001b[0;32mdef\u001b[0m \u001b[0mmagic_deco\u001b[0m\u001b[0;34m(\u001b[0m\u001b[0marg\u001b[0m\u001b[0;34m)\u001b[0m\u001b[0;34m:\u001b[0m\u001b[0;34m\u001b[0m\u001b[0;34m\u001b[0m\u001b[0m\n\u001b[0;32m--> 188\u001b[0;31m         \u001b[0mcall\u001b[0m \u001b[0;34m=\u001b[0m \u001b[0;32mlambda\u001b[0m \u001b[0mf\u001b[0m\u001b[0;34m,\u001b[0m \u001b[0;34m*\u001b[0m\u001b[0ma\u001b[0m\u001b[0;34m,\u001b[0m \u001b[0;34m**\u001b[0m\u001b[0mk\u001b[0m\u001b[0;34m:\u001b[0m \u001b[0mf\u001b[0m\u001b[0;34m(\u001b[0m\u001b[0;34m*\u001b[0m\u001b[0ma\u001b[0m\u001b[0;34m,\u001b[0m \u001b[0;34m**\u001b[0m\u001b[0mk\u001b[0m\u001b[0;34m)\u001b[0m\u001b[0;34m\u001b[0m\u001b[0;34m\u001b[0m\u001b[0m\n\u001b[0m\u001b[1;32m    189\u001b[0m \u001b[0;34m\u001b[0m\u001b[0m\n\u001b[1;32m    190\u001b[0m         \u001b[0;32mif\u001b[0m \u001b[0mcallable\u001b[0m\u001b[0;34m(\u001b[0m\u001b[0marg\u001b[0m\u001b[0;34m)\u001b[0m\u001b[0;34m:\u001b[0m\u001b[0;34m\u001b[0m\u001b[0;34m\u001b[0m\u001b[0m\n",
            "\u001b[0;32m/usr/local/lib/python3.6/dist-packages/IPython/core/magics/execution.py\u001b[0m in \u001b[0;36mtime\u001b[0;34m(self, line, cell, local_ns)\u001b[0m\n\u001b[1;32m   1191\u001b[0m         \u001b[0;32melse\u001b[0m\u001b[0;34m:\u001b[0m\u001b[0;34m\u001b[0m\u001b[0;34m\u001b[0m\u001b[0m\n\u001b[1;32m   1192\u001b[0m             \u001b[0mst\u001b[0m \u001b[0;34m=\u001b[0m \u001b[0mclock2\u001b[0m\u001b[0;34m(\u001b[0m\u001b[0;34m)\u001b[0m\u001b[0;34m\u001b[0m\u001b[0;34m\u001b[0m\u001b[0m\n\u001b[0;32m-> 1193\u001b[0;31m             \u001b[0mexec\u001b[0m\u001b[0;34m(\u001b[0m\u001b[0mcode\u001b[0m\u001b[0;34m,\u001b[0m \u001b[0mglob\u001b[0m\u001b[0;34m,\u001b[0m \u001b[0mlocal_ns\u001b[0m\u001b[0;34m)\u001b[0m\u001b[0;34m\u001b[0m\u001b[0;34m\u001b[0m\u001b[0m\n\u001b[0m\u001b[1;32m   1194\u001b[0m             \u001b[0mend\u001b[0m \u001b[0;34m=\u001b[0m \u001b[0mclock2\u001b[0m\u001b[0;34m(\u001b[0m\u001b[0;34m)\u001b[0m\u001b[0;34m\u001b[0m\u001b[0;34m\u001b[0m\u001b[0m\n\u001b[1;32m   1195\u001b[0m             \u001b[0mout\u001b[0m \u001b[0;34m=\u001b[0m \u001b[0;32mNone\u001b[0m\u001b[0;34m\u001b[0m\u001b[0;34m\u001b[0m\u001b[0m\n",
            "\u001b[0;32m<timed exec>\u001b[0m in \u001b[0;36m<module>\u001b[0;34m()\u001b[0m\n",
            "\u001b[0;32m<ipython-input-143-1a1e6071f6ce>\u001b[0m in \u001b[0;36mtrain\u001b[0;34m(args, model, device, train_loader, optimizer, epoch, loss_values)\u001b[0m\n\u001b[1;32m     11\u001b[0m     \u001b[0moutput\u001b[0m \u001b[0;34m=\u001b[0m \u001b[0mmodel\u001b[0m\u001b[0;34m(\u001b[0m\u001b[0mdata\u001b[0m\u001b[0;34m)\u001b[0m\u001b[0;34m\u001b[0m\u001b[0;34m\u001b[0m\u001b[0m\n\u001b[1;32m     12\u001b[0m     \u001b[0mloss\u001b[0m \u001b[0;34m=\u001b[0m \u001b[0mtorch\u001b[0m\u001b[0;34m.\u001b[0m\u001b[0msqrt\u001b[0m\u001b[0;34m(\u001b[0m\u001b[0mloss_function\u001b[0m\u001b[0;34m(\u001b[0m\u001b[0moutput\u001b[0m\u001b[0;34m,\u001b[0m\u001b[0mtarget\u001b[0m\u001b[0;34m)\u001b[0m\u001b[0;34m)\u001b[0m\u001b[0;34m\u001b[0m\u001b[0;34m\u001b[0m\u001b[0m\n\u001b[0;32m---> 13\u001b[0;31m     \u001b[0mloss\u001b[0m\u001b[0;34m.\u001b[0m\u001b[0mbackward\u001b[0m\u001b[0;34m(\u001b[0m\u001b[0;34m)\u001b[0m\u001b[0;34m\u001b[0m\u001b[0;34m\u001b[0m\u001b[0m\n\u001b[0m\u001b[1;32m     14\u001b[0m     \u001b[0moptimizer\u001b[0m\u001b[0;34m.\u001b[0m\u001b[0mstep\u001b[0m\u001b[0;34m(\u001b[0m\u001b[0;34m)\u001b[0m\u001b[0;34m\u001b[0m\u001b[0;34m\u001b[0m\u001b[0m\n\u001b[1;32m     15\u001b[0m     \u001b[0mloss_values\u001b[0m\u001b[0;34m.\u001b[0m\u001b[0mappend\u001b[0m\u001b[0;34m(\u001b[0m\u001b[0mloss\u001b[0m\u001b[0;34m)\u001b[0m\u001b[0;34m\u001b[0m\u001b[0;34m\u001b[0m\u001b[0m\n",
            "\u001b[0;32m/usr/local/lib/python3.6/dist-packages/torch/tensor.py\u001b[0m in \u001b[0;36mbackward\u001b[0;34m(self, gradient, retain_graph, create_graph)\u001b[0m\n\u001b[1;32m    196\u001b[0m                 \u001b[0mproducts\u001b[0m\u001b[0;34m.\u001b[0m \u001b[0mDefaults\u001b[0m \u001b[0mto\u001b[0m\u001b[0;31m \u001b[0m\u001b[0;31m`\u001b[0m\u001b[0;31m`\u001b[0m\u001b[0;32mFalse\u001b[0m\u001b[0;31m`\u001b[0m\u001b[0;31m`\u001b[0m\u001b[0;34m.\u001b[0m\u001b[0;34m\u001b[0m\u001b[0;34m\u001b[0m\u001b[0m\n\u001b[1;32m    197\u001b[0m         \"\"\"\n\u001b[0;32m--> 198\u001b[0;31m         \u001b[0mtorch\u001b[0m\u001b[0;34m.\u001b[0m\u001b[0mautograd\u001b[0m\u001b[0;34m.\u001b[0m\u001b[0mbackward\u001b[0m\u001b[0;34m(\u001b[0m\u001b[0mself\u001b[0m\u001b[0;34m,\u001b[0m \u001b[0mgradient\u001b[0m\u001b[0;34m,\u001b[0m \u001b[0mretain_graph\u001b[0m\u001b[0;34m,\u001b[0m \u001b[0mcreate_graph\u001b[0m\u001b[0;34m)\u001b[0m\u001b[0;34m\u001b[0m\u001b[0;34m\u001b[0m\u001b[0m\n\u001b[0m\u001b[1;32m    199\u001b[0m \u001b[0;34m\u001b[0m\u001b[0m\n\u001b[1;32m    200\u001b[0m     \u001b[0;32mdef\u001b[0m \u001b[0mregister_hook\u001b[0m\u001b[0;34m(\u001b[0m\u001b[0mself\u001b[0m\u001b[0;34m,\u001b[0m \u001b[0mhook\u001b[0m\u001b[0;34m)\u001b[0m\u001b[0;34m:\u001b[0m\u001b[0;34m\u001b[0m\u001b[0;34m\u001b[0m\u001b[0m\n",
            "\u001b[0;32m/usr/local/lib/python3.6/dist-packages/torch/autograd/__init__.py\u001b[0m in \u001b[0;36mbackward\u001b[0;34m(tensors, grad_tensors, retain_graph, create_graph, grad_variables)\u001b[0m\n\u001b[1;32m     98\u001b[0m     Variable._execution_engine.run_backward(\n\u001b[1;32m     99\u001b[0m         \u001b[0mtensors\u001b[0m\u001b[0;34m,\u001b[0m \u001b[0mgrad_tensors\u001b[0m\u001b[0;34m,\u001b[0m \u001b[0mretain_graph\u001b[0m\u001b[0;34m,\u001b[0m \u001b[0mcreate_graph\u001b[0m\u001b[0;34m,\u001b[0m\u001b[0;34m\u001b[0m\u001b[0;34m\u001b[0m\u001b[0m\n\u001b[0;32m--> 100\u001b[0;31m         allow_unreachable=True)  # allow_unreachable flag\n\u001b[0m\u001b[1;32m    101\u001b[0m \u001b[0;34m\u001b[0m\u001b[0m\n\u001b[1;32m    102\u001b[0m \u001b[0;34m\u001b[0m\u001b[0m\n",
            "\u001b[0;31mRuntimeError\u001b[0m: unsupported operand type(s) for *: 'float' and 'NoneType'"
          ]
        }
      ]
    },
    {
      "cell_type": "code",
      "metadata": {
        "id": "3IF7kG3xOW_i",
        "colab_type": "code",
        "colab": {}
      },
      "source": [
        "#test function\n",
        "\n",
        "def test(args, model, device, test_loader):\n",
        "  model.eval()\n",
        "  test_loss = 0\n",
        "  correct = 0\n",
        "  total = 0\n",
        "  with torch.no_grad():\n",
        "    for (x,y) in enumerate(test_loader):\n",
        "      y=y.view(2,417,1)\n",
        "      data = y[0]\n",
        "      target = y[1]\n",
        "      #print(data)\n",
        "      data, target = data.to(device), target.to(device)\n",
        "      output = model(data)\n",
        "      for i,j,k in zip(data,output,target):\n",
        "        print(i[0],j[0],k[0])\n",
        "      loss = torch.sqrt(loss_function(output,target))\n",
        "      test_loss += loss\n",
        "      #plt.plot(target.cpu())\n",
        "\n",
        "    return test_loss\n",
        "\n",
        "\n",
        "test_loss=test(args, model_cases, device, testset)\n",
        "print(test_loss)"
      ],
      "execution_count": null,
      "outputs": []
    },
    {
      "cell_type": "code",
      "metadata": {
        "id": "kDp9S7Jawc8b",
        "colab_type": "code",
        "colab": {}
      },
      "source": [
        ""
      ],
      "execution_count": null,
      "outputs": []
    }
  ]
}