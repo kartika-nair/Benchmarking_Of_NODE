{
  "nbformat": 4,
  "nbformat_minor": 0,
  "metadata": {
    "colab": {
      "name": "CNN_CIFAR-10.ipynb",
      "provenance": []
    },
    "kernelspec": {
      "name": "python3",
      "display_name": "Python 3"
    },
    "accelerator": "GPU"
  },
  "cells": [
    {
      "cell_type": "code",
      "metadata": {
        "id": "t_vqQD_W8fpH",
        "colab_type": "code",
        "colab": {}
      },
      "source": [
        "import numpy as np\n",
        "import matplotlib.pyplot as plt\n",
        "%matplotlib inline\n",
        "from __future__ import print_function\n",
        "import keras\n",
        "from keras.models import Sequential\n",
        "from keras.layers import Dense, Conv2D, MaxPooling2D, Dropout, Flatten, BatchNormalization\n",
        "from keras.optimizers import SGD"
      ],
      "execution_count": null,
      "outputs": []
    },
    {
      "cell_type": "code",
      "metadata": {
        "id": "6xO9y6leM4r9",
        "colab_type": "code",
        "colab": {
          "base_uri": "https://localhost:8080/",
          "height": 51
        },
        "outputId": "a396ed2c-20c6-40be-9995-e06ea6485d52"
      },
      "source": [
        "from keras.datasets import cifar10\n",
        "(train_images, train_labels), (test_images, test_labels) = cifar10.load_data()"
      ],
      "execution_count": null,
      "outputs": [
        {
          "output_type": "stream",
          "text": [
            "Downloading data from https://www.cs.toronto.edu/~kriz/cifar-10-python.tar.gz\n",
            "170500096/170498071 [==============================] - 11s 0us/step\n"
          ],
          "name": "stdout"
        }
      ]
    },
    {
      "cell_type": "code",
      "metadata": {
        "id": "L0azwFRuGL-s",
        "colab_type": "code",
        "colab": {}
      },
      "source": [
        "from keras.utils import to_categorical"
      ],
      "execution_count": null,
      "outputs": []
    },
    {
      "cell_type": "code",
      "metadata": {
        "id": "DgFUB6t5Jn0Y",
        "colab_type": "code",
        "colab": {}
      },
      "source": [
        "nRows,nCols,nDims = train_images.shape[1:]\n",
        "train_data = train_images.reshape(train_images.shape[0], nRows, nCols, nDims)\n",
        "test_data = test_images.reshape(test_images.shape[0], nRows, nCols, nDims)\n",
        "input_shape = (nRows, nCols, nDims)\n",
        "\n",
        "train_data = train_data.astype('float32')\n",
        "test_data = test_data.astype('float32')\n",
        "\n",
        "train_data /= 255\n",
        "test_data /= 255\n",
        "\n",
        "train_labels_one_hot = to_categorical(train_labels)\n",
        "test_labels_one_hot = to_categorical(test_labels)"
      ],
      "execution_count": null,
      "outputs": []
    },
    {
      "cell_type": "code",
      "metadata": {
        "id": "WaLYkWZP3s5Z",
        "colab_type": "code",
        "colab": {}
      },
      "source": [
        "def define_model():\n",
        "\tmodel = Sequential()\n",
        "\tmodel.add(Conv2D(32, (3, 3), activation='relu', kernel_initializer='he_uniform', padding='same', input_shape=(32, 32, 3)))\n",
        "\tmodel.add(BatchNormalization())\n",
        "\tmodel.add(Conv2D(32, (3, 3), activation='relu', kernel_initializer='he_uniform', padding='same'))\n",
        "\tmodel.add(BatchNormalization())\n",
        "\tmodel.add(MaxPooling2D((2, 2)))\n",
        "\tmodel.add(Dropout(0.2))\n",
        "\tmodel.add(Conv2D(64, (3, 3), activation='relu', kernel_initializer='he_uniform', padding='same'))\n",
        "\tmodel.add(BatchNormalization())\n",
        "\tmodel.add(Conv2D(64, (3, 3), activation='relu', kernel_initializer='he_uniform', padding='same'))\n",
        "\tmodel.add(BatchNormalization())\n",
        "\tmodel.add(MaxPooling2D((2, 2)))\n",
        "\tmodel.add(Dropout(0.3))\n",
        "\tmodel.add(Conv2D(128, (3, 3), activation='relu', kernel_initializer='he_uniform', padding='same'))\n",
        "\tmodel.add(BatchNormalization())\n",
        "\tmodel.add(Conv2D(128, (3, 3), activation='relu', kernel_initializer='he_uniform', padding='same'))\n",
        "\tmodel.add(BatchNormalization())\n",
        "\tmodel.add(MaxPooling2D((2, 2)))\n",
        "\tmodel.add(Dropout(0.4))\n",
        "\tmodel.add(Flatten())\n",
        "\tmodel.add(Dense(128, activation='relu', kernel_initializer='he_uniform'))\n",
        "\tmodel.add(BatchNormalization())\n",
        "\tmodel.add(Dropout(0.5))\n",
        "\tmodel.add(Dense(10, activation='softmax'))\n",
        "\t# compile model\n",
        "\topt = SGD(lr=0.001, momentum=0.9)\n",
        "\tmodel.compile(optimizer=opt, loss='categorical_crossentropy', metrics=['accuracy'])\n",
        "\treturn model"
      ],
      "execution_count": null,
      "outputs": []
    },
    {
      "cell_type": "code",
      "metadata": {
        "id": "dDZ_t9ju9ZWB",
        "colab_type": "code",
        "colab": {
          "base_uri": "https://localhost:8080/",
          "height": 1000
        },
        "outputId": "f23962ae-84b9-4558-c5e9-0a117a37444f"
      },
      "source": [
        "model1 = define_model()\n",
        "batch_size = 256\n",
        "epochs = 50\n",
        "model1.compile(optimizer='rmsprop', loss='categorical_crossentropy', metrics=['accuracy'])\n",
        "\n",
        "model1.summary()\n",
        "\n",
        "history = model1.fit(train_data, train_labels_one_hot, batch_size=batch_size, epochs=epochs, verbose=1, \n",
        "                   validation_data=(test_data, test_labels_one_hot))\n",
        "model1.evaluate(test_data, test_labels_one_hot)"
      ],
      "execution_count": null,
      "outputs": [
        {
          "output_type": "stream",
          "text": [
            "Model: \"sequential_1\"\n",
            "_________________________________________________________________\n",
            "Layer (type)                 Output Shape              Param #   \n",
            "=================================================================\n",
            "conv2d_1 (Conv2D)            (None, 32, 32, 32)        896       \n",
            "_________________________________________________________________\n",
            "batch_normalization_1 (Batch (None, 32, 32, 32)        128       \n",
            "_________________________________________________________________\n",
            "conv2d_2 (Conv2D)            (None, 32, 32, 32)        9248      \n",
            "_________________________________________________________________\n",
            "batch_normalization_2 (Batch (None, 32, 32, 32)        128       \n",
            "_________________________________________________________________\n",
            "max_pooling2d_1 (MaxPooling2 (None, 16, 16, 32)        0         \n",
            "_________________________________________________________________\n",
            "dropout_1 (Dropout)          (None, 16, 16, 32)        0         \n",
            "_________________________________________________________________\n",
            "conv2d_3 (Conv2D)            (None, 16, 16, 64)        18496     \n",
            "_________________________________________________________________\n",
            "batch_normalization_3 (Batch (None, 16, 16, 64)        256       \n",
            "_________________________________________________________________\n",
            "conv2d_4 (Conv2D)            (None, 16, 16, 64)        36928     \n",
            "_________________________________________________________________\n",
            "batch_normalization_4 (Batch (None, 16, 16, 64)        256       \n",
            "_________________________________________________________________\n",
            "max_pooling2d_2 (MaxPooling2 (None, 8, 8, 64)          0         \n",
            "_________________________________________________________________\n",
            "dropout_2 (Dropout)          (None, 8, 8, 64)          0         \n",
            "_________________________________________________________________\n",
            "conv2d_5 (Conv2D)            (None, 8, 8, 128)         73856     \n",
            "_________________________________________________________________\n",
            "batch_normalization_5 (Batch (None, 8, 8, 128)         512       \n",
            "_________________________________________________________________\n",
            "conv2d_6 (Conv2D)            (None, 8, 8, 128)         147584    \n",
            "_________________________________________________________________\n",
            "batch_normalization_6 (Batch (None, 8, 8, 128)         512       \n",
            "_________________________________________________________________\n",
            "max_pooling2d_3 (MaxPooling2 (None, 4, 4, 128)         0         \n",
            "_________________________________________________________________\n",
            "dropout_3 (Dropout)          (None, 4, 4, 128)         0         \n",
            "_________________________________________________________________\n",
            "flatten_1 (Flatten)          (None, 2048)              0         \n",
            "_________________________________________________________________\n",
            "dense_1 (Dense)              (None, 128)               262272    \n",
            "_________________________________________________________________\n",
            "batch_normalization_7 (Batch (None, 128)               512       \n",
            "_________________________________________________________________\n",
            "dropout_4 (Dropout)          (None, 128)               0         \n",
            "_________________________________________________________________\n",
            "dense_2 (Dense)              (None, 10)                1290      \n",
            "=================================================================\n",
            "Total params: 552,874\n",
            "Trainable params: 551,722\n",
            "Non-trainable params: 1,152\n",
            "_________________________________________________________________\n",
            "Train on 50000 samples, validate on 10000 samples\n",
            "Epoch 1/50\n",
            "50000/50000 [==============================] - 32s 642us/step - loss: 1.7856 - accuracy: 0.4123 - val_loss: 2.3441 - val_accuracy: 0.2761\n",
            "Epoch 2/50\n",
            "50000/50000 [==============================] - 24s 483us/step - loss: 1.1811 - accuracy: 0.5882 - val_loss: 1.0481 - val_accuracy: 0.6276\n",
            "Epoch 3/50\n",
            "50000/50000 [==============================] - 24s 483us/step - loss: 0.9510 - accuracy: 0.6663 - val_loss: 0.9275 - val_accuracy: 0.6787\n",
            "Epoch 4/50\n",
            "50000/50000 [==============================] - 24s 483us/step - loss: 0.8282 - accuracy: 0.7102 - val_loss: 0.9114 - val_accuracy: 0.6857\n",
            "Epoch 5/50\n",
            "50000/50000 [==============================] - 24s 483us/step - loss: 0.7505 - accuracy: 0.7387 - val_loss: 0.8041 - val_accuracy: 0.7175\n",
            "Epoch 6/50\n",
            "50000/50000 [==============================] - 24s 483us/step - loss: 0.6880 - accuracy: 0.7615 - val_loss: 0.7245 - val_accuracy: 0.7487\n",
            "Epoch 7/50\n",
            "50000/50000 [==============================] - 24s 483us/step - loss: 0.6398 - accuracy: 0.7771 - val_loss: 0.6716 - val_accuracy: 0.7692\n",
            "Epoch 8/50\n",
            "50000/50000 [==============================] - 24s 483us/step - loss: 0.5960 - accuracy: 0.7943 - val_loss: 0.6332 - val_accuracy: 0.7846\n",
            "Epoch 9/50\n",
            "50000/50000 [==============================] - 24s 483us/step - loss: 0.5653 - accuracy: 0.8038 - val_loss: 0.5645 - val_accuracy: 0.8044\n",
            "Epoch 10/50\n",
            "50000/50000 [==============================] - 24s 483us/step - loss: 0.5336 - accuracy: 0.8154 - val_loss: 0.5897 - val_accuracy: 0.8001\n",
            "Epoch 11/50\n",
            "50000/50000 [==============================] - 24s 482us/step - loss: 0.5100 - accuracy: 0.8245 - val_loss: 0.5651 - val_accuracy: 0.8059\n",
            "Epoch 12/50\n",
            "50000/50000 [==============================] - 24s 484us/step - loss: 0.4797 - accuracy: 0.8345 - val_loss: 0.6013 - val_accuracy: 0.8021\n",
            "Epoch 13/50\n",
            "50000/50000 [==============================] - 24s 484us/step - loss: 0.4605 - accuracy: 0.8399 - val_loss: 0.5387 - val_accuracy: 0.8201\n",
            "Epoch 14/50\n",
            "50000/50000 [==============================] - 24s 483us/step - loss: 0.4396 - accuracy: 0.8480 - val_loss: 0.5997 - val_accuracy: 0.8018\n",
            "Epoch 15/50\n",
            "50000/50000 [==============================] - 24s 483us/step - loss: 0.4244 - accuracy: 0.8519 - val_loss: 0.5651 - val_accuracy: 0.8165\n",
            "Epoch 16/50\n",
            "50000/50000 [==============================] - 24s 483us/step - loss: 0.4132 - accuracy: 0.8569 - val_loss: 0.5849 - val_accuracy: 0.8074\n",
            "Epoch 17/50\n",
            "50000/50000 [==============================] - 24s 482us/step - loss: 0.3953 - accuracy: 0.8640 - val_loss: 0.5655 - val_accuracy: 0.8156\n",
            "Epoch 18/50\n",
            "50000/50000 [==============================] - 24s 483us/step - loss: 0.3783 - accuracy: 0.8684 - val_loss: 0.5231 - val_accuracy: 0.8309\n",
            "Epoch 19/50\n",
            "50000/50000 [==============================] - 24s 483us/step - loss: 0.3652 - accuracy: 0.8739 - val_loss: 0.5240 - val_accuracy: 0.8294\n",
            "Epoch 20/50\n",
            "50000/50000 [==============================] - 24s 482us/step - loss: 0.3547 - accuracy: 0.8774 - val_loss: 0.5526 - val_accuracy: 0.8283\n",
            "Epoch 21/50\n",
            "50000/50000 [==============================] - 24s 483us/step - loss: 0.3466 - accuracy: 0.8788 - val_loss: 0.5586 - val_accuracy: 0.8282\n",
            "Epoch 22/50\n",
            "50000/50000 [==============================] - 24s 483us/step - loss: 0.3352 - accuracy: 0.8841 - val_loss: 0.5344 - val_accuracy: 0.8287\n",
            "Epoch 23/50\n",
            "50000/50000 [==============================] - 24s 484us/step - loss: 0.3261 - accuracy: 0.8872 - val_loss: 0.4911 - val_accuracy: 0.8434\n",
            "Epoch 24/50\n",
            "50000/50000 [==============================] - 24s 484us/step - loss: 0.3131 - accuracy: 0.8886 - val_loss: 0.5138 - val_accuracy: 0.8410\n",
            "Epoch 25/50\n",
            "50000/50000 [==============================] - 24s 486us/step - loss: 0.3118 - accuracy: 0.8917 - val_loss: 0.6127 - val_accuracy: 0.8142\n",
            "Epoch 26/50\n",
            "50000/50000 [==============================] - 24s 485us/step - loss: 0.2985 - accuracy: 0.8972 - val_loss: 0.5549 - val_accuracy: 0.8291\n",
            "Epoch 27/50\n",
            "50000/50000 [==============================] - 24s 484us/step - loss: 0.2900 - accuracy: 0.8989 - val_loss: 0.5138 - val_accuracy: 0.8409\n",
            "Epoch 28/50\n",
            "50000/50000 [==============================] - 24s 485us/step - loss: 0.2808 - accuracy: 0.9012 - val_loss: 0.5331 - val_accuracy: 0.8419\n",
            "Epoch 29/50\n",
            "50000/50000 [==============================] - 24s 481us/step - loss: 0.2766 - accuracy: 0.9028 - val_loss: 0.5393 - val_accuracy: 0.8369\n",
            "Epoch 30/50\n",
            "50000/50000 [==============================] - 24s 482us/step - loss: 0.2727 - accuracy: 0.9051 - val_loss: 0.5180 - val_accuracy: 0.8464\n",
            "Epoch 31/50\n",
            "50000/50000 [==============================] - 24s 482us/step - loss: 0.2653 - accuracy: 0.9080 - val_loss: 0.5815 - val_accuracy: 0.8274\n",
            "Epoch 32/50\n",
            "50000/50000 [==============================] - 24s 484us/step - loss: 0.2605 - accuracy: 0.9081 - val_loss: 0.4908 - val_accuracy: 0.8511\n",
            "Epoch 33/50\n",
            "50000/50000 [==============================] - 24s 483us/step - loss: 0.2528 - accuracy: 0.9116 - val_loss: 0.4880 - val_accuracy: 0.8533\n",
            "Epoch 34/50\n",
            "50000/50000 [==============================] - 24s 483us/step - loss: 0.2480 - accuracy: 0.9114 - val_loss: 0.5272 - val_accuracy: 0.8423\n",
            "Epoch 35/50\n",
            "50000/50000 [==============================] - 24s 483us/step - loss: 0.2502 - accuracy: 0.9132 - val_loss: 0.5148 - val_accuracy: 0.8495\n",
            "Epoch 36/50\n",
            "50000/50000 [==============================] - 24s 483us/step - loss: 0.2379 - accuracy: 0.9165 - val_loss: 0.5149 - val_accuracy: 0.8520\n",
            "Epoch 37/50\n",
            "50000/50000 [==============================] - 24s 483us/step - loss: 0.2368 - accuracy: 0.9168 - val_loss: 0.5112 - val_accuracy: 0.8495\n",
            "Epoch 38/50\n",
            "50000/50000 [==============================] - 24s 484us/step - loss: 0.2295 - accuracy: 0.9188 - val_loss: 0.5047 - val_accuracy: 0.8552\n",
            "Epoch 39/50\n",
            "50000/50000 [==============================] - 24s 483us/step - loss: 0.2312 - accuracy: 0.9198 - val_loss: 0.5196 - val_accuracy: 0.8553\n",
            "Epoch 40/50\n",
            "50000/50000 [==============================] - 24s 482us/step - loss: 0.2217 - accuracy: 0.9222 - val_loss: 0.4911 - val_accuracy: 0.8569\n",
            "Epoch 41/50\n",
            "50000/50000 [==============================] - 24s 481us/step - loss: 0.2227 - accuracy: 0.9225 - val_loss: 0.5200 - val_accuracy: 0.8500\n",
            "Epoch 42/50\n",
            "50000/50000 [==============================] - 24s 482us/step - loss: 0.2153 - accuracy: 0.9249 - val_loss: 0.6246 - val_accuracy: 0.8295\n",
            "Epoch 43/50\n",
            "50000/50000 [==============================] - 24s 482us/step - loss: 0.2179 - accuracy: 0.9235 - val_loss: 0.5482 - val_accuracy: 0.8458\n",
            "Epoch 44/50\n",
            "50000/50000 [==============================] - 24s 482us/step - loss: 0.2075 - accuracy: 0.9273 - val_loss: 0.5784 - val_accuracy: 0.8390\n",
            "Epoch 45/50\n",
            "50000/50000 [==============================] - 24s 482us/step - loss: 0.2095 - accuracy: 0.9265 - val_loss: 0.5218 - val_accuracy: 0.8529\n",
            "Epoch 46/50\n",
            "50000/50000 [==============================] - 24s 481us/step - loss: 0.2015 - accuracy: 0.9287 - val_loss: 0.5137 - val_accuracy: 0.8512\n",
            "Epoch 47/50\n",
            "50000/50000 [==============================] - 24s 479us/step - loss: 0.2085 - accuracy: 0.9269 - val_loss: 0.5050 - val_accuracy: 0.8564\n",
            "Epoch 48/50\n",
            "50000/50000 [==============================] - 24s 478us/step - loss: 0.2020 - accuracy: 0.9286 - val_loss: 0.5127 - val_accuracy: 0.8578\n",
            "Epoch 49/50\n",
            "50000/50000 [==============================] - 24s 479us/step - loss: 0.1963 - accuracy: 0.9313 - val_loss: 0.5086 - val_accuracy: 0.8591\n",
            "Epoch 50/50\n",
            "50000/50000 [==============================] - 24s 479us/step - loss: 0.1903 - accuracy: 0.9340 - val_loss: 0.5303 - val_accuracy: 0.8499\n",
            "10000/10000 [==============================] - 3s 297us/step\n"
          ],
          "name": "stdout"
        },
        {
          "output_type": "execute_result",
          "data": {
            "text/plain": [
              "[0.5303472492218018, 0.8499000072479248]"
            ]
          },
          "metadata": {
            "tags": []
          },
          "execution_count": 12
        }
      ]
    },
    {
      "cell_type": "code",
      "metadata": {
        "id": "Ry7zxnak9ZfO",
        "colab_type": "code",
        "colab": {
          "base_uri": "https://localhost:8080/",
          "height": 428
        },
        "outputId": "ab8f2093-7c66-44c8-a53b-20aa741b021e"
      },
      "source": [
        "plt.figure(figsize=[8,6])\n",
        "plt.plot(history.history['loss'],'r',linewidth=3.0)\n",
        "plt.plot(history.history['val_loss'],'b',linewidth=3.0)\n",
        "plt.legend(['Training loss', 'Validation Loss'],fontsize=18)\n",
        "plt.xlabel('Epochs ',fontsize=16)\n",
        "plt.ylabel('Loss',fontsize=16)\n",
        "plt.title('Loss Curves',fontsize=16)"
      ],
      "execution_count": null,
      "outputs": [
        {
          "output_type": "execute_result",
          "data": {
            "text/plain": [
              "Text(0.5, 1.0, 'Loss Curves')"
            ]
          },
          "metadata": {
            "tags": []
          },
          "execution_count": 13
        },
        {
          "output_type": "display_data",
          "data": {
            "image/png": "[encoded data removed]",
            "text/plain": [
              "<Figure size 576x432 with 1 Axes>"
            ]
          },
          "metadata": {
            "tags": [],
            "needs_background": "light"
          }
        }
      ]
    },
    {
      "cell_type": "code",
      "metadata": {
        "id": "z24spJfG9ZyE",
        "colab_type": "code",
        "colab": {
          "base_uri": "https://localhost:8080/",
          "height": 428
        },
        "outputId": "ea9b9579-9323-4770-8bc5-cda7be6d9e83"
      },
      "source": [
        "plt.figure(figsize=[8,6])\n",
        "plt.plot(history.history['accuracy'],'r',linewidth=3.0)\n",
        "plt.plot(history.history['val_accuracy'],'b',linewidth=3.0)\n",
        "plt.legend(['Training Accuracy', 'Validation Accuracy'],fontsize=18)\n",
        "plt.xlabel('Epochs ',fontsize=16)\n",
        "plt.ylabel('Accuracy',fontsize=16)\n",
        "plt.title('Accuracy Curves',fontsize=16)"
      ],
      "execution_count": null,
      "outputs": [
        {
          "output_type": "execute_result",
          "data": {
            "text/plain": [
              "Text(0.5, 1.0, 'Accuracy Curves')"
            ]
          },
          "metadata": {
            "tags": []
          },
          "execution_count": 16
        },
        {
          "output_type": "display_data",
          "data": {
            "image/png": "[encoded data removed]",
            "text/plain": [
              "<Figure size 576x432 with 1 Axes>"
            ]
          },
          "metadata": {
            "tags": [],
            "needs_background": "light"
          }
        }
      ]
    },
    {
      "cell_type": "code",
      "metadata": {
        "id": "gwbqSjX-9Z0Y",
        "colab_type": "code",
        "colab": {}
      },
      "source": [
        ""
      ],
      "execution_count": null,
      "outputs": []
    }
  ]
}