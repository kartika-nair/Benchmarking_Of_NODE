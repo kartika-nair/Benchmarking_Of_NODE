{
  "nbformat": 4,
  "nbformat_minor": 0,
  "metadata": {
    "colab": {
      "name": "CIFAR-10_NODE+TL_model.ipynb",
      "provenance": [],
      "collapsed_sections": []
    },
    "kernelspec": {
      "name": "python3",
      "display_name": "Python 3"
    },
    "accelerator": "GPU"
  },
  "cells": [
    {
      "cell_type": "code",
      "metadata": {
        "id": "en6dexc4Kuo2",
        "colab_type": "code",
        "colab": {
          "base_uri": "https://localhost:8080/",
          "height": 122
        },
        "outputId": "8e50c0e4-cff6-44b5-8724-9196bacec9c7"
      },
      "source": [
        "from google.colab import drive\n",
        "drive.mount('/content/drive')"
      ],
      "execution_count": 1,
      "outputs": [
        {
          "output_type": "stream",
          "text": [
            "Go to this URL in a browser: https://accounts.google.com/o/oauth2/auth?client_id=947318989803-6bn6qk8qdgf4n4g3pfee6491hc0brc4i.apps.googleusercontent.com&redirect_uri=urn%3aietf%3awg%3aoauth%3a2.0%3aoob&response_type=code&scope=email%20https%3a%2f%2fwww.googleapis.com%2fauth%2fdocs.test%20https%3a%2f%2fwww.googleapis.com%2fauth%2fdrive%20https%3a%2f%2fwww.googleapis.com%2fauth%2fdrive.photos.readonly%20https%3a%2f%2fwww.googleapis.com%2fauth%2fpeopleapi.readonly\n",
            "\n",
            "Enter your authorization code:\n",
            "··········\n",
            "Mounted at /content/drive\n"
          ],
          "name": "stdout"
        }
      ]
    },
    {
      "cell_type": "code",
      "metadata": {
        "id": "Makc2oU7KobO",
        "colab_type": "code",
        "colab": {
          "base_uri": "https://localhost:8080/",
          "height": 921
        },
        "outputId": "8f8b7c48-795c-467f-e9f9-48c1c3a76689"
      },
      "source": [
        "!rm -rf sample_data\n",
        "!pip install tensorflow==1.15"
      ],
      "execution_count": 2,
      "outputs": [
        {
          "output_type": "stream",
          "text": [
            "Collecting tensorflow==1.15\n",
            "\u001b[?25l  Downloading https://files.pythonhosted.org/packages/3f/98/5a99af92fb911d7a88a0005ad55005f35b4c1ba8d75fba02df726cd936e6/tensorflow-1.15.0-cp36-cp36m-manylinux2010_x86_64.whl (412.3MB)\n",
            "\u001b[K     |████████████████████████████████| 412.3MB 44kB/s \n",
            "\u001b[?25hRequirement already satisfied: protobuf>=3.6.1 in /usr/local/lib/python3.6/dist-packages (from tensorflow==1.15) (3.12.4)\n",
            "Requirement already satisfied: keras-preprocessing>=1.0.5 in /usr/local/lib/python3.6/dist-packages (from tensorflow==1.15) (1.1.2)\n",
            "Collecting keras-applications>=1.0.8\n",
            "\u001b[?25l  Downloading https://files.pythonhosted.org/packages/71/e3/19762fdfc62877ae9102edf6342d71b28fbfd9dea3d2f96a882ce099b03f/Keras_Applications-1.0.8-py3-none-any.whl (50kB)\n",
            "\u001b[K     |████████████████████████████████| 51kB 5.6MB/s \n",
            "\u001b[?25hCollecting gast==0.2.2\n",
            "  Downloading https://files.pythonhosted.org/packages/4e/35/11749bf99b2d4e3cceb4d55ca22590b0d7c2c62b9de38ac4a4a7f4687421/gast-0.2.2.tar.gz\n",
            "Requirement already satisfied: absl-py>=0.7.0 in /usr/local/lib/python3.6/dist-packages (from tensorflow==1.15) (0.9.0)\n",
            "Requirement already satisfied: wheel>=0.26 in /usr/local/lib/python3.6/dist-packages (from tensorflow==1.15) (0.34.2)\n",
            "Requirement already satisfied: six>=1.10.0 in /usr/local/lib/python3.6/dist-packages (from tensorflow==1.15) (1.15.0)\n",
            "Requirement already satisfied: numpy<2.0,>=1.16.0 in /usr/local/lib/python3.6/dist-packages (from tensorflow==1.15) (1.18.5)\n",
            "Requirement already satisfied: wrapt>=1.11.1 in /usr/local/lib/python3.6/dist-packages (from tensorflow==1.15) (1.12.1)\n",
            "Requirement already satisfied: astor>=0.6.0 in /usr/local/lib/python3.6/dist-packages (from tensorflow==1.15) (0.8.1)\n",
            "Collecting tensorflow-estimator==1.15.1\n",
            "\u001b[?25l  Downloading https://files.pythonhosted.org/packages/de/62/2ee9cd74c9fa2fa450877847ba560b260f5d0fb70ee0595203082dafcc9d/tensorflow_estimator-1.15.1-py2.py3-none-any.whl (503kB)\n",
            "\u001b[K     |████████████████████████████████| 512kB 38.9MB/s \n",
            "\u001b[?25hRequirement already satisfied: termcolor>=1.1.0 in /usr/local/lib/python3.6/dist-packages (from tensorflow==1.15) (1.1.0)\n",
            "Collecting tensorboard<1.16.0,>=1.15.0\n",
            "\u001b[?25l  Downloading https://files.pythonhosted.org/packages/1e/e9/d3d747a97f7188f48aa5eda486907f3b345cd409f0a0850468ba867db246/tensorboard-1.15.0-py3-none-any.whl (3.8MB)\n",
            "\u001b[K     |████████████████████████████████| 3.8MB 38.1MB/s \n",
            "\u001b[?25hRequirement already satisfied: opt-einsum>=2.3.2 in /usr/local/lib/python3.6/dist-packages (from tensorflow==1.15) (3.3.0)\n",
            "Requirement already satisfied: grpcio>=1.8.6 in /usr/local/lib/python3.6/dist-packages (from tensorflow==1.15) (1.30.0)\n",
            "Requirement already satisfied: google-pasta>=0.1.6 in /usr/local/lib/python3.6/dist-packages (from tensorflow==1.15) (0.2.0)\n",
            "Requirement already satisfied: setuptools in /usr/local/lib/python3.6/dist-packages (from protobuf>=3.6.1->tensorflow==1.15) (49.2.0)\n",
            "Requirement already satisfied: h5py in /usr/local/lib/python3.6/dist-packages (from keras-applications>=1.0.8->tensorflow==1.15) (2.10.0)\n",
            "Requirement already satisfied: werkzeug>=0.11.15 in /usr/local/lib/python3.6/dist-packages (from tensorboard<1.16.0,>=1.15.0->tensorflow==1.15) (1.0.1)\n",
            "Requirement already satisfied: markdown>=2.6.8 in /usr/local/lib/python3.6/dist-packages (from tensorboard<1.16.0,>=1.15.0->tensorflow==1.15) (3.2.2)\n",
            "Requirement already satisfied: importlib-metadata; python_version < \"3.8\" in /usr/local/lib/python3.6/dist-packages (from markdown>=2.6.8->tensorboard<1.16.0,>=1.15.0->tensorflow==1.15) (1.7.0)\n",
            "Requirement already satisfied: zipp>=0.5 in /usr/local/lib/python3.6/dist-packages (from importlib-metadata; python_version < \"3.8\"->markdown>=2.6.8->tensorboard<1.16.0,>=1.15.0->tensorflow==1.15) (3.1.0)\n",
            "Building wheels for collected packages: gast\n",
            "  Building wheel for gast (setup.py) ... \u001b[?25l\u001b[?25hdone\n",
            "  Created wheel for gast: filename=gast-0.2.2-cp36-none-any.whl size=7540 sha256=cdbecb8cbcccf5b2ddda422a4b5de9db92857017556e2fe3c2192fb054d97da4\n",
            "  Stored in directory: /root/.cache/pip/wheels/5c/2e/7e/a1d4d4fcebe6c381f378ce7743a3ced3699feb89bcfbdadadd\n",
            "Successfully built gast\n",
            "\u001b[31mERROR: tensorflow-probability 0.11.0 has requirement gast>=0.3.2, but you'll have gast 0.2.2 which is incompatible.\u001b[0m\n",
            "Installing collected packages: keras-applications, gast, tensorflow-estimator, tensorboard, tensorflow\n",
            "  Found existing installation: gast 0.3.3\n",
            "    Uninstalling gast-0.3.3:\n",
            "      Successfully uninstalled gast-0.3.3\n",
            "  Found existing installation: tensorflow-estimator 2.3.0\n",
            "    Uninstalling tensorflow-estimator-2.3.0:\n",
            "      Successfully uninstalled tensorflow-estimator-2.3.0\n",
            "  Found existing installation: tensorboard 2.3.0\n",
            "    Uninstalling tensorboard-2.3.0:\n",
            "      Successfully uninstalled tensorboard-2.3.0\n",
            "  Found existing installation: tensorflow 2.3.0\n",
            "    Uninstalling tensorflow-2.3.0:\n",
            "      Successfully uninstalled tensorflow-2.3.0\n",
            "Successfully installed gast-0.2.2 keras-applications-1.0.8 tensorboard-1.15.0 tensorflow-1.15.0 tensorflow-estimator-1.15.1\n"
          ],
          "name": "stdout"
        }
      ]
    },
    {
      "cell_type": "code",
      "metadata": {
        "id": "S1gu9NyZtRSS",
        "colab_type": "code",
        "colab": {}
      },
      "source": [
        "import pickle\n",
        "import numpy as np\n",
        "import pandas as pd\n",
        "import matplotlib.pyplot as plt\n",
        "import tensorflow as tf\n",
        "from tensorflow.keras import Sequential\n",
        "from tensorflow.keras import optimizers\n",
        "from tensorflow.keras.utils import to_categorical\n",
        "import tensorflow.keras.backend as K\n",
        "from tensorflow.keras.applications.vgg16 import VGG16, preprocess_input"
      ],
      "execution_count": 3,
      "outputs": []
    },
    {
      "cell_type": "code",
      "metadata": {
        "id": "uqxfuw3btToL",
        "colab_type": "code",
        "colab": {}
      },
      "source": [
        "def unpickle(file, encoding='bytes'):\n",
        "    with open(file, 'rb') as f:\n",
        "        di = pickle.load(f, encoding=encoding)\n",
        "    return di"
      ],
      "execution_count": 4,
      "outputs": []
    },
    {
      "cell_type": "code",
      "metadata": {
        "id": "YVF7BTuwrXz8",
        "colab_type": "code",
        "colab": {}
      },
      "source": [
        "PATH = \"/content/drive/My Drive/Colab Notebooks/Image Classification NODE/CIFAR10_VGG\""
      ],
      "execution_count": 5,
      "outputs": []
    },
    {
      "cell_type": "code",
      "metadata": {
        "id": "w4_A-pRUt81a",
        "colab_type": "code",
        "colab": {}
      },
      "source": [
        "batches_meta = unpickle(f\"{PATH}/cifar-10-batches-py/batches.meta\", encoding='utf-8')\n",
        "label_names = batches_meta['label_names']"
      ],
      "execution_count": 6,
      "outputs": []
    },
    {
      "cell_type": "code",
      "metadata": {
        "id": "6uWmGDs4uXpU",
        "colab_type": "code",
        "colab": {}
      },
      "source": [
        "batch_labels = []\n",
        "batch_images = []\n",
        "\n",
        "for n in range(1, 6):\n",
        "    batch_dict = unpickle(f\"{PATH}/cifar-10-batches-py/data_batch_{n}\")\n",
        "    batch_labels.append(batch_dict[b'labels'])\n",
        "    data = batch_dict[b'data'].reshape((10000,3,32,32))\n",
        "    data = np.moveaxis(data, 1, -1)\n",
        "    batch_images.append(data)\n",
        "\n",
        "labels = np.concatenate(batch_labels, axis=0)\n",
        "images = np.concatenate(batch_images, axis=0)"
      ],
      "execution_count": 10,
      "outputs": []
    },
    {
      "cell_type": "code",
      "metadata": {
        "id": "SPFhz_-bua4k",
        "colab_type": "code",
        "colab": {}
      },
      "source": [
        "test_dict = unpickle(f\"{PATH}/cifar-10-batches-py/test_batch\")\n",
        "test_labels = np.array(test_dict[b'labels'])\n",
        "test_images = test_dict[b'data'].reshape((10000,3,32,32))\n",
        "test_images = np.moveaxis(test_images, 1, -1)"
      ],
      "execution_count": 11,
      "outputs": []
    },
    {
      "cell_type": "code",
      "metadata": {
        "id": "Q6b3QJ5EuvDP",
        "colab_type": "code",
        "colab": {}
      },
      "source": [
        "showSampleImages = False\n",
        "\n",
        "if showSampleImages:\n",
        "    fig = plt.figure(figsize=(14,10))\n",
        "    for n in range(1, 29):\n",
        "        fig.add_subplot(4, 7, n)\n",
        "        img = images[n]\n",
        "        plt.imshow(img)\n",
        "        plt.title(label_names[labels[n]], color = \"white\")\n",
        "        plt.axis('off')"
      ],
      "execution_count": 13,
      "outputs": []
    },
    {
      "cell_type": "code",
      "metadata": {
        "id": "kp0rjOxzLstP",
        "colab_type": "code",
        "colab": {}
      },
      "source": [
        "class ODEBlock(tf.keras.layers.Layer):\n",
        "\n",
        "    def __init__(self, filters, kernel_size, **kwargs):\n",
        "        self.filters = filters\n",
        "        self.kernel_size = kernel_size\n",
        "        super(ODEBlock, self).__init__(**kwargs)\n",
        "        \n",
        "    def get_config(self):\n",
        "\n",
        "        config = super().get_config().copy()\n",
        "        config.update({\n",
        "            'filters': self.filters,\n",
        "            'kernel_size': self.kernel_size,\n",
        "        })\n",
        "        return config\n",
        "\n",
        "    def build(self, input_shape):\n",
        "        self.conv2d_w1 = self.add_weight(\"conv2d_w1\", self.kernel_size + (self.filters + 1, self.filters), initializer='glorot_uniform')\n",
        "        self.conv2d_w2 = self.add_weight(\"conv2d_w2\", self.kernel_size + (self.filters + 1, self.filters), initializer='glorot_uniform')\n",
        "        self.conv2d_b1 = self.add_weight(\"conv2d_b1\", (self.filters,), initializer='zero')\n",
        "        self.conv2d_b2 = self.add_weight(\"conv2d_b2\", (self.filters,), initializer='zero')\n",
        "        super(ODEBlock, self).build(input_shape)\n",
        "\n",
        "    def call(self, x):\n",
        "        t = K.constant([0, 1], dtype=\"float32\")\n",
        "        return tf.contrib.integrate.odeint(self.ode_func, x, t, rtol=1e-3, atol=1e-3)[1]\n",
        "\n",
        "    def compute_output_shape(self, input_shape):\n",
        "        return input_shape\n",
        "\n",
        "    def ode_func(self, x, t):\n",
        "        y = self.concat_t(x, t)\n",
        "        y = K.conv2d(y, self.conv2d_w1, padding=\"same\")\n",
        "        y = K.bias_add(y, self.conv2d_b1)\n",
        "        y = K.relu(y)\n",
        "\n",
        "        y = self.concat_t(y, t)\n",
        "        y = K.conv2d(y, self.conv2d_w2, padding=\"same\")\n",
        "        y = K.bias_add(y, self.conv2d_b2)\n",
        "        y = K.relu(y)\n",
        "\n",
        "        return y\n",
        "\n",
        "    def concat_t(self, x, t):\n",
        "        new_shape = tf.concat(\n",
        "            [\n",
        "                tf.shape(x)[:-1],\n",
        "                tf.constant([1],dtype=\"int32\",shape=(1,))\n",
        "            ], axis=0)\n",
        "\n",
        "        t = tf.ones(shape=new_shape) * tf.reshape(t, (1, 1, 1, 1))\n",
        "        return tf.concat([x, t], axis=-1)"
      ],
      "execution_count": 14,
      "outputs": []
    },
    {
      "cell_type": "code",
      "metadata": {
        "id": "UouNia7tu3ch",
        "colab_type": "code",
        "colab": {}
      },
      "source": [
        "X_train = preprocess_input(images)\n",
        "y_test = to_categorical(test_labels)\n",
        "\n",
        "X_test = preprocess_input(test_images)\n",
        "y_train = to_categorical(labels)"
      ],
      "execution_count": 15,
      "outputs": []
    },
    {
      "cell_type": "code",
      "metadata": {
        "id": "txtRtTr9M9VE",
        "colab_type": "code",
        "colab": {
          "base_uri": "https://localhost:8080/",
          "height": 275
        },
        "outputId": "ad1abe23-899c-417a-e698-3571441b37a4"
      },
      "source": [
        "def dcodnn(input_shape, num_classes):\n",
        "    model = Sequential()\n",
        "    vgg_model = VGG16(weights = None, include_top = True, input_shape= input_shape, classes = num_classes)\n",
        "    \n",
        "    for layers in vgg_model.layers[:-4]:\n",
        "        model.add(layers)\n",
        "\n",
        "    model.add(ODEBlock(512, (3,3)))\n",
        "\n",
        "    for layers in vgg_model.layers[-4:]:\n",
        "        model.add(layers)\n",
        "    return model\n",
        "    \n",
        "num_classes = 10\n",
        "image_shape = (32, 32, 3)\n",
        "model = dcodnn(image_shape, num_classes)"
      ],
      "execution_count": 16,
      "outputs": [
        {
          "output_type": "stream",
          "text": [
            "WARNING:tensorflow:From /usr/local/lib/python3.6/dist-packages/tensorflow_core/python/ops/resource_variable_ops.py:1630: calling BaseResourceVariable.__init__ (from tensorflow.python.ops.resource_variable_ops) with constraint is deprecated and will be removed in a future version.\n",
            "Instructions for updating:\n",
            "If using Keras pass *_constraint arguments to layers.\n",
            "WARNING:tensorflow:\n",
            "The TensorFlow contrib module will not be included in TensorFlow 2.0.\n",
            "For more information, please see:\n",
            "  * https://github.com/tensorflow/community/blob/master/rfcs/20180907-contrib-sunset.md\n",
            "  * https://github.com/tensorflow/addons\n",
            "  * https://github.com/tensorflow/io (for I/O related ops)\n",
            "If you depend on functionality not listed there, please file an issue.\n",
            "\n",
            "WARNING:tensorflow:From /usr/local/lib/python3.6/dist-packages/tensorflow_core/contrib/integrate/python/ops/odes.py:233: div (from tensorflow.python.ops.math_ops) is deprecated and will be removed in a future version.\n",
            "Instructions for updating:\n",
            "Deprecated in favor of operator or tf.math.divide.\n"
          ],
          "name": "stdout"
        }
      ]
    },
    {
      "cell_type": "code",
      "metadata": {
        "id": "cGwmYe3VNRtv",
        "colab_type": "code",
        "colab": {
          "base_uri": "https://localhost:8080/",
          "height": 935
        },
        "outputId": "b4288033-ea0a-4b8e-e9d0-dae2da9b1ddd"
      },
      "source": [
        "model.summary()"
      ],
      "execution_count": 17,
      "outputs": [
        {
          "output_type": "stream",
          "text": [
            "Model: \"sequential\"\n",
            "_________________________________________________________________\n",
            "Layer (type)                 Output Shape              Param #   \n",
            "=================================================================\n",
            "block1_conv1 (Conv2D)        (None, 32, 32, 64)        1792      \n",
            "_________________________________________________________________\n",
            "block1_conv2 (Conv2D)        (None, 32, 32, 64)        36928     \n",
            "_________________________________________________________________\n",
            "block1_pool (MaxPooling2D)   (None, 16, 16, 64)        0         \n",
            "_________________________________________________________________\n",
            "block2_conv1 (Conv2D)        (None, 16, 16, 128)       73856     \n",
            "_________________________________________________________________\n",
            "block2_conv2 (Conv2D)        (None, 16, 16, 128)       147584    \n",
            "_________________________________________________________________\n",
            "block2_pool (MaxPooling2D)   (None, 8, 8, 128)         0         \n",
            "_________________________________________________________________\n",
            "block3_conv1 (Conv2D)        (None, 8, 8, 256)         295168    \n",
            "_________________________________________________________________\n",
            "block3_conv2 (Conv2D)        (None, 8, 8, 256)         590080    \n",
            "_________________________________________________________________\n",
            "block3_conv3 (Conv2D)        (None, 8, 8, 256)         590080    \n",
            "_________________________________________________________________\n",
            "block3_pool (MaxPooling2D)   (None, 4, 4, 256)         0         \n",
            "_________________________________________________________________\n",
            "block4_conv1 (Conv2D)        (None, 4, 4, 512)         1180160   \n",
            "_________________________________________________________________\n",
            "block4_conv2 (Conv2D)        (None, 4, 4, 512)         2359808   \n",
            "_________________________________________________________________\n",
            "block4_conv3 (Conv2D)        (None, 4, 4, 512)         2359808   \n",
            "_________________________________________________________________\n",
            "block4_pool (MaxPooling2D)   (None, 2, 2, 512)         0         \n",
            "_________________________________________________________________\n",
            "block5_conv1 (Conv2D)        (None, 2, 2, 512)         2359808   \n",
            "_________________________________________________________________\n",
            "block5_conv2 (Conv2D)        (None, 2, 2, 512)         2359808   \n",
            "_________________________________________________________________\n",
            "block5_conv3 (Conv2D)        (None, 2, 2, 512)         2359808   \n",
            "_________________________________________________________________\n",
            "block5_pool (MaxPooling2D)   (None, 1, 1, 512)         0         \n",
            "_________________________________________________________________\n",
            "ode_block (ODEBlock)         (None, 1, 1, 512)         4728832   \n",
            "_________________________________________________________________\n",
            "flatten (Flatten)            (None, 512)               0         \n",
            "_________________________________________________________________\n",
            "fc1 (Dense)                  (None, 4096)              2101248   \n",
            "_________________________________________________________________\n",
            "fc2 (Dense)                  (None, 4096)              16781312  \n",
            "_________________________________________________________________\n",
            "predictions (Dense)          (None, 10)                40970     \n",
            "=================================================================\n",
            "Total params: 38,367,050\n",
            "Trainable params: 38,367,050\n",
            "Non-trainable params: 0\n",
            "_________________________________________________________________\n"
          ],
          "name": "stdout"
        }
      ]
    },
    {
      "cell_type": "code",
      "metadata": {
        "id": "gZlHqbn7u9NF",
        "colab_type": "code",
        "colab": {}
      },
      "source": [
        "model.compile(\n",
        "    loss='categorical_crossentropy',\n",
        "    optimizer='sgd',\n",
        "    metrics=['acc']\n",
        ")"
      ],
      "execution_count": 18,
      "outputs": []
    },
    {
      "cell_type": "code",
      "metadata": {
        "id": "YhmmdMc5u_55",
        "colab_type": "code",
        "colab": {
          "base_uri": "https://localhost:8080/",
          "height": 1000
        },
        "outputId": "684ffe93-73cc-40f2-9d8a-5bd2c411103d"
      },
      "source": [
        "from tensorflow.keras.callbacks import ModelCheckpoint\n",
        "\n",
        "checkpoint = ModelCheckpoint(\n",
        "    f'{PATH}/weights/model.h5', \n",
        "    monitor='acc', \n",
        "    verbose=1, \n",
        "    save_best_only=True, \n",
        "    save_weights_only=False,\n",
        "    mode='auto'\n",
        ")\n",
        "\n",
        "epochs = 30\n",
        "batch_size = 256\n",
        "\n",
        "history = model.fit(X_train, y_train,\n",
        "                    epochs = epochs,\n",
        "                    batch_size=batch_size, \n",
        "                    verbose = 1, \n",
        "                    validation_data=(X_test, y_test), \n",
        "                    callbacks=[checkpoint])"
      ],
      "execution_count": 20,
      "outputs": [
        {
          "output_type": "stream",
          "text": [
            "Train on 50000 samples, validate on 10000 samples\n",
            "Epoch 1/30\n",
            "49920/50000 [============================>.] - ETA: 0s - loss: 2.2404 - acc: 0.1560\n",
            "Epoch 00001: acc improved from -inf to 0.15606, saving model to /content/drive/My Drive/Colab Notebooks/Image Classification NODE/CIFAR10_VGG/weights/model.h5\n",
            "50000/50000 [==============================] - 42s 843us/sample - loss: 2.2404 - acc: 0.1561 - val_loss: 2.2209 - val_acc: 0.1930\n",
            "Epoch 2/30\n",
            "49920/50000 [============================>.] - ETA: 0s - loss: 2.0140 - acc: 0.2647\n",
            "Epoch 00002: acc improved from 0.15606 to 0.26474, saving model to /content/drive/My Drive/Colab Notebooks/Image Classification NODE/CIFAR10_VGG/weights/model.h5\n",
            "50000/50000 [==============================] - 26s 523us/sample - loss: 2.0139 - acc: 0.2647 - val_loss: 1.9315 - val_acc: 0.2861\n",
            "Epoch 3/30\n",
            "49920/50000 [============================>.] - ETA: 0s - loss: 1.8455 - acc: 0.3279\n",
            "Epoch 00003: acc improved from 0.26474 to 0.32782, saving model to /content/drive/My Drive/Colab Notebooks/Image Classification NODE/CIFAR10_VGG/weights/model.h5\n",
            "50000/50000 [==============================] - 26s 520us/sample - loss: 1.8454 - acc: 0.3278 - val_loss: 1.7192 - val_acc: 0.3570\n",
            "Epoch 4/30\n",
            "49920/50000 [============================>.] - ETA: 0s - loss: 1.7038 - acc: 0.3822\n",
            "Epoch 00004: acc improved from 0.32782 to 0.38230, saving model to /content/drive/My Drive/Colab Notebooks/Image Classification NODE/CIFAR10_VGG/weights/model.h5\n",
            "50000/50000 [==============================] - 26s 519us/sample - loss: 1.7036 - acc: 0.3823 - val_loss: 1.7005 - val_acc: 0.3905\n",
            "Epoch 5/30\n",
            "49920/50000 [============================>.] - ETA: 0s - loss: 1.5812 - acc: 0.4308\n",
            "Epoch 00005: acc improved from 0.38230 to 0.43086, saving model to /content/drive/My Drive/Colab Notebooks/Image Classification NODE/CIFAR10_VGG/weights/model.h5\n",
            "50000/50000 [==============================] - 26s 519us/sample - loss: 1.5810 - acc: 0.4309 - val_loss: 1.5330 - val_acc: 0.4372\n",
            "Epoch 6/30\n",
            "49920/50000 [============================>.] - ETA: 0s - loss: 1.4778 - acc: 0.4675\n",
            "Epoch 00006: acc improved from 0.43086 to 0.46746, saving model to /content/drive/My Drive/Colab Notebooks/Image Classification NODE/CIFAR10_VGG/weights/model.h5\n",
            "50000/50000 [==============================] - 26s 516us/sample - loss: 1.4778 - acc: 0.4675 - val_loss: 1.6028 - val_acc: 0.4096\n",
            "Epoch 7/30\n",
            "49920/50000 [============================>.] - ETA: 0s - loss: 1.4030 - acc: 0.4972\n",
            "Epoch 00007: acc improved from 0.46746 to 0.49718, saving model to /content/drive/My Drive/Colab Notebooks/Image Classification NODE/CIFAR10_VGG/weights/model.h5\n",
            "50000/50000 [==============================] - 26s 516us/sample - loss: 1.4030 - acc: 0.4972 - val_loss: 1.3162 - val_acc: 0.5284\n",
            "Epoch 8/30\n",
            "49920/50000 [============================>.] - ETA: 0s - loss: 1.3222 - acc: 0.5257\n",
            "Epoch 00008: acc improved from 0.49718 to 0.52568, saving model to /content/drive/My Drive/Colab Notebooks/Image Classification NODE/CIFAR10_VGG/weights/model.h5\n",
            "50000/50000 [==============================] - 26s 519us/sample - loss: 1.3224 - acc: 0.5257 - val_loss: 1.3686 - val_acc: 0.5166\n",
            "Epoch 9/30\n",
            "49920/50000 [============================>.] - ETA: 0s - loss: 1.2455 - acc: 0.5593\n",
            "Epoch 00009: acc improved from 0.52568 to 0.55944, saving model to /content/drive/My Drive/Colab Notebooks/Image Classification NODE/CIFAR10_VGG/weights/model.h5\n",
            "50000/50000 [==============================] - 26s 517us/sample - loss: 1.2454 - acc: 0.5594 - val_loss: 1.4387 - val_acc: 0.4795\n",
            "Epoch 10/30\n",
            "49920/50000 [============================>.] - ETA: 0s - loss: 1.1614 - acc: 0.5899\n",
            "Epoch 00010: acc improved from 0.55944 to 0.59000, saving model to /content/drive/My Drive/Colab Notebooks/Image Classification NODE/CIFAR10_VGG/weights/model.h5\n",
            "50000/50000 [==============================] - 26s 515us/sample - loss: 1.1611 - acc: 0.5900 - val_loss: 1.2623 - val_acc: 0.5591\n",
            "Epoch 11/30\n",
            "49920/50000 [============================>.] - ETA: 0s - loss: 1.0916 - acc: 0.6176\n",
            "Epoch 00011: acc improved from 0.59000 to 0.61754, saving model to /content/drive/My Drive/Colab Notebooks/Image Classification NODE/CIFAR10_VGG/weights/model.h5\n",
            "50000/50000 [==============================] - 26s 518us/sample - loss: 1.0917 - acc: 0.6175 - val_loss: 1.1554 - val_acc: 0.5972\n",
            "Epoch 12/30\n",
            "49920/50000 [============================>.] - ETA: 0s - loss: 1.0162 - acc: 0.6436\n",
            "Epoch 00012: acc improved from 0.61754 to 0.64356, saving model to /content/drive/My Drive/Colab Notebooks/Image Classification NODE/CIFAR10_VGG/weights/model.h5\n",
            "50000/50000 [==============================] - 26s 519us/sample - loss: 1.0163 - acc: 0.6436 - val_loss: 1.1204 - val_acc: 0.6185\n",
            "Epoch 13/30\n",
            "49920/50000 [============================>.] - ETA: 0s - loss: 0.9560 - acc: 0.6658\n",
            "Epoch 00013: acc improved from 0.64356 to 0.66590, saving model to /content/drive/My Drive/Colab Notebooks/Image Classification NODE/CIFAR10_VGG/weights/model.h5\n",
            "50000/50000 [==============================] - 26s 518us/sample - loss: 0.9558 - acc: 0.6659 - val_loss: 1.0619 - val_acc: 0.6289\n",
            "Epoch 14/30\n",
            "49920/50000 [============================>.] - ETA: 0s - loss: 0.8882 - acc: 0.6920\n",
            "Epoch 00014: acc improved from 0.66590 to 0.69186, saving model to /content/drive/My Drive/Colab Notebooks/Image Classification NODE/CIFAR10_VGG/weights/model.h5\n",
            "50000/50000 [==============================] - 26s 516us/sample - loss: 0.8886 - acc: 0.6919 - val_loss: 1.1142 - val_acc: 0.6112\n",
            "Epoch 15/30\n",
            "49920/50000 [============================>.] - ETA: 0s - loss: 0.8380 - acc: 0.7114\n",
            "Epoch 00015: acc improved from 0.69186 to 0.71148, saving model to /content/drive/My Drive/Colab Notebooks/Image Classification NODE/CIFAR10_VGG/weights/model.h5\n",
            "50000/50000 [==============================] - 26s 522us/sample - loss: 0.8378 - acc: 0.7115 - val_loss: 1.0832 - val_acc: 0.6343\n",
            "Epoch 16/30\n",
            "49920/50000 [============================>.] - ETA: 0s - loss: 0.7784 - acc: 0.7311\n",
            "Epoch 00016: acc improved from 0.71148 to 0.73124, saving model to /content/drive/My Drive/Colab Notebooks/Image Classification NODE/CIFAR10_VGG/weights/model.h5\n",
            "50000/50000 [==============================] - 26s 515us/sample - loss: 0.7780 - acc: 0.7312 - val_loss: 0.9425 - val_acc: 0.6837\n",
            "Epoch 17/30\n",
            "49920/50000 [============================>.] - ETA: 0s - loss: 0.7166 - acc: 0.7532\n",
            "Epoch 00017: acc improved from 0.73124 to 0.75332, saving model to /content/drive/My Drive/Colab Notebooks/Image Classification NODE/CIFAR10_VGG/weights/model.h5\n",
            "50000/50000 [==============================] - 26s 528us/sample - loss: 0.7164 - acc: 0.7533 - val_loss: 0.9981 - val_acc: 0.6767\n",
            "Epoch 18/30\n",
            "49920/50000 [============================>.] - ETA: 0s - loss: 0.6692 - acc: 0.7698\n",
            "Epoch 00018: acc improved from 0.75332 to 0.76982, saving model to /content/drive/My Drive/Colab Notebooks/Image Classification NODE/CIFAR10_VGG/weights/model.h5\n",
            "50000/50000 [==============================] - 26s 527us/sample - loss: 0.6691 - acc: 0.7698 - val_loss: 1.4368 - val_acc: 0.5383\n",
            "Epoch 19/30\n",
            "49920/50000 [============================>.] - ETA: 0s - loss: 0.6044 - acc: 0.7922\n",
            "Epoch 00019: acc improved from 0.76982 to 0.79228, saving model to /content/drive/My Drive/Colab Notebooks/Image Classification NODE/CIFAR10_VGG/weights/model.h5\n",
            "50000/50000 [==============================] - 26s 516us/sample - loss: 0.6042 - acc: 0.7923 - val_loss: 1.2692 - val_acc: 0.6010\n",
            "Epoch 20/30\n",
            "49920/50000 [============================>.] - ETA: 0s - loss: 0.5507 - acc: 0.8096\n",
            "Epoch 00020: acc improved from 0.79228 to 0.80956, saving model to /content/drive/My Drive/Colab Notebooks/Image Classification NODE/CIFAR10_VGG/weights/model.h5\n",
            "50000/50000 [==============================] - 27s 547us/sample - loss: 0.5509 - acc: 0.8096 - val_loss: 1.0546 - val_acc: 0.6505\n",
            "Epoch 21/30\n",
            "49920/50000 [============================>.] - ETA: 0s - loss: 0.4925 - acc: 0.8303\n",
            "Epoch 00021: acc improved from 0.80956 to 0.83048, saving model to /content/drive/My Drive/Colab Notebooks/Image Classification NODE/CIFAR10_VGG/weights/model.h5\n",
            "50000/50000 [==============================] - 26s 516us/sample - loss: 0.4922 - acc: 0.8305 - val_loss: 0.9575 - val_acc: 0.6973\n",
            "Epoch 22/30\n",
            "49920/50000 [============================>.] - ETA: 0s - loss: 0.4519 - acc: 0.8459\n",
            "Epoch 00022: acc improved from 0.83048 to 0.84596, saving model to /content/drive/My Drive/Colab Notebooks/Image Classification NODE/CIFAR10_VGG/weights/model.h5\n",
            "50000/50000 [==============================] - 26s 516us/sample - loss: 0.4517 - acc: 0.8460 - val_loss: 0.9730 - val_acc: 0.6982\n",
            "Epoch 23/30\n",
            "49920/50000 [============================>.] - ETA: 0s - loss: 0.3869 - acc: 0.8684\n",
            "Epoch 00023: acc improved from 0.84596 to 0.86850, saving model to /content/drive/My Drive/Colab Notebooks/Image Classification NODE/CIFAR10_VGG/weights/model.h5\n",
            "50000/50000 [==============================] - 26s 516us/sample - loss: 0.3869 - acc: 0.8685 - val_loss: 0.9824 - val_acc: 0.6978\n",
            "Epoch 24/30\n",
            "49920/50000 [============================>.] - ETA: 0s - loss: 0.3187 - acc: 0.8921\n",
            "Epoch 00024: acc improved from 0.86850 to 0.89214, saving model to /content/drive/My Drive/Colab Notebooks/Image Classification NODE/CIFAR10_VGG/weights/model.h5\n",
            "50000/50000 [==============================] - 26s 520us/sample - loss: 0.3187 - acc: 0.8921 - val_loss: 1.2250 - val_acc: 0.6700\n",
            "Epoch 25/30\n",
            "49920/50000 [============================>.] - ETA: 0s - loss: 0.2923 - acc: 0.9037\n",
            "Epoch 00025: acc improved from 0.89214 to 0.90372, saving model to /content/drive/My Drive/Colab Notebooks/Image Classification NODE/CIFAR10_VGG/weights/model.h5\n",
            "50000/50000 [==============================] - 26s 517us/sample - loss: 0.2922 - acc: 0.9037 - val_loss: 1.2220 - val_acc: 0.6723\n",
            "Epoch 26/30\n",
            "49920/50000 [============================>.] - ETA: 0s - loss: 0.2040 - acc: 0.9345\n",
            "Epoch 00026: acc improved from 0.90372 to 0.93446, saving model to /content/drive/My Drive/Colab Notebooks/Image Classification NODE/CIFAR10_VGG/weights/model.h5\n",
            "50000/50000 [==============================] - 26s 516us/sample - loss: 0.2041 - acc: 0.9345 - val_loss: 1.4038 - val_acc: 0.6554\n",
            "Epoch 27/30\n",
            "49920/50000 [============================>.] - ETA: 0s - loss: 0.1946 - acc: 0.9416\n",
            "Epoch 00027: acc improved from 0.93446 to 0.94154, saving model to /content/drive/My Drive/Colab Notebooks/Image Classification NODE/CIFAR10_VGG/weights/model.h5\n",
            "50000/50000 [==============================] - 26s 520us/sample - loss: 0.1947 - acc: 0.9415 - val_loss: 1.8383 - val_acc: 0.6166\n",
            "Epoch 28/30\n",
            "49920/50000 [============================>.] - ETA: 0s - loss: 0.1608 - acc: 0.9539\n",
            "Epoch 00028: acc improved from 0.94154 to 0.95392, saving model to /content/drive/My Drive/Colab Notebooks/Image Classification NODE/CIFAR10_VGG/weights/model.h5\n",
            "50000/50000 [==============================] - 26s 515us/sample - loss: 0.1606 - acc: 0.9539 - val_loss: 1.2092 - val_acc: 0.7297\n",
            "Epoch 29/30\n",
            "49920/50000 [============================>.] - ETA: 0s - loss: 0.1620 - acc: 0.9551\n",
            "Epoch 00029: acc improved from 0.95392 to 0.95502, saving model to /content/drive/My Drive/Colab Notebooks/Image Classification NODE/CIFAR10_VGG/weights/model.h5\n",
            "50000/50000 [==============================] - 26s 522us/sample - loss: 0.1622 - acc: 0.9550 - val_loss: 1.0277 - val_acc: 0.6996\n",
            "Epoch 30/30\n",
            "49920/50000 [============================>.] - ETA: 0s - loss: 0.1024 - acc: 0.9721\n",
            "Epoch 00030: acc improved from 0.95502 to 0.97212, saving model to /content/drive/My Drive/Colab Notebooks/Image Classification NODE/CIFAR10_VGG/weights/model.h5\n",
            "50000/50000 [==============================] - 26s 517us/sample - loss: 0.1024 - acc: 0.9721 - val_loss: 1.4522 - val_acc: 0.7128\n"
          ],
          "name": "stdout"
        }
      ]
    },
    {
      "cell_type": "code",
      "metadata": {
        "id": "GSGoNoeKvPoN",
        "colab_type": "code",
        "colab": {
          "base_uri": "https://localhost:8080/",
          "height": 204
        },
        "outputId": "a3f994f1-3dcc-4622-e4ef-29b5fc86b5e9"
      },
      "source": [
        "history_df = pd.DataFrame(history.history)\n",
        "history_df.head()"
      ],
      "execution_count": 21,
      "outputs": [
        {
          "output_type": "execute_result",
          "data": {
            "text/html": [
              "<div>\n",
              "<style scoped>\n",
              "    .dataframe tbody tr th:only-of-type {\n",
              "        vertical-align: middle;\n",
              "    }\n",
              "\n",
              "    .dataframe tbody tr th {\n",
              "        vertical-align: top;\n",
              "    }\n",
              "\n",
              "    .dataframe thead th {\n",
              "        text-align: right;\n",
              "    }\n",
              "</style>\n",
              "<table border=\"1\" class=\"dataframe\">\n",
              "  <thead>\n",
              "    <tr style=\"text-align: right;\">\n",
              "      <th></th>\n",
              "      <th>loss</th>\n",
              "      <th>acc</th>\n",
              "      <th>val_loss</th>\n",
              "      <th>val_acc</th>\n",
              "    </tr>\n",
              "  </thead>\n",
              "  <tbody>\n",
              "    <tr>\n",
              "      <th>0</th>\n",
              "      <td>2.240412</td>\n",
              "      <td>0.15606</td>\n",
              "      <td>2.220895</td>\n",
              "      <td>0.1930</td>\n",
              "    </tr>\n",
              "    <tr>\n",
              "      <th>1</th>\n",
              "      <td>2.013866</td>\n",
              "      <td>0.26474</td>\n",
              "      <td>1.931528</td>\n",
              "      <td>0.2861</td>\n",
              "    </tr>\n",
              "    <tr>\n",
              "      <th>2</th>\n",
              "      <td>1.845435</td>\n",
              "      <td>0.32782</td>\n",
              "      <td>1.719241</td>\n",
              "      <td>0.3570</td>\n",
              "    </tr>\n",
              "    <tr>\n",
              "      <th>3</th>\n",
              "      <td>1.703583</td>\n",
              "      <td>0.38230</td>\n",
              "      <td>1.700530</td>\n",
              "      <td>0.3905</td>\n",
              "    </tr>\n",
              "    <tr>\n",
              "      <th>4</th>\n",
              "      <td>1.580987</td>\n",
              "      <td>0.43086</td>\n",
              "      <td>1.532956</td>\n",
              "      <td>0.4372</td>\n",
              "    </tr>\n",
              "  </tbody>\n",
              "</table>\n",
              "</div>"
            ],
            "text/plain": [
              "       loss      acc  val_loss  val_acc\n",
              "0  2.240412  0.15606  2.220895   0.1930\n",
              "1  2.013866  0.26474  1.931528   0.2861\n",
              "2  1.845435  0.32782  1.719241   0.3570\n",
              "3  1.703583  0.38230  1.700530   0.3905\n",
              "4  1.580987  0.43086  1.532956   0.4372"
            ]
          },
          "metadata": {
            "tags": []
          },
          "execution_count": 21
        }
      ]
    },
    {
      "cell_type": "code",
      "metadata": {
        "id": "Mn03ij3LPfFD",
        "colab_type": "code",
        "colab": {
          "base_uri": "https://localhost:8080/",
          "height": 312
        },
        "outputId": "8377757c-ee89-4c14-e6bc-638b754ee9ef"
      },
      "source": [
        "history_df[['loss', 'val_loss']].plot()\n",
        "plt.title(\"NODE Loss\")\n",
        "plt.xlabel(\"Epoch #\")\n",
        "plt.ylabel(\"Loss\")\n",
        "plt.legend(loc=\"upper right\")"
      ],
      "execution_count": 22,
      "outputs": [
        {
          "output_type": "execute_result",
          "data": {
            "text/plain": [
              "<matplotlib.legend.Legend at 0x7fbf7ef92390>"
            ]
          },
          "metadata": {
            "tags": []
          },
          "execution_count": 22
        },
        {
          "output_type": "display_data",
          "data": {
            "image/png": "[encoded data removed]",
            "text/plain": [
              "<Figure size 432x288 with 1 Axes>"
            ]
          },
          "metadata": {
            "tags": [],
            "needs_background": "light"
          }
        }
      ]
    },
    {
      "cell_type": "code",
      "metadata": {
        "id": "YML03w8GBklv",
        "colab_type": "code",
        "colab": {
          "base_uri": "https://localhost:8080/",
          "height": 312
        },
        "outputId": "f8fec8c9-e65e-4623-e75f-fa5e053fe4d7"
      },
      "source": [
        "history_df[['acc', 'val_acc']].plot()\n",
        "plt.title(\"NODE Accuracy\")\n",
        "plt.xlabel(\"Epoch #\")\n",
        "plt.ylabel(\"Accuracy\")\n",
        "plt.legend(loc=\"lower right\")"
      ],
      "execution_count": 23,
      "outputs": [
        {
          "output_type": "execute_result",
          "data": {
            "text/plain": [
              "<matplotlib.legend.Legend at 0x7fbf7ef92cf8>"
            ]
          },
          "metadata": {
            "tags": []
          },
          "execution_count": 23
        },
        {
          "output_type": "display_data",
          "data": {
            "image/png": "[encoded data removed]",
            "text/plain": [
              "<Figure size 432x288 with 1 Axes>"
            ]
          },
          "metadata": {
            "tags": [],
            "needs_background": "light"
          }
        }
      ]
    },
    {
      "cell_type": "code",
      "metadata": {
        "id": "H6ysRJ2rveFt",
        "colab_type": "code",
        "colab": {
          "base_uri": "https://localhost:8080/",
          "height": 119
        },
        "outputId": "1c84df1b-8aa9-40d6-8884-c5ac399806dc"
      },
      "source": [
        "model.load_weights(f'{PATH}/weights/model.h5')\n",
        "train_loss, train_score = model.evaluate(X_train, y_train)\n",
        "test_loss, test_score = model.evaluate(X_test, y_test)\n",
        "print(\"Train Loss:\", train_loss)\n",
        "print(\"Test Loss:\", test_loss)\n",
        "print(\"Train F1 Score:\", train_score)\n",
        "print(\"Test F1 Score:\", test_score)"
      ],
      "execution_count": 24,
      "outputs": [
        {
          "output_type": "stream",
          "text": [
            "50000/50000 [==============================] - 33s 652us/sample - loss: 0.1135 - acc: 0.9620\n",
            "10000/10000 [==============================] - 6s 644us/sample - loss: 1.4522 - acc: 0.7128\n",
            "Train Loss: 0.11345851946786047\n",
            "Test Loss: 1.4522267342567443\n",
            "Train F1 Score: 0.96204\n",
            "Test F1 Score: 0.7128\n"
          ],
          "name": "stdout"
        }
      ]
    },
    {
      "cell_type": "code",
      "metadata": {
        "id": "DeOFkXzbvvxA",
        "colab_type": "code",
        "colab": {
          "base_uri": "https://localhost:8080/",
          "height": 51
        },
        "outputId": "a7a824fe-7624-46c1-9a5d-95c417696422"
      },
      "source": [
        "print(\"Training Accuracy:\", round(100 * history.history['acc'][epochs - 1], 4))\n",
        "print(\"Testing Accuracy:\", round(100 * history.history['val_acc'][epochs - 1],4))"
      ],
      "execution_count": 25,
      "outputs": [
        {
          "output_type": "stream",
          "text": [
            "Training Accuracy: 97.212\n",
            "Testing Accuracy: 71.28\n"
          ],
          "name": "stdout"
        }
      ]
    },
    {
      "cell_type": "code",
      "metadata": {
        "id": "suRTt7y4cPu3",
        "colab_type": "code",
        "colab": {}
      },
      "source": [
        ""
      ],
      "execution_count": null,
      "outputs": []
    }
  ]
}