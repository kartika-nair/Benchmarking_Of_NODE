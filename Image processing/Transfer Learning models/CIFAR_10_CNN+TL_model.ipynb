{
  "nbformat": 4,
  "nbformat_minor": 0,
  "metadata": {
    "colab": {
      "name": "CIFAR-10_CNN+TL_model.ipynb",
      "provenance": [],
      "collapsed_sections": []
    },
    "kernelspec": {
      "name": "python3",
      "display_name": "Python 3"
    },
    "accelerator": "GPU"
  },
  "cells": [
    {
      "cell_type": "code",
      "metadata": {
        "id": "en6dexc4Kuo2",
        "colab_type": "code",
        "colab": {
          "base_uri": "https://localhost:8080/",
          "height": 122
        },
        "outputId": "d3b57050-fe17-45d5-dfbb-b5379031f425"
      },
      "source": [
        "from google.colab import drive\n",
        "drive.mount('/content/drive')"
      ],
      "execution_count": 1,
      "outputs": [
        {
          "output_type": "stream",
          "text": [
            "Go to this URL in a browser: https://accounts.google.com/o/oauth2/auth?client_id=947318989803-6bn6qk8qdgf4n4g3pfee6491hc0brc4i.apps.googleusercontent.com&redirect_uri=urn%3aietf%3awg%3aoauth%3a2.0%3aoob&response_type=code&scope=email%20https%3a%2f%2fwww.googleapis.com%2fauth%2fdocs.test%20https%3a%2f%2fwww.googleapis.com%2fauth%2fdrive%20https%3a%2f%2fwww.googleapis.com%2fauth%2fdrive.photos.readonly%20https%3a%2f%2fwww.googleapis.com%2fauth%2fpeopleapi.readonly\n",
            "\n",
            "Enter your authorization code:\n",
            "··········\n",
            "Mounted at /content/drive\n"
          ],
          "name": "stdout"
        }
      ]
    },
    {
      "cell_type": "code",
      "metadata": {
        "id": "Makc2oU7KobO",
        "colab_type": "code",
        "colab": {
          "base_uri": "https://localhost:8080/",
          "height": 921
        },
        "outputId": "f40fbcc7-d9ab-48a6-859d-85eb31f24bbd"
      },
      "source": [
        "!rm -rf sample_data\n",
        "!pip install tensorflow==1.15"
      ],
      "execution_count": 2,
      "outputs": [
        {
          "output_type": "stream",
          "text": [
            "Collecting tensorflow==1.15\n",
            "\u001b[?25l  Downloading https://files.pythonhosted.org/packages/3f/98/5a99af92fb911d7a88a0005ad55005f35b4c1ba8d75fba02df726cd936e6/tensorflow-1.15.0-cp36-cp36m-manylinux2010_x86_64.whl (412.3MB)\n",
            "\u001b[K     |████████████████████████████████| 412.3MB 30kB/s \n",
            "\u001b[?25hRequirement already satisfied: numpy<2.0,>=1.16.0 in /usr/local/lib/python3.6/dist-packages (from tensorflow==1.15) (1.18.5)\n",
            "Collecting tensorflow-estimator==1.15.1\n",
            "\u001b[?25l  Downloading https://files.pythonhosted.org/packages/de/62/2ee9cd74c9fa2fa450877847ba560b260f5d0fb70ee0595203082dafcc9d/tensorflow_estimator-1.15.1-py2.py3-none-any.whl (503kB)\n",
            "\u001b[K     |████████████████████████████████| 512kB 35.6MB/s \n",
            "\u001b[?25hRequirement already satisfied: keras-preprocessing>=1.0.5 in /usr/local/lib/python3.6/dist-packages (from tensorflow==1.15) (1.1.2)\n",
            "Collecting tensorboard<1.16.0,>=1.15.0\n",
            "\u001b[?25l  Downloading https://files.pythonhosted.org/packages/1e/e9/d3d747a97f7188f48aa5eda486907f3b345cd409f0a0850468ba867db246/tensorboard-1.15.0-py3-none-any.whl (3.8MB)\n",
            "\u001b[K     |████████████████████████████████| 3.8MB 37.6MB/s \n",
            "\u001b[?25hCollecting gast==0.2.2\n",
            "  Downloading https://files.pythonhosted.org/packages/4e/35/11749bf99b2d4e3cceb4d55ca22590b0d7c2c62b9de38ac4a4a7f4687421/gast-0.2.2.tar.gz\n",
            "Requirement already satisfied: absl-py>=0.7.0 in /usr/local/lib/python3.6/dist-packages (from tensorflow==1.15) (0.9.0)\n",
            "Requirement already satisfied: six>=1.10.0 in /usr/local/lib/python3.6/dist-packages (from tensorflow==1.15) (1.15.0)\n",
            "Requirement already satisfied: wheel>=0.26 in /usr/local/lib/python3.6/dist-packages (from tensorflow==1.15) (0.34.2)\n",
            "Requirement already satisfied: protobuf>=3.6.1 in /usr/local/lib/python3.6/dist-packages (from tensorflow==1.15) (3.12.4)\n",
            "Requirement already satisfied: google-pasta>=0.1.6 in /usr/local/lib/python3.6/dist-packages (from tensorflow==1.15) (0.2.0)\n",
            "Requirement already satisfied: wrapt>=1.11.1 in /usr/local/lib/python3.6/dist-packages (from tensorflow==1.15) (1.12.1)\n",
            "Requirement already satisfied: grpcio>=1.8.6 in /usr/local/lib/python3.6/dist-packages (from tensorflow==1.15) (1.30.0)\n",
            "Requirement already satisfied: termcolor>=1.1.0 in /usr/local/lib/python3.6/dist-packages (from tensorflow==1.15) (1.1.0)\n",
            "Requirement already satisfied: astor>=0.6.0 in /usr/local/lib/python3.6/dist-packages (from tensorflow==1.15) (0.8.1)\n",
            "Collecting keras-applications>=1.0.8\n",
            "\u001b[?25l  Downloading https://files.pythonhosted.org/packages/71/e3/19762fdfc62877ae9102edf6342d71b28fbfd9dea3d2f96a882ce099b03f/Keras_Applications-1.0.8-py3-none-any.whl (50kB)\n",
            "\u001b[K     |████████████████████████████████| 51kB 5.7MB/s \n",
            "\u001b[?25hRequirement already satisfied: opt-einsum>=2.3.2 in /usr/local/lib/python3.6/dist-packages (from tensorflow==1.15) (3.3.0)\n",
            "Requirement already satisfied: markdown>=2.6.8 in /usr/local/lib/python3.6/dist-packages (from tensorboard<1.16.0,>=1.15.0->tensorflow==1.15) (3.2.2)\n",
            "Requirement already satisfied: setuptools>=41.0.0 in /usr/local/lib/python3.6/dist-packages (from tensorboard<1.16.0,>=1.15.0->tensorflow==1.15) (49.2.0)\n",
            "Requirement already satisfied: werkzeug>=0.11.15 in /usr/local/lib/python3.6/dist-packages (from tensorboard<1.16.0,>=1.15.0->tensorflow==1.15) (1.0.1)\n",
            "Requirement already satisfied: h5py in /usr/local/lib/python3.6/dist-packages (from keras-applications>=1.0.8->tensorflow==1.15) (2.10.0)\n",
            "Requirement already satisfied: importlib-metadata; python_version < \"3.8\" in /usr/local/lib/python3.6/dist-packages (from markdown>=2.6.8->tensorboard<1.16.0,>=1.15.0->tensorflow==1.15) (1.7.0)\n",
            "Requirement already satisfied: zipp>=0.5 in /usr/local/lib/python3.6/dist-packages (from importlib-metadata; python_version < \"3.8\"->markdown>=2.6.8->tensorboard<1.16.0,>=1.15.0->tensorflow==1.15) (3.1.0)\n",
            "Building wheels for collected packages: gast\n",
            "  Building wheel for gast (setup.py) ... \u001b[?25l\u001b[?25hdone\n",
            "  Created wheel for gast: filename=gast-0.2.2-cp36-none-any.whl size=7540 sha256=e6da6ce75e36f5a7b8fd6e704514b8def7936d290019a8069ebb73161a6e1fbe\n",
            "  Stored in directory: /root/.cache/pip/wheels/5c/2e/7e/a1d4d4fcebe6c381f378ce7743a3ced3699feb89bcfbdadadd\n",
            "Successfully built gast\n",
            "\u001b[31mERROR: tensorflow-probability 0.11.0 has requirement gast>=0.3.2, but you'll have gast 0.2.2 which is incompatible.\u001b[0m\n",
            "Installing collected packages: tensorflow-estimator, tensorboard, gast, keras-applications, tensorflow\n",
            "  Found existing installation: tensorflow-estimator 2.3.0\n",
            "    Uninstalling tensorflow-estimator-2.3.0:\n",
            "      Successfully uninstalled tensorflow-estimator-2.3.0\n",
            "  Found existing installation: tensorboard 2.3.0\n",
            "    Uninstalling tensorboard-2.3.0:\n",
            "      Successfully uninstalled tensorboard-2.3.0\n",
            "  Found existing installation: gast 0.3.3\n",
            "    Uninstalling gast-0.3.3:\n",
            "      Successfully uninstalled gast-0.3.3\n",
            "  Found existing installation: tensorflow 2.3.0\n",
            "    Uninstalling tensorflow-2.3.0:\n",
            "      Successfully uninstalled tensorflow-2.3.0\n",
            "Successfully installed gast-0.2.2 keras-applications-1.0.8 tensorboard-1.15.0 tensorflow-1.15.0 tensorflow-estimator-1.15.1\n"
          ],
          "name": "stdout"
        }
      ]
    },
    {
      "cell_type": "code",
      "metadata": {
        "id": "S1gu9NyZtRSS",
        "colab_type": "code",
        "colab": {}
      },
      "source": [
        "import pickle\n",
        "import numpy as np\n",
        "import pandas as pd\n",
        "import matplotlib.pyplot as plt\n",
        "import tensorflow as tf\n",
        "from tensorflow.keras import Sequential\n",
        "from tensorflow.keras import optimizers\n",
        "from tensorflow.keras.utils import to_categorical\n",
        "import tensorflow.keras.backend as K\n",
        "from tensorflow.keras.applications.vgg16 import VGG16, preprocess_input"
      ],
      "execution_count": 3,
      "outputs": []
    },
    {
      "cell_type": "code",
      "metadata": {
        "id": "uqxfuw3btToL",
        "colab_type": "code",
        "colab": {}
      },
      "source": [
        "def unpickle(file, encoding='bytes'):\n",
        "    with open(file, 'rb') as f:\n",
        "        di = pickle.load(f, encoding=encoding)\n",
        "    return di"
      ],
      "execution_count": 4,
      "outputs": []
    },
    {
      "cell_type": "code",
      "metadata": {
        "id": "YVF7BTuwrXz8",
        "colab_type": "code",
        "colab": {}
      },
      "source": [
        "PATH = \"/content/drive/My Drive/Colab Notebooks/Image Classification NODE/CIFAR10_VGG\""
      ],
      "execution_count": 5,
      "outputs": []
    },
    {
      "cell_type": "code",
      "metadata": {
        "id": "w4_A-pRUt81a",
        "colab_type": "code",
        "colab": {}
      },
      "source": [
        "batches_meta = unpickle(f\"{PATH}/cifar-10-batches-py/batches.meta\", encoding='utf-8')\n",
        "label_names = batches_meta['label_names']"
      ],
      "execution_count": 6,
      "outputs": []
    },
    {
      "cell_type": "code",
      "metadata": {
        "id": "6uWmGDs4uXpU",
        "colab_type": "code",
        "colab": {}
      },
      "source": [
        "batch_labels = []\n",
        "batch_images = []\n",
        "\n",
        "for n in range(1, 6):\n",
        "    batch_dict = unpickle(f\"{PATH}/cifar-10-batches-py/data_batch_{n}\")\n",
        "    batch_labels.append(batch_dict[b'labels'])\n",
        "    data = batch_dict[b'data'].reshape((10000,3,32,32))\n",
        "    data = np.moveaxis(data, 1, -1)\n",
        "    batch_images.append(data)\n",
        "\n",
        "labels = np.concatenate(batch_labels, axis=0)\n",
        "images = np.concatenate(batch_images, axis=0)"
      ],
      "execution_count": 7,
      "outputs": []
    },
    {
      "cell_type": "code",
      "metadata": {
        "id": "SPFhz_-bua4k",
        "colab_type": "code",
        "colab": {}
      },
      "source": [
        "test_dict = unpickle(f\"{PATH}/cifar-10-batches-py/test_batch\")\n",
        "test_labels = np.array(test_dict[b'labels'])\n",
        "test_images = test_dict[b'data'].reshape((10000,3,32,32))\n",
        "test_images = np.moveaxis(test_images, 1, -1)"
      ],
      "execution_count": 8,
      "outputs": []
    },
    {
      "cell_type": "code",
      "metadata": {
        "id": "Q6b3QJ5EuvDP",
        "colab_type": "code",
        "colab": {}
      },
      "source": [
        "showSampleImages = False\n",
        "\n",
        "if showSampleImages:\n",
        "    fig = plt.figure(figsize=(14,10))\n",
        "    for n in range(1, 29):\n",
        "        fig.add_subplot(4, 7, n)\n",
        "        img = images[n]\n",
        "        plt.imshow(img)\n",
        "        plt.title(label_names[labels[n]], color = \"white\") \n",
        "        plt.axis('off')"
      ],
      "execution_count": 9,
      "outputs": []
    },
    {
      "cell_type": "code",
      "metadata": {
        "id": "UouNia7tu3ch",
        "colab_type": "code",
        "colab": {}
      },
      "source": [
        "X_train = preprocess_input(images)\n",
        "y_test = to_categorical(test_labels)\n",
        "\n",
        "X_test = preprocess_input(test_images)\n",
        "y_train = to_categorical(labels)"
      ],
      "execution_count": 10,
      "outputs": []
    },
    {
      "cell_type": "code",
      "metadata": {
        "id": "txtRtTr9M9VE",
        "colab_type": "code",
        "colab": {
          "base_uri": "https://localhost:8080/",
          "height": 88
        },
        "outputId": "9538e2c1-04fc-4a7a-8152-27c19679fde1"
      },
      "source": [
        "def dcodnn(input_shape, num_classes):\n",
        "    model = Sequential()\n",
        "    vgg_model = VGG16(weights = None, include_top = True, input_shape= input_shape, classes = num_classes)\n",
        "    \n",
        "    for layers in vgg_model.layers[:-4]:\n",
        "        model.add(layers)\n",
        "\n",
        "    for layers in vgg_model.layers[-4:]:\n",
        "        model.add(layers)\n",
        "    return model\n",
        "    \n",
        "num_classes = 10\n",
        "image_shape = (32, 32, 3)\n",
        "model = dcodnn(image_shape, num_classes)"
      ],
      "execution_count": 11,
      "outputs": [
        {
          "output_type": "stream",
          "text": [
            "WARNING:tensorflow:From /usr/local/lib/python3.6/dist-packages/tensorflow_core/python/ops/resource_variable_ops.py:1630: calling BaseResourceVariable.__init__ (from tensorflow.python.ops.resource_variable_ops) with constraint is deprecated and will be removed in a future version.\n",
            "Instructions for updating:\n",
            "If using Keras pass *_constraint arguments to layers.\n"
          ],
          "name": "stdout"
        }
      ]
    },
    {
      "cell_type": "code",
      "metadata": {
        "id": "cGwmYe3VNRtv",
        "colab_type": "code",
        "colab": {
          "base_uri": "https://localhost:8080/",
          "height": 901
        },
        "outputId": "c226ea36-8e52-470a-b1f0-e9f20afb9011"
      },
      "source": [
        "model.summary()"
      ],
      "execution_count": 12,
      "outputs": [
        {
          "output_type": "stream",
          "text": [
            "Model: \"sequential\"\n",
            "_________________________________________________________________\n",
            "Layer (type)                 Output Shape              Param #   \n",
            "=================================================================\n",
            "block1_conv1 (Conv2D)        (None, 32, 32, 64)        1792      \n",
            "_________________________________________________________________\n",
            "block1_conv2 (Conv2D)        (None, 32, 32, 64)        36928     \n",
            "_________________________________________________________________\n",
            "block1_pool (MaxPooling2D)   (None, 16, 16, 64)        0         \n",
            "_________________________________________________________________\n",
            "block2_conv1 (Conv2D)        (None, 16, 16, 128)       73856     \n",
            "_________________________________________________________________\n",
            "block2_conv2 (Conv2D)        (None, 16, 16, 128)       147584    \n",
            "_________________________________________________________________\n",
            "block2_pool (MaxPooling2D)   (None, 8, 8, 128)         0         \n",
            "_________________________________________________________________\n",
            "block3_conv1 (Conv2D)        (None, 8, 8, 256)         295168    \n",
            "_________________________________________________________________\n",
            "block3_conv2 (Conv2D)        (None, 8, 8, 256)         590080    \n",
            "_________________________________________________________________\n",
            "block3_conv3 (Conv2D)        (None, 8, 8, 256)         590080    \n",
            "_________________________________________________________________\n",
            "block3_pool (MaxPooling2D)   (None, 4, 4, 256)         0         \n",
            "_________________________________________________________________\n",
            "block4_conv1 (Conv2D)        (None, 4, 4, 512)         1180160   \n",
            "_________________________________________________________________\n",
            "block4_conv2 (Conv2D)        (None, 4, 4, 512)         2359808   \n",
            "_________________________________________________________________\n",
            "block4_conv3 (Conv2D)        (None, 4, 4, 512)         2359808   \n",
            "_________________________________________________________________\n",
            "block4_pool (MaxPooling2D)   (None, 2, 2, 512)         0         \n",
            "_________________________________________________________________\n",
            "block5_conv1 (Conv2D)        (None, 2, 2, 512)         2359808   \n",
            "_________________________________________________________________\n",
            "block5_conv2 (Conv2D)        (None, 2, 2, 512)         2359808   \n",
            "_________________________________________________________________\n",
            "block5_conv3 (Conv2D)        (None, 2, 2, 512)         2359808   \n",
            "_________________________________________________________________\n",
            "block5_pool (MaxPooling2D)   (None, 1, 1, 512)         0         \n",
            "_________________________________________________________________\n",
            "flatten (Flatten)            (None, 512)               0         \n",
            "_________________________________________________________________\n",
            "fc1 (Dense)                  (None, 4096)              2101248   \n",
            "_________________________________________________________________\n",
            "fc2 (Dense)                  (None, 4096)              16781312  \n",
            "_________________________________________________________________\n",
            "predictions (Dense)          (None, 10)                40970     \n",
            "=================================================================\n",
            "Total params: 33,638,218\n",
            "Trainable params: 33,638,218\n",
            "Non-trainable params: 0\n",
            "_________________________________________________________________\n"
          ],
          "name": "stdout"
        }
      ]
    },
    {
      "cell_type": "code",
      "metadata": {
        "id": "gZlHqbn7u9NF",
        "colab_type": "code",
        "colab": {}
      },
      "source": [
        "model.compile(\n",
        "    loss='categorical_crossentropy',\n",
        "    optimizer='sgd',\n",
        "    metrics=['acc']\n",
        ")"
      ],
      "execution_count": 13,
      "outputs": []
    },
    {
      "cell_type": "code",
      "metadata": {
        "id": "YhmmdMc5u_55",
        "colab_type": "code",
        "colab": {
          "base_uri": "https://localhost:8080/",
          "height": 1000
        },
        "outputId": "d5f84c5a-49d0-4072-ef78-94f14daaa462"
      },
      "source": [
        "from tensorflow.keras.callbacks import ModelCheckpoint\n",
        "\n",
        "checkpoint = ModelCheckpoint(\n",
        "    f'{PATH}/weights/model.h5', \n",
        "    monitor='acc', \n",
        "    verbose=1, \n",
        "    save_best_only=True, \n",
        "    save_weights_only=False,\n",
        "    mode='auto'\n",
        ")\n",
        "\n",
        "epochs = 30\n",
        "batch_size = 256\n",
        "\n",
        "history = model.fit(X_train, y_train,\n",
        "                    epochs = epochs,\n",
        "                    batch_size=batch_size, \n",
        "                    verbose = 1, \n",
        "                    validation_data=(X_test, y_test), \n",
        "                    callbacks=[checkpoint])"
      ],
      "execution_count": 14,
      "outputs": [
        {
          "output_type": "stream",
          "text": [
            "Train on 50000 samples, validate on 10000 samples\n",
            "Epoch 1/30\n",
            "49920/50000 [============================>.] - ETA: 0s - loss: 2.2261 - acc: 0.1673\n",
            "Epoch 00001: acc improved from -inf to 0.16728, saving model to /content/drive/My Drive/Colab Notebooks/Image Classification NODE/CIFAR10_VGG/weights/model.h5\n",
            "50000/50000 [==============================] - 61s 1ms/sample - loss: 2.2262 - acc: 0.1673 - val_loss: 2.1573 - val_acc: 0.2071\n",
            "Epoch 2/30\n",
            "49920/50000 [============================>.] - ETA: 0s - loss: 2.0022 - acc: 0.2716\n",
            "Epoch 00002: acc improved from 0.16728 to 0.27152, saving model to /content/drive/My Drive/Colab Notebooks/Image Classification NODE/CIFAR10_VGG/weights/model.h5\n",
            "50000/50000 [==============================] - 48s 953us/sample - loss: 2.0024 - acc: 0.2715 - val_loss: 1.9240 - val_acc: 0.2979\n",
            "Epoch 3/30\n",
            "49920/50000 [============================>.] - ETA: 0s - loss: 1.8502 - acc: 0.3327\n",
            "Epoch 00003: acc improved from 0.27152 to 0.33266, saving model to /content/drive/My Drive/Colab Notebooks/Image Classification NODE/CIFAR10_VGG/weights/model.h5\n",
            "50000/50000 [==============================] - 47s 944us/sample - loss: 1.8503 - acc: 0.3327 - val_loss: 1.7004 - val_acc: 0.3807\n",
            "Epoch 4/30\n",
            "49920/50000 [============================>.] - ETA: 0s - loss: 1.7096 - acc: 0.3864\n",
            "Epoch 00004: acc improved from 0.33266 to 0.38650, saving model to /content/drive/My Drive/Colab Notebooks/Image Classification NODE/CIFAR10_VGG/weights/model.h5\n",
            "50000/50000 [==============================] - 47s 946us/sample - loss: 1.7095 - acc: 0.3865 - val_loss: 1.6151 - val_acc: 0.4022\n",
            "Epoch 5/30\n",
            "49920/50000 [============================>.] - ETA: 0s - loss: 1.5917 - acc: 0.4280\n",
            "Epoch 00005: acc improved from 0.38650 to 0.42804, saving model to /content/drive/My Drive/Colab Notebooks/Image Classification NODE/CIFAR10_VGG/weights/model.h5\n",
            "50000/50000 [==============================] - 47s 942us/sample - loss: 1.5918 - acc: 0.4280 - val_loss: 1.6377 - val_acc: 0.4037\n",
            "Epoch 6/30\n",
            "49920/50000 [============================>.] - ETA: 0s - loss: 1.5023 - acc: 0.4649\n",
            "Epoch 00006: acc improved from 0.42804 to 0.46496, saving model to /content/drive/My Drive/Colab Notebooks/Image Classification NODE/CIFAR10_VGG/weights/model.h5\n",
            "50000/50000 [==============================] - 47s 944us/sample - loss: 1.5020 - acc: 0.4650 - val_loss: 1.5459 - val_acc: 0.4429\n",
            "Epoch 7/30\n",
            "49920/50000 [============================>.] - ETA: 0s - loss: 1.4233 - acc: 0.4922\n",
            "Epoch 00007: acc improved from 0.46496 to 0.49226, saving model to /content/drive/My Drive/Colab Notebooks/Image Classification NODE/CIFAR10_VGG/weights/model.h5\n",
            "50000/50000 [==============================] - 47s 944us/sample - loss: 1.4233 - acc: 0.4923 - val_loss: 1.5083 - val_acc: 0.4601\n",
            "Epoch 8/30\n",
            "49920/50000 [============================>.] - ETA: 0s - loss: 1.3466 - acc: 0.5246\n",
            "Epoch 00008: acc improved from 0.49226 to 0.52452, saving model to /content/drive/My Drive/Colab Notebooks/Image Classification NODE/CIFAR10_VGG/weights/model.h5\n",
            "50000/50000 [==============================] - 47s 945us/sample - loss: 1.3468 - acc: 0.5245 - val_loss: 1.4523 - val_acc: 0.4761\n",
            "Epoch 9/30\n",
            "49920/50000 [============================>.] - ETA: 0s - loss: 1.2738 - acc: 0.5506\n",
            "Epoch 00009: acc improved from 0.52452 to 0.55056, saving model to /content/drive/My Drive/Colab Notebooks/Image Classification NODE/CIFAR10_VGG/weights/model.h5\n",
            "50000/50000 [==============================] - 47s 943us/sample - loss: 1.2738 - acc: 0.5506 - val_loss: 1.2971 - val_acc: 0.5336\n",
            "Epoch 10/30\n",
            "49920/50000 [============================>.] - ETA: 0s - loss: 1.2068 - acc: 0.5761\n",
            "Epoch 00010: acc improved from 0.55056 to 0.57600, saving model to /content/drive/My Drive/Colab Notebooks/Image Classification NODE/CIFAR10_VGG/weights/model.h5\n",
            "50000/50000 [==============================] - 47s 939us/sample - loss: 1.2070 - acc: 0.5760 - val_loss: 1.3853 - val_acc: 0.5135\n",
            "Epoch 11/30\n",
            "49920/50000 [============================>.] - ETA: 0s - loss: 1.1505 - acc: 0.5975\n",
            "Epoch 00011: acc improved from 0.57600 to 0.59766, saving model to /content/drive/My Drive/Colab Notebooks/Image Classification NODE/CIFAR10_VGG/weights/model.h5\n",
            "50000/50000 [==============================] - 47s 940us/sample - loss: 1.1505 - acc: 0.5977 - val_loss: 1.2695 - val_acc: 0.5419\n",
            "Epoch 12/30\n",
            "49920/50000 [============================>.] - ETA: 0s - loss: 1.0760 - acc: 0.6236\n",
            "Epoch 00012: acc improved from 0.59766 to 0.62372, saving model to /content/drive/My Drive/Colab Notebooks/Image Classification NODE/CIFAR10_VGG/weights/model.h5\n",
            "50000/50000 [==============================] - 47s 941us/sample - loss: 1.0761 - acc: 0.6237 - val_loss: 1.2148 - val_acc: 0.5601\n",
            "Epoch 13/30\n",
            "49920/50000 [============================>.] - ETA: 0s - loss: 1.0222 - acc: 0.6448\n",
            "Epoch 00013: acc improved from 0.62372 to 0.64476, saving model to /content/drive/My Drive/Colab Notebooks/Image Classification NODE/CIFAR10_VGG/weights/model.h5\n",
            "50000/50000 [==============================] - 47s 941us/sample - loss: 1.0222 - acc: 0.6448 - val_loss: 1.2673 - val_acc: 0.5626\n",
            "Epoch 14/30\n",
            "49920/50000 [============================>.] - ETA: 0s - loss: 0.9573 - acc: 0.6647\n",
            "Epoch 00014: acc improved from 0.64476 to 0.66476, saving model to /content/drive/My Drive/Colab Notebooks/Image Classification NODE/CIFAR10_VGG/weights/model.h5\n",
            "50000/50000 [==============================] - 47s 941us/sample - loss: 0.9573 - acc: 0.6648 - val_loss: 1.0851 - val_acc: 0.6180\n",
            "Epoch 15/30\n",
            "49920/50000 [============================>.] - ETA: 0s - loss: 0.8959 - acc: 0.6895\n",
            "Epoch 00015: acc improved from 0.66476 to 0.68944, saving model to /content/drive/My Drive/Colab Notebooks/Image Classification NODE/CIFAR10_VGG/weights/model.h5\n",
            "50000/50000 [==============================] - 47s 938us/sample - loss: 0.8960 - acc: 0.6894 - val_loss: 1.5255 - val_acc: 0.5068\n",
            "Epoch 16/30\n",
            "49920/50000 [============================>.] - ETA: 0s - loss: 0.8457 - acc: 0.7063\n",
            "Epoch 00016: acc improved from 0.68944 to 0.70610, saving model to /content/drive/My Drive/Colab Notebooks/Image Classification NODE/CIFAR10_VGG/weights/model.h5\n",
            "50000/50000 [==============================] - 47s 942us/sample - loss: 0.8460 - acc: 0.7061 - val_loss: 1.5181 - val_acc: 0.5113\n",
            "Epoch 17/30\n",
            "49920/50000 [============================>.] - ETA: 0s - loss: 0.7836 - acc: 0.7258\n",
            "Epoch 00017: acc improved from 0.70610 to 0.72590, saving model to /content/drive/My Drive/Colab Notebooks/Image Classification NODE/CIFAR10_VGG/weights/model.h5\n",
            "50000/50000 [==============================] - 49s 977us/sample - loss: 0.7832 - acc: 0.7259 - val_loss: 1.0477 - val_acc: 0.6470\n",
            "Epoch 18/30\n",
            "49920/50000 [============================>.] - ETA: 0s - loss: 0.7263 - acc: 0.7476\n",
            "Epoch 00018: acc improved from 0.72590 to 0.74766, saving model to /content/drive/My Drive/Colab Notebooks/Image Classification NODE/CIFAR10_VGG/weights/model.h5\n",
            "50000/50000 [==============================] - 49s 990us/sample - loss: 0.7263 - acc: 0.7477 - val_loss: 1.0623 - val_acc: 0.6363\n",
            "Epoch 19/30\n",
            "49920/50000 [============================>.] - ETA: 0s - loss: 0.6672 - acc: 0.7683\n",
            "Epoch 00019: acc improved from 0.74766 to 0.76834, saving model to /content/drive/My Drive/Colab Notebooks/Image Classification NODE/CIFAR10_VGG/weights/model.h5\n",
            "50000/50000 [==============================] - 47s 948us/sample - loss: 0.6671 - acc: 0.7683 - val_loss: 1.0429 - val_acc: 0.6478\n",
            "Epoch 20/30\n",
            "49920/50000 [============================>.] - ETA: 0s - loss: 0.6121 - acc: 0.7861\n",
            "Epoch 00020: acc improved from 0.76834 to 0.78608, saving model to /content/drive/My Drive/Colab Notebooks/Image Classification NODE/CIFAR10_VGG/weights/model.h5\n",
            "50000/50000 [==============================] - 47s 942us/sample - loss: 0.6120 - acc: 0.7861 - val_loss: 1.1019 - val_acc: 0.6337\n",
            "Epoch 21/30\n",
            "49920/50000 [============================>.] - ETA: 0s - loss: 0.5491 - acc: 0.8093\n",
            "Epoch 00021: acc improved from 0.78608 to 0.80942, saving model to /content/drive/My Drive/Colab Notebooks/Image Classification NODE/CIFAR10_VGG/weights/model.h5\n",
            "50000/50000 [==============================] - 47s 942us/sample - loss: 0.5489 - acc: 0.8094 - val_loss: 1.0251 - val_acc: 0.6589\n",
            "Epoch 22/30\n",
            "49920/50000 [============================>.] - ETA: 0s - loss: 0.5139 - acc: 0.8250\n",
            "Epoch 00022: acc improved from 0.80942 to 0.82508, saving model to /content/drive/My Drive/Colab Notebooks/Image Classification NODE/CIFAR10_VGG/weights/model.h5\n",
            "50000/50000 [==============================] - 49s 981us/sample - loss: 0.5138 - acc: 0.8251 - val_loss: 1.2043 - val_acc: 0.6502\n",
            "Epoch 23/30\n",
            "49920/50000 [============================>.] - ETA: 0s - loss: 0.4315 - acc: 0.8504\n",
            "Epoch 00023: acc improved from 0.82508 to 0.85046, saving model to /content/drive/My Drive/Colab Notebooks/Image Classification NODE/CIFAR10_VGG/weights/model.h5\n",
            "50000/50000 [==============================] - 49s 982us/sample - loss: 0.4315 - acc: 0.8505 - val_loss: 1.0664 - val_acc: 0.6680\n",
            "Epoch 24/30\n",
            "49920/50000 [============================>.] - ETA: 0s - loss: 0.3720 - acc: 0.8747\n",
            "Epoch 00024: acc improved from 0.85046 to 0.87478, saving model to /content/drive/My Drive/Colab Notebooks/Image Classification NODE/CIFAR10_VGG/weights/model.h5\n",
            "50000/50000 [==============================] - 49s 981us/sample - loss: 0.3718 - acc: 0.8748 - val_loss: 1.3092 - val_acc: 0.6359\n",
            "Epoch 25/30\n",
            "49920/50000 [============================>.] - ETA: 0s - loss: 0.3450 - acc: 0.8862\n",
            "Epoch 00025: acc improved from 0.87478 to 0.88610, saving model to /content/drive/My Drive/Colab Notebooks/Image Classification NODE/CIFAR10_VGG/weights/model.h5\n",
            "50000/50000 [==============================] - 47s 947us/sample - loss: 0.3453 - acc: 0.8861 - val_loss: 1.0526 - val_acc: 0.6598\n",
            "Epoch 26/30\n",
            "49920/50000 [============================>.] - ETA: 0s - loss: 0.2618 - acc: 0.9127\n",
            "Epoch 00026: acc improved from 0.88610 to 0.91246, saving model to /content/drive/My Drive/Colab Notebooks/Image Classification NODE/CIFAR10_VGG/weights/model.h5\n",
            "50000/50000 [==============================] - 47s 947us/sample - loss: 0.2626 - acc: 0.9125 - val_loss: 2.7372 - val_acc: 0.4687\n",
            "Epoch 27/30\n",
            "49920/50000 [============================>.] - ETA: 0s - loss: 0.2826 - acc: 0.9121\n",
            "Epoch 00027: acc did not improve from 0.91246\n",
            "50000/50000 [==============================] - 46s 922us/sample - loss: 0.2826 - acc: 0.9120 - val_loss: 2.0429 - val_acc: 0.5827\n",
            "Epoch 28/30\n",
            "49920/50000 [============================>.] - ETA: 0s - loss: 0.2333 - acc: 0.9320\n",
            "Epoch 00028: acc improved from 0.91246 to 0.93166, saving model to /content/drive/My Drive/Colab Notebooks/Image Classification NODE/CIFAR10_VGG/weights/model.h5\n",
            "50000/50000 [==============================] - 50s 996us/sample - loss: 0.2348 - acc: 0.9317 - val_loss: 1.0005 - val_acc: 0.6520\n",
            "Epoch 29/30\n",
            "49920/50000 [============================>.] - ETA: 0s - loss: 0.1462 - acc: 0.9578\n",
            "Epoch 00029: acc improved from 0.93166 to 0.95786, saving model to /content/drive/My Drive/Colab Notebooks/Image Classification NODE/CIFAR10_VGG/weights/model.h5\n",
            "50000/50000 [==============================] - 48s 954us/sample - loss: 0.1460 - acc: 0.9579 - val_loss: 1.2376 - val_acc: 0.7096\n",
            "Epoch 30/30\n",
            "49920/50000 [============================>.] - ETA: 0s - loss: 0.0603 - acc: 0.9844\n",
            "Epoch 00030: acc improved from 0.95786 to 0.98436, saving model to /content/drive/My Drive/Colab Notebooks/Image Classification NODE/CIFAR10_VGG/weights/model.h5\n",
            "50000/50000 [==============================] - 50s 995us/sample - loss: 0.0604 - acc: 0.9844 - val_loss: 1.5625 - val_acc: 0.7049\n"
          ],
          "name": "stdout"
        }
      ]
    },
    {
      "cell_type": "code",
      "metadata": {
        "id": "GSGoNoeKvPoN",
        "colab_type": "code",
        "colab": {
          "base_uri": "https://localhost:8080/",
          "height": 204
        },
        "outputId": "809eb912-174c-4c97-ab4a-bedc216cbad5"
      },
      "source": [
        "history_df = pd.DataFrame(history.history)\n",
        "history_df.head()"
      ],
      "execution_count": 15,
      "outputs": [
        {
          "output_type": "execute_result",
          "data": {
            "text/html": [
              "<div>\n",
              "<style scoped>\n",
              "    .dataframe tbody tr th:only-of-type {\n",
              "        vertical-align: middle;\n",
              "    }\n",
              "\n",
              "    .dataframe tbody tr th {\n",
              "        vertical-align: top;\n",
              "    }\n",
              "\n",
              "    .dataframe thead th {\n",
              "        text-align: right;\n",
              "    }\n",
              "</style>\n",
              "<table border=\"1\" class=\"dataframe\">\n",
              "  <thead>\n",
              "    <tr style=\"text-align: right;\">\n",
              "      <th></th>\n",
              "      <th>loss</th>\n",
              "      <th>acc</th>\n",
              "      <th>val_loss</th>\n",
              "      <th>val_acc</th>\n",
              "    </tr>\n",
              "  </thead>\n",
              "  <tbody>\n",
              "    <tr>\n",
              "      <th>0</th>\n",
              "      <td>2.226203</td>\n",
              "      <td>0.16728</td>\n",
              "      <td>2.157348</td>\n",
              "      <td>0.2071</td>\n",
              "    </tr>\n",
              "    <tr>\n",
              "      <th>1</th>\n",
              "      <td>2.002441</td>\n",
              "      <td>0.27152</td>\n",
              "      <td>1.923987</td>\n",
              "      <td>0.2979</td>\n",
              "    </tr>\n",
              "    <tr>\n",
              "      <th>2</th>\n",
              "      <td>1.850274</td>\n",
              "      <td>0.33266</td>\n",
              "      <td>1.700440</td>\n",
              "      <td>0.3807</td>\n",
              "    </tr>\n",
              "    <tr>\n",
              "      <th>3</th>\n",
              "      <td>1.709474</td>\n",
              "      <td>0.38650</td>\n",
              "      <td>1.615080</td>\n",
              "      <td>0.4022</td>\n",
              "    </tr>\n",
              "    <tr>\n",
              "      <th>4</th>\n",
              "      <td>1.591771</td>\n",
              "      <td>0.42804</td>\n",
              "      <td>1.637735</td>\n",
              "      <td>0.4037</td>\n",
              "    </tr>\n",
              "  </tbody>\n",
              "</table>\n",
              "</div>"
            ],
            "text/plain": [
              "       loss      acc  val_loss  val_acc\n",
              "0  2.226203  0.16728  2.157348   0.2071\n",
              "1  2.002441  0.27152  1.923987   0.2979\n",
              "2  1.850274  0.33266  1.700440   0.3807\n",
              "3  1.709474  0.38650  1.615080   0.4022\n",
              "4  1.591771  0.42804  1.637735   0.4037"
            ]
          },
          "metadata": {
            "tags": []
          },
          "execution_count": 15
        }
      ]
    },
    {
      "cell_type": "code",
      "metadata": {
        "id": "Mn03ij3LPfFD",
        "colab_type": "code",
        "colab": {
          "base_uri": "https://localhost:8080/",
          "height": 282
        },
        "outputId": "9d758191-d7ef-483d-8505-e5ef0984636a"
      },
      "source": [
        "history_df[['loss', 'val_loss']].plot()"
      ],
      "execution_count": 16,
      "outputs": [
        {
          "output_type": "execute_result",
          "data": {
            "text/plain": [
              "<matplotlib.axes._subplots.AxesSubplot at 0x7f42d0322e48>"
            ]
          },
          "metadata": {
            "tags": []
          },
          "execution_count": 16
        },
        {
          "output_type": "display_data",
          "data": {
            "image/png": "[encoded data removed]",
            "text/plain": [
              "<Figure size 432x288 with 1 Axes>"
            ]
          },
          "metadata": {
            "tags": [],
            "needs_background": "light"
          }
        }
      ]
    },
    {
      "cell_type": "code",
      "metadata": {
        "id": "YML03w8GBklv",
        "colab_type": "code",
        "colab": {
          "base_uri": "https://localhost:8080/",
          "height": 282
        },
        "outputId": "6f00bd6c-b00b-483a-9b49-30173ec5b7a7"
      },
      "source": [
        "history_df[['acc', 'val_acc']].plot()"
      ],
      "execution_count": 17,
      "outputs": [
        {
          "output_type": "execute_result",
          "data": {
            "text/plain": [
              "<matplotlib.axes._subplots.AxesSubplot at 0x7f42d01f9978>"
            ]
          },
          "metadata": {
            "tags": []
          },
          "execution_count": 17
        },
        {
          "output_type": "display_data",
          "data": {
            "image/png": "[encoded data removed]",
            "text/plain": [
              "<Figure size 432x288 with 1 Axes>"
            ]
          },
          "metadata": {
            "tags": [],
            "needs_background": "light"
          }
        }
      ]
    },
    {
      "cell_type": "code",
      "metadata": {
        "id": "H6ysRJ2rveFt",
        "colab_type": "code",
        "colab": {
          "base_uri": "https://localhost:8080/",
          "height": 119
        },
        "outputId": "3997dfb4-f36e-46fa-f830-15b15623eda2"
      },
      "source": [
        "model.load_weights(f'{PATH}/weights/model.h5')\n",
        "train_loss, train_score = model.evaluate(X_train, y_train)\n",
        "test_loss, test_score = model.evaluate(X_test, y_test)\n",
        "print(\"Train Loss:\", train_loss)\n",
        "print(\"Test Loss:\", test_loss)\n",
        "print(\"Train F1 Score:\", train_score)\n",
        "print(\"Test F1 Score:\", test_score)"
      ],
      "execution_count": 18,
      "outputs": [
        {
          "output_type": "stream",
          "text": [
            "50000/50000 [==============================] - 32s 640us/sample - loss: 0.0634 - acc: 0.9792\n",
            "10000/10000 [==============================] - 6s 625us/sample - loss: 1.5625 - acc: 0.7049\n",
            "Train Loss: 0.06338058941796422\n",
            "Test Loss: 1.5624738854408264\n",
            "Train F1 Score: 0.97918\n",
            "Test F1 Score: 0.7049\n"
          ],
          "name": "stdout"
        }
      ]
    },
    {
      "cell_type": "code",
      "metadata": {
        "id": "DeOFkXzbvvxA",
        "colab_type": "code",
        "colab": {
          "base_uri": "https://localhost:8080/",
          "height": 51
        },
        "outputId": "4d39c46a-0a82-4af7-fe45-5f4c82b69001"
      },
      "source": [
        "print(\"Training Accuracy:\", round(100 * history.history['acc'][epochs - 1], 4))\n",
        "print(\"Testing Accuracy:\", round(100 * history.history['val_acc'][epochs - 1],4))"
      ],
      "execution_count": 19,
      "outputs": [
        {
          "output_type": "stream",
          "text": [
            "Training Accuracy: 98.436\n",
            "Testing Accuracy: 70.49\n"
          ],
          "name": "stdout"
        }
      ]
    },
    {
      "cell_type": "code",
      "metadata": {
        "id": "poC3QbZXaTDk",
        "colab_type": "code",
        "colab": {}
      },
      "source": [
        ""
      ],
      "execution_count": 19,
      "outputs": []
    }
  ]
}