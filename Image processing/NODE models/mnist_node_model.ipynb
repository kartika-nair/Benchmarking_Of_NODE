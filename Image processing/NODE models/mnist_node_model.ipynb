{
  "nbformat": 4,
  "nbformat_minor": 0,
  "metadata": {
    "colab": {
      "name": "train-mnsit.ipynb",
      "provenance": [],
      "private_outputs": true,
      "authorship_tag": "ABX9TyOZ2dd22oSb0ELF8kKA2gde",
      "include_colab_link": true
    },
    "kernelspec": {
      "name": "python3",
      "display_name": "Python 3"
    },
    "accelerator": "GPU"
  },
  "cells": [
    {
      "cell_type": "markdown",
      "metadata": {
        "id": "view-in-github",
        "colab_type": "text"
      },
      "source": [
        "<a href=\"https://colab.research.google.com/github/aanchal-n/NeuralODE-Notes-Projects/blob/master/train_mnist.ipynb\" target=\"_parent\"><img src=\"https://colab.research.google.com/assets/colab-badge.svg\" alt=\"Open In Colab\"/></a>"
      ]
    },
    {
      "cell_type": "code",
      "metadata": {
        "id": "pkSA5UnNH51v",
        "colab_type": "code",
        "colab": {}
      },
      "source": [
        "!pip install tensorflow-scientific\n",
        "!pip install pygal\n",
        "!pip install gast==0.2.2"
      ],
      "execution_count": null,
      "outputs": []
    },
    {
      "cell_type": "code",
      "metadata": {
        "id": "yNGZvZ6lIABS",
        "colab_type": "code",
        "colab": {}
      },
      "source": [
        "import zipfile as zipf\n",
        "from PIL import Image\n",
        "import numpy as np\n",
        "from tensorflow.keras.layers import Input, Conv2D, BatchNormalization, MaxPooling2D, Dense, Flatten, Dropout, Input\n",
        "from tensorflow.keras.models import Model\n",
        "import tensorflow.keras.backend as K\n",
        "import tensorflow_scientific as tfs\n",
        "from tensorflow.keras.datasets import cifar10\n",
        "from tensorflow.keras.datasets import mnist\n",
        "#from odeblocktensorflow import ODEBlock\n",
        "import tensorflow as tf\n",
        "import time\n",
        "import pygal\n",
        "import matplotlib.pyplot as plt"
      ],
      "execution_count": null,
      "outputs": []
    },
    {
      "cell_type": "code",
      "metadata": {
        "id": "Yn_yqohUICFw",
        "colab_type": "code",
        "colab": {}
      },
      "source": [
        "from google.colab import drive\n",
        "drive.mount('/content/drive')"
      ],
      "execution_count": null,
      "outputs": []
    },
    {
      "cell_type": "code",
      "metadata": {
        "id": "tVUdle4VKeAB",
        "colab_type": "code",
        "colab": {}
      },
      "source": [
        "def visualize(h, name, loss_or_accuracy):\n",
        "    if loss_or_accuracy=='Accuracy':\n",
        "      plt.title(name+'-'+loss_or_accuracy)\n",
        "      plt.plot(h.history['accuracy'],label='Training Acc')\n",
        "      plt.plot(h.history['val_accuracy'],label='Testing Acc')\n",
        "      plt.xlabel('Epoch #')\n",
        "      plt.legend(loc='lower right')\n",
        "      plt.ylabel('Accuracy')\n",
        "      plt.savefig('/content/drive/My Drive/Colab Notebooks/Image Classification NODE/xAlpharax/codeImRunning/assets/graphs/'+name+'-'+loss_or_accuracy+'.png')\n",
        "\n",
        "    #############################################################\n",
        "    else:\n",
        "      plt.title(name+'-'+loss_or_accuracy)\n",
        "      plt.plot(h.history['loss'],label='Training Loss')\n",
        "      plt.plot(h.history['val_loss'],label='Testing Loss')\n",
        "      plt.xlabel('Epoch #')\n",
        "      plt.legend(loc='upper right')\n",
        "      plt.ylabel('Loss')\n",
        "      plt.savefig('/content/drive/My Drive/Colab Notebooks/Image Classification NODE/xAlpharax/codeImRunning/assets/graphs/'+name+'-'+loss_or_accuracy+'.png')\n",
        "\n"
      ],
      "execution_count": null,
      "outputs": []
    },
    {
      "cell_type": "code",
      "metadata": {
        "id": "2_Ijk96Zal5Z",
        "colab_type": "code",
        "colab": {}
      },
      "source": [
        "class ODEBlock(tf.keras.layers.Layer):\n",
        "\n",
        "    def __init__(self, filters, kernel_size, **kwargs):\n",
        "        self.filters = filters\n",
        "        self.kernel_size = kernel_size\n",
        "        super(ODEBlock, self).__init__(**kwargs)\n",
        "\n",
        "    def build(self, input_shape):\n",
        "        self.conv2d_w1 = self.add_weight(\"conv2d_w1\", self.kernel_size + (self.filters + 1, self.filters), initializer='glorot_uniform')\n",
        "        self.conv2d_w2 = self.add_weight(\"conv2d_w2\", self.kernel_size + (self.filters + 1, self.filters), initializer='glorot_uniform')\n",
        "        \n",
        "        self.conv2d_b1 = self.add_weight(\"conv2d_b1\", (self.filters,), initializer='zero')\n",
        "        self.conv2d_b2 = self.add_weight(\"conv2d_b2\", (self.filters,), initializer='zero')\n",
        "        super(ODEBlock, self).build(input_shape)\n",
        "\n",
        "    def call(self, x):\n",
        "        t = K.constant([0,1], dtype=\"float32\")\n",
        "        #return tf.contrib.integrate.odeint(self.ode_func, x, t, rtol=1e-3, atol=1e-3)[1] #for tensorflow 1.x\n",
        "        return tfs.integrate.odeint(self.ode_func, x, t, rtol=1e-3, atol=1e-3)[1]\n",
        "\n",
        "    def compute_output_shape(self, input_shape):\n",
        "        return input_shape\n",
        "\n",
        "    def ode_func(self, x, t):\n",
        "        y = self.concat_t(x, t)\n",
        "        y = K.conv2d(y, self.conv2d_w1, padding=\"same\")\n",
        "        y = K.bias_add(y, self.conv2d_b1)\n",
        "        y = K.relu(y)\n",
        "\n",
        "        y = self.concat_t(y, t)\n",
        "        y = K.conv2d(y, self.conv2d_w2, padding=\"same\")\n",
        "        y = K.bias_add(y, self.conv2d_b2)\n",
        "        y = K.relu(y)\n",
        "\n",
        "        return y\n",
        "\n",
        "    def concat_t(self, x, t):\n",
        "        new_shape = tf.concat([tf.shape(x)[:-1], tf.constant([1],dtype=\"int32\",shape=(1,))], axis=0)\n",
        "        t = tf.ones(shape=new_shape) * tf.reshape(t, (1, 1, 1, 1))\n",
        "\n",
        "        return tf.concat([x, t], axis=-1)"
      ],
      "execution_count": null,
      "outputs": []
    },
    {
      "cell_type": "code",
      "metadata": {
        "id": "d5JMD1CMagwD",
        "colab_type": "code",
        "colab": {}
      },
      "source": [
        "batch_size = 256\n",
        "num_classes = 10\n",
        "epochs = 3\n",
        "image_shape = (28, 28, 1)\n",
        "\n",
        "(x_train, y_train), (x_test, y_test) = mnist.load_data()\n",
        "x_train = x_train.astype('float32') / 255.0\n",
        "x_test = x_test.astype('float32') / 255.0\n",
        "\n",
        "x_train = x_train.reshape((-1,) + image_shape)\n",
        "x_test = x_test.reshape((-1,) + image_shape)\n",
        "\n",
        "y_train = tf.keras.utils.to_categorical(y_train, num_classes)\n",
        "y_test  = tf.keras.utils.to_categorical(y_test, num_classes)"
      ],
      "execution_count": null,
      "outputs": []
    },
    {
      "cell_type": "code",
      "metadata": {
        "id": "dbj53oL-Zlwu",
        "colab_type": "code",
        "colab": {}
      },
      "source": [
        "def dcodnn(input_shape, num_classes):\n",
        "    x = Input(input_shape)\n",
        "    y = Conv2D(32, (3, 3), activation='relu')(x)\n",
        "    y = MaxPooling2D((2,2))(y)\n",
        "    #y = Dropout(0.1)(y)\n",
        "\n",
        "    y = Conv2D(64, (3, 3), activation='relu')(y)\n",
        "    y = MaxPooling2D((2,2))(y)\n",
        "    #y = Dropout(0.1)(y)\n",
        "\n",
        "    y = ODEBlock(64, (3, 3))(y)\n",
        "    y = Flatten()(y)\n",
        "    y = Dense(num_classes, activation='softmax')(y)\n",
        "    return Model(x,y)\n",
        "\n"
      ],
      "execution_count": null,
      "outputs": []
    },
    {
      "cell_type": "code",
      "metadata": {
        "id": "pBFkn-9QKAF4",
        "colab_type": "code",
        "colab": {}
      },
      "source": [
        "\n",
        "dcodnn = dcodnn(image_shape, num_classes)\n",
        "\n",
        "dcodnn.compile(loss=tf.keras.losses.categorical_crossentropy,\n",
        "                optimizer=tf.keras.optimizers.Adadelta(2e-1),\n",
        "                metrics=['accuracy'])"
      ],
      "execution_count": null,
      "outputs": []
    },
    {
      "cell_type": "code",
      "metadata": {
        "id": "sxCfuvOtZpEm",
        "colab_type": "code",
        "colab": {}
      },
      "source": [
        "h = dcodnn.fit(x_train, y_train,\n",
        "                batch_size=batch_size,\n",
        "                epochs=epochs,\n",
        "                verbose=1,\n",
        "                validation_data=(x_test, y_test))\n",
        "\n",
        "dcodnn.save_weights('/content/drive/My Drive/Colab Notebooks/Image Classification NODE/xAlpharax/codeImRunning/weightsFolder/DCODNN-MNIST-weights.h5')\n",
        "\n",
        "#dcodnn.summary()"
      ],
      "execution_count": null,
      "outputs": []
    },
    {
      "cell_type": "code",
      "metadata": {
        "id": "cT95_2aSunJ6",
        "colab_type": "code",
        "colab": {}
      },
      "source": [
        "dcodnn.summary()"
      ],
      "execution_count": null,
      "outputs": []
    },
    {
      "cell_type": "code",
      "metadata": {
        "id": "FAkPFvQ5KHrL",
        "colab_type": "code",
        "colab": {}
      },
      "source": [
        "visualize(h, 'MNSIT-DCODNN','Accuracy')"
      ],
      "execution_count": null,
      "outputs": []
    },
    {
      "cell_type": "code",
      "metadata": {
        "id": "OnrPFse8KJY-",
        "colab_type": "code",
        "colab": {}
      },
      "source": [
        "visualize(h, 'MNSIT-DCODNN','Loss')"
      ],
      "execution_count": null,
      "outputs": []
    },
    {
      "cell_type": "code",
      "metadata": {
        "id": "Ny80geSXYlNy",
        "colab_type": "code",
        "colab": {}
      },
      "source": [
        "#Correct y_test\n",
        "print(\"Correct testdata:\")\n",
        "print(y_test[0:5])\n",
        "\n",
        "#Predictions\n",
        "print(\"\\nPredicting on the test dataset...\")\n",
        "prediction = np.around(dcodnn.predict(x_test[0:5]), decimals=2)\n",
        "print(prediction)"
      ],
      "execution_count": null,
      "outputs": []
    }
  ]
}
