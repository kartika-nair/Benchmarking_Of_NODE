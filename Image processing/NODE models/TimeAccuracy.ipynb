{
  "nbformat": 4,
  "nbformat_minor": 0,
  "metadata": {
    "colab": {
      "name": "TimeAccuracy.ipynb",
      "provenance": [],
      "collapsed_sections": [],
      "include_colab_link": true
    },
    "kernelspec": {
      "name": "python3",
      "display_name": "Python 3"
    },
    "accelerator": "GPU"
  },
  "cells": [
    {
      "cell_type": "markdown",
      "metadata": {
        "id": "view-in-github",
        "colab_type": "text"
      },
      "source": [
        "<a href=\"https://colab.research.google.com/github/saahil-jain/Benchmarking_Of_NODE/blob/master/Image%20processing/NODE%20models/TimeAccuracy.ipynb\" target=\"_parent\"><img src=\"https://colab.research.google.com/assets/colab-badge.svg\" alt=\"Open In Colab\"/></a>"
      ]
    },
    {
      "cell_type": "code",
      "metadata": {
        "id": "BdW8b0QVcmXU",
        "colab_type": "code",
        "colab": {
          "base_uri": "https://localhost:8080/",
          "height": 459
        },
        "outputId": "c5997bc7-294f-41e4-ba34-0d8a1d97d8cc"
      },
      "source": [
        "!rm -rf sample_data\n",
        "#!pip install tensorflow-scientific\n",
        "!pip install tensorflow==1.15"
      ],
      "execution_count": 1,
      "outputs": [
        {
          "output_type": "stream",
          "text": [
            "Requirement already satisfied: tensorflow==1.15 in /usr/local/lib/python3.6/dist-packages (1.15.0)\n",
            "Requirement already satisfied: google-pasta>=0.1.6 in /usr/local/lib/python3.6/dist-packages (from tensorflow==1.15) (0.2.0)\n",
            "Requirement already satisfied: keras-preprocessing>=1.0.5 in /usr/local/lib/python3.6/dist-packages (from tensorflow==1.15) (1.1.2)\n",
            "Requirement already satisfied: six>=1.10.0 in /usr/local/lib/python3.6/dist-packages (from tensorflow==1.15) (1.15.0)\n",
            "Requirement already satisfied: keras-applications>=1.0.8 in /usr/local/lib/python3.6/dist-packages (from tensorflow==1.15) (1.0.8)\n",
            "Requirement already satisfied: tensorflow-estimator==1.15.1 in /usr/local/lib/python3.6/dist-packages (from tensorflow==1.15) (1.15.1)\n",
            "Requirement already satisfied: wheel>=0.26 in /usr/local/lib/python3.6/dist-packages (from tensorflow==1.15) (0.34.2)\n",
            "Requirement already satisfied: numpy<2.0,>=1.16.0 in /usr/local/lib/python3.6/dist-packages (from tensorflow==1.15) (1.18.5)\n",
            "Requirement already satisfied: opt-einsum>=2.3.2 in /usr/local/lib/python3.6/dist-packages (from tensorflow==1.15) (3.3.0)\n",
            "Requirement already satisfied: wrapt>=1.11.1 in /usr/local/lib/python3.6/dist-packages (from tensorflow==1.15) (1.12.1)\n",
            "Requirement already satisfied: gast==0.2.2 in /usr/local/lib/python3.6/dist-packages (from tensorflow==1.15) (0.2.2)\n",
            "Requirement already satisfied: tensorboard<1.16.0,>=1.15.0 in /usr/local/lib/python3.6/dist-packages (from tensorflow==1.15) (1.15.0)\n",
            "Requirement already satisfied: astor>=0.6.0 in /usr/local/lib/python3.6/dist-packages (from tensorflow==1.15) (0.8.1)\n",
            "Requirement already satisfied: protobuf>=3.6.1 in /usr/local/lib/python3.6/dist-packages (from tensorflow==1.15) (3.12.4)\n",
            "Requirement already satisfied: grpcio>=1.8.6 in /usr/local/lib/python3.6/dist-packages (from tensorflow==1.15) (1.31.0)\n",
            "Requirement already satisfied: absl-py>=0.7.0 in /usr/local/lib/python3.6/dist-packages (from tensorflow==1.15) (0.9.0)\n",
            "Requirement already satisfied: termcolor>=1.1.0 in /usr/local/lib/python3.6/dist-packages (from tensorflow==1.15) (1.1.0)\n",
            "Requirement already satisfied: h5py in /usr/local/lib/python3.6/dist-packages (from keras-applications>=1.0.8->tensorflow==1.15) (2.10.0)\n",
            "Requirement already satisfied: setuptools>=41.0.0 in /usr/local/lib/python3.6/dist-packages (from tensorboard<1.16.0,>=1.15.0->tensorflow==1.15) (49.2.0)\n",
            "Requirement already satisfied: markdown>=2.6.8 in /usr/local/lib/python3.6/dist-packages (from tensorboard<1.16.0,>=1.15.0->tensorflow==1.15) (3.2.2)\n",
            "Requirement already satisfied: werkzeug>=0.11.15 in /usr/local/lib/python3.6/dist-packages (from tensorboard<1.16.0,>=1.15.0->tensorflow==1.15) (1.0.1)\n",
            "Requirement already satisfied: importlib-metadata; python_version < \"3.8\" in /usr/local/lib/python3.6/dist-packages (from markdown>=2.6.8->tensorboard<1.16.0,>=1.15.0->tensorflow==1.15) (1.7.0)\n",
            "Requirement already satisfied: zipp>=0.5 in /usr/local/lib/python3.6/dist-packages (from importlib-metadata; python_version < \"3.8\"->markdown>=2.6.8->tensorboard<1.16.0,>=1.15.0->tensorflow==1.15) (3.1.0)\n"
          ],
          "name": "stdout"
        }
      ]
    },
    {
      "cell_type": "code",
      "metadata": {
        "id": "t_vqQD_W8fpH",
        "colab_type": "code",
        "colab": {}
      },
      "source": [
        "import numpy as np\n",
        "import matplotlib.pyplot as plt\n",
        "%matplotlib inline\n",
        "from __future__ import print_function\n",
        "import tensorflow as tf\n",
        "from tensorflow.keras.models import Sequential\n",
        "from tensorflow.keras.layers import Dense, Conv2D, MaxPooling2D, Dropout, Flatten, BatchNormalization\n",
        "from tensorflow.keras.optimizers import SGD\n",
        "from tensorflow.keras.utils import to_categorical\n",
        "import tensorflow.keras.backend as K\n",
        "#import tensorflow_scientific as tfs"
      ],
      "execution_count": 2,
      "outputs": []
    },
    {
      "cell_type": "code",
      "metadata": {
        "id": "bceBtHBso_a7",
        "colab_type": "code",
        "colab": {
          "base_uri": "https://localhost:8080/",
          "height": 35
        },
        "outputId": "b322b048-f6cc-4a71-c6ff-880907423e56"
      },
      "source": [
        "from google.colab import drive\n",
        "drive.mount('/content/drive')"
      ],
      "execution_count": 3,
      "outputs": [
        {
          "output_type": "stream",
          "text": [
            "Drive already mounted at /content/drive; to attempt to forcibly remount, call drive.mount(\"/content/drive\", force_remount=True).\n"
          ],
          "name": "stdout"
        }
      ]
    },
    {
      "cell_type": "code",
      "metadata": {
        "id": "6xO9y6leM4r9",
        "colab_type": "code",
        "colab": {}
      },
      "source": [
        "from tensorflow.keras.datasets import cifar10\n",
        "(train_images, train_labels), (test_images, test_labels) = cifar10.load_data()"
      ],
      "execution_count": 4,
      "outputs": []
    },
    {
      "cell_type": "code",
      "metadata": {
        "id": "L0azwFRuGL-s",
        "colab_type": "code",
        "colab": {}
      },
      "source": [
        "from tensorflow.keras.utils import to_categorical"
      ],
      "execution_count": 5,
      "outputs": []
    },
    {
      "cell_type": "code",
      "metadata": {
        "id": "DgFUB6t5Jn0Y",
        "colab_type": "code",
        "colab": {}
      },
      "source": [
        "nRows,nCols,nDims = train_images.shape[1:]\n",
        "train_data = train_images.reshape(train_images.shape[0], nRows, nCols, nDims)\n",
        "test_data = test_images.reshape(test_images.shape[0], nRows, nCols, nDims)\n",
        "input_shape = (nRows, nCols, nDims)\n",
        "\n",
        "train_data = train_data.astype('float32')\n",
        "test_data = test_data.astype('float32')\n",
        "\n",
        "train_data /= 255\n",
        "test_data /= 255\n",
        "\n",
        "train_labels_one_hot = to_categorical(train_labels)\n",
        "test_labels_one_hot = to_categorical(test_labels)"
      ],
      "execution_count": 6,
      "outputs": []
    },
    {
      "cell_type": "code",
      "metadata": {
        "id": "0Uu1BKTIc6Tv",
        "colab_type": "code",
        "colab": {}
      },
      "source": [
        "class ODEBlock(tf.keras.layers.Layer):\n",
        "\n",
        "    def __init__(self, filters, kernel_size, **kwargs):\n",
        "        self.filters = filters\n",
        "        self.kernel_size = kernel_size\n",
        "        super(ODEBlock, self).__init__(**kwargs)\n",
        "\n",
        "    def get_config(self):\n",
        "        config = super().get_config().copy()\n",
        "        config.update({\n",
        "            'filters': self.filters,\n",
        "            'kernel_size': self.kernel_size,\n",
        "        })\n",
        "        return config\n",
        "\n",
        "    def build(self, input_shape):\n",
        "        self.conv2d_w1 = self.add_weight(\"conv2d_w1\", self.kernel_size + (self.filters + 1, self.filters), initializer='glorot_uniform')\n",
        "        self.conv2d_w2 = self.add_weight(\"conv2d_w2\", self.kernel_size + (self.filters + 1, self.filters), initializer='glorot_uniform')\n",
        "        \n",
        "        self.conv2d_b1 = self.add_weight(\"conv2d_b1\", (self.filters,), initializer='zero')\n",
        "        self.conv2d_b2 = self.add_weight(\"conv2d_b2\", (self.filters,), initializer='zero')\n",
        "        super(ODEBlock, self).build(input_shape)\n",
        "\n",
        "    def call(self, x):\n",
        "        t = K.constant([0, 1], dtype=\"float32\")\n",
        "        return tf.contrib.integrate.odeint(self.ode_func, x, t, rtol=1e-2, atol=1e-2)[1] #TIME MANIPULATED\n",
        "        return tf.contrib.integrate.odeint(self.ode_func, x, t, rtol=1e-3, atol=1e-3)[1] #ORIGINAL\n",
        "        #return tfs.integrate.odeint(self.ode_func, x, t, rtol=1e-3, atol=1e-3)[1] #for tensorflow 2.x\n",
        "\n",
        "    def compute_output_shape(self, input_shape):\n",
        "        return input_shape\n",
        "\n",
        "    def ode_func(self, x, t):\n",
        "        y = self.concat_t(x, t)\n",
        "        y = K.conv2d(y, self.conv2d_w1, padding=\"same\")\n",
        "        y = K.bias_add(y, self.conv2d_b1)\n",
        "        y = K.relu(y)\n",
        "\n",
        "        y = self.concat_t(y, t)\n",
        "        y = K.conv2d(y, self.conv2d_w2, padding=\"same\")\n",
        "        y = K.bias_add(y, self.conv2d_b2)\n",
        "        y = K.relu(y)\n",
        "\n",
        "        return y\n",
        "\n",
        "    def concat_t(self, x, t):\n",
        "        new_shape = tf.concat([tf.shape(x)[:-1], tf.constant([1],dtype=\"int32\",shape=(1,))], axis=0)\n",
        "        t = tf.ones(shape=new_shape) * tf.reshape(t, (1, 1, 1, 1))\n",
        "\n",
        "        return tf.concat([x, t], axis=-1)"
      ],
      "execution_count": 7,
      "outputs": []
    },
    {
      "cell_type": "code",
      "metadata": {
        "id": "sOeds8GodpXc",
        "colab_type": "code",
        "colab": {
          "base_uri": "https://localhost:8080/",
          "height": 1000
        },
        "outputId": "664437c3-c3e6-4d0c-c977-666fa1929b28"
      },
      "source": [
        "model = Sequential()\n",
        "model.add(Conv2D(32, (3, 3), activation='relu', kernel_initializer='he_uniform', padding='same', input_shape=(32, 32, 3)))\n",
        "model.add(BatchNormalization())\n",
        "model.add(MaxPooling2D((2, 2)))\n",
        "model.add(Dropout(0.2))\n",
        "\n",
        "model.add(Conv2D(64, (3, 3), activation='relu', kernel_initializer='he_uniform', padding='same'))\n",
        "model.add(BatchNormalization())\n",
        "model.add(MaxPooling2D((2, 2)))\n",
        "model.add(Dropout(0.3))\n",
        "\n",
        "model.add(Conv2D(128, (3, 3), activation='relu', kernel_initializer='he_uniform', padding='same'))\n",
        "model.add(BatchNormalization())\n",
        "model.add(MaxPooling2D((2, 2)))\n",
        "model.add(Dropout(0.4))\n",
        "\n",
        "\t\n",
        "model.add(ODEBlock(128, (3,3)))\n",
        "\n",
        "#model.add(Dropout(0.5))\n",
        "#model.add(ResBlock(64, (3,3)))\n",
        "\n",
        "model.add(Flatten())\n",
        "model.add(Dense(64, activation='relu', kernel_initializer='he_uniform'))\n",
        "model.add(BatchNormalization())\n",
        "model.add(Dense(10, activation='softmax'))\n",
        "\n",
        "\n",
        "model.summary()"
      ],
      "execution_count": 8,
      "outputs": [
        {
          "output_type": "stream",
          "text": [
            "WARNING:tensorflow:From /usr/local/lib/python3.6/dist-packages/tensorflow_core/python/ops/resource_variable_ops.py:1630: calling BaseResourceVariable.__init__ (from tensorflow.python.ops.resource_variable_ops) with constraint is deprecated and will be removed in a future version.\n",
            "Instructions for updating:\n",
            "If using Keras pass *_constraint arguments to layers.\n",
            "WARNING:tensorflow:\n",
            "The TensorFlow contrib module will not be included in TensorFlow 2.0.\n",
            "For more information, please see:\n",
            "  * https://github.com/tensorflow/community/blob/master/rfcs/20180907-contrib-sunset.md\n",
            "  * https://github.com/tensorflow/addons\n",
            "  * https://github.com/tensorflow/io (for I/O related ops)\n",
            "If you depend on functionality not listed there, please file an issue.\n",
            "\n",
            "WARNING:tensorflow:From /usr/local/lib/python3.6/dist-packages/tensorflow_core/contrib/integrate/python/ops/odes.py:233: div (from tensorflow.python.ops.math_ops) is deprecated and will be removed in a future version.\n",
            "Instructions for updating:\n",
            "Deprecated in favor of operator or tf.math.divide.\n",
            "Model: \"sequential\"\n",
            "_________________________________________________________________\n",
            "Layer (type)                 Output Shape              Param #   \n",
            "=================================================================\n",
            "conv2d (Conv2D)              (None, 32, 32, 32)        896       \n",
            "_________________________________________________________________\n",
            "batch_normalization (BatchNo (None, 32, 32, 32)        128       \n",
            "_________________________________________________________________\n",
            "max_pooling2d (MaxPooling2D) (None, 16, 16, 32)        0         \n",
            "_________________________________________________________________\n",
            "dropout (Dropout)            (None, 16, 16, 32)        0         \n",
            "_________________________________________________________________\n",
            "conv2d_1 (Conv2D)            (None, 16, 16, 64)        18496     \n",
            "_________________________________________________________________\n",
            "batch_normalization_1 (Batch (None, 16, 16, 64)        256       \n",
            "_________________________________________________________________\n",
            "max_pooling2d_1 (MaxPooling2 (None, 8, 8, 64)          0         \n",
            "_________________________________________________________________\n",
            "dropout_1 (Dropout)          (None, 8, 8, 64)          0         \n",
            "_________________________________________________________________\n",
            "conv2d_2 (Conv2D)            (None, 8, 8, 128)         73856     \n",
            "_________________________________________________________________\n",
            "batch_normalization_2 (Batch (None, 8, 8, 128)         512       \n",
            "_________________________________________________________________\n",
            "max_pooling2d_2 (MaxPooling2 (None, 4, 4, 128)         0         \n",
            "_________________________________________________________________\n",
            "dropout_2 (Dropout)          (None, 4, 4, 128)         0         \n",
            "_________________________________________________________________\n",
            "ode_block (ODEBlock)         (None, 4, 4, 128)         297472    \n",
            "_________________________________________________________________\n",
            "flatten (Flatten)            (None, 2048)              0         \n",
            "_________________________________________________________________\n",
            "dense (Dense)                (None, 64)                131136    \n",
            "_________________________________________________________________\n",
            "batch_normalization_3 (Batch (None, 64)                256       \n",
            "_________________________________________________________________\n",
            "dense_1 (Dense)              (None, 10)                650       \n",
            "=================================================================\n",
            "Total params: 523,658\n",
            "Trainable params: 523,082\n",
            "Non-trainable params: 576\n",
            "_________________________________________________________________\n"
          ],
          "name": "stdout"
        }
      ]
    },
    {
      "cell_type": "code",
      "metadata": {
        "id": "QQ_HuK39J8OI",
        "colab_type": "code",
        "colab": {}
      },
      "source": [
        "#This cell is just to improve overall time for all models\n",
        "#For manipulation of time see cell number 7\n",
        "\n",
        "import time\n",
        "\n",
        "class TimeHistory(tf.keras.callbacks.Callback):\n",
        "    def on_train_begin(self, logs={}):\n",
        "        self.times = []\n",
        "\n",
        "    def on_epoch_begin(self, epoch, logs={}):\n",
        "        self.epoch_time_start = time.time()\n",
        "\n",
        "    def on_epoch_end(self, epoch, logs={}):\n",
        "        self.times.append(time.time() - self.epoch_time_start)\n",
        "time_callback = TimeHistory()"
      ],
      "execution_count": 9,
      "outputs": []
    },
    {
      "cell_type": "code",
      "metadata": {
        "id": "dDZ_t9ju9ZWB",
        "colab_type": "code",
        "colab": {
          "base_uri": "https://localhost:8080/",
          "height": 1000
        },
        "outputId": "17186ff0-a6c1-4f08-88c8-ef7ab703c3ec"
      },
      "source": [
        "from tensorflow.keras.callbacks import ModelCheckpoint\n",
        "batch_size = 256\n",
        "epochs = 16\n",
        "model.compile(optimizer='adam', loss='categorical_crossentropy', metrics=['accuracy'])\n",
        "\n",
        "checkpoint = ModelCheckpoint(\n",
        "    f'/content/drive/My Drive/Colab Notebooks/Image Classification NODE/CIFAR10_CNN/model_node.h5', \n",
        "    monitor='val_acc', \n",
        "    verbose=2, \n",
        "    save_best_only=True, \n",
        "    save_weights_only=False,\n",
        "    mode='auto'\n",
        ")\n",
        "history = model.fit(train_data, \n",
        "                    train_labels_one_hot, \n",
        "                    batch_size=batch_size, \n",
        "                    epochs=epochs, \n",
        "                    verbose=1, \n",
        "                    validation_data=(test_data, test_labels_one_hot),\n",
        "                    callbacks=[checkpoint, time_callback])\n",
        "\n",
        "#model.evaluate(test_data, test_labels_one_hot)\n",
        "#Evaluation done at the end"
      ],
      "execution_count": 10,
      "outputs": [
        {
          "output_type": "stream",
          "text": [
            "WARNING:tensorflow:From /usr/local/lib/python3.6/dist-packages/tensorflow_core/python/ops/math_grad.py:1424: where (from tensorflow.python.ops.array_ops) is deprecated and will be removed in a future version.\n",
            "Instructions for updating:\n",
            "Use tf.where in 2.0, which has the same broadcast rule as np.where\n",
            "Train on 50000 samples, validate on 10000 samples\n",
            "Epoch 1/16\n",
            "49920/50000 [============================>.] - ETA: 0s - loss: 1.5502 - acc: 0.4443\n",
            "Epoch 00001: val_acc improved from -inf to 0.24450, saving model to /content/drive/My Drive/Colab Notebooks/Image Classification NODE/CIFAR10_CNN/model_node.h5\n",
            "50000/50000 [==============================] - 30s 609us/sample - loss: 1.5498 - acc: 0.4444 - val_loss: 2.3783 - val_acc: 0.2445\n",
            "Epoch 2/16\n",
            "49920/50000 [============================>.] - ETA: 0s - loss: 1.1861 - acc: 0.5761\n",
            "Epoch 00002: val_acc improved from 0.24450 to 0.55270, saving model to /content/drive/My Drive/Colab Notebooks/Image Classification NODE/CIFAR10_CNN/model_node.h5\n",
            "50000/50000 [==============================] - 24s 472us/sample - loss: 1.1861 - acc: 0.5761 - val_loss: 1.2368 - val_acc: 0.5527\n",
            "Epoch 3/16\n",
            "49920/50000 [============================>.] - ETA: 0s - loss: 1.0202 - acc: 0.6358\n",
            "Epoch 00003: val_acc improved from 0.55270 to 0.63480, saving model to /content/drive/My Drive/Colab Notebooks/Image Classification NODE/CIFAR10_CNN/model_node.h5\n",
            "50000/50000 [==============================] - 23s 467us/sample - loss: 1.0202 - acc: 0.6358 - val_loss: 1.0288 - val_acc: 0.6348\n",
            "Epoch 4/16\n",
            "49920/50000 [============================>.] - ETA: 0s - loss: 0.9171 - acc: 0.6737\n",
            "Epoch 00004: val_acc did not improve from 0.63480\n",
            "50000/50000 [==============================] - 23s 457us/sample - loss: 0.9169 - acc: 0.6738 - val_loss: 1.1027 - val_acc: 0.6235\n",
            "Epoch 5/16\n",
            "49920/50000 [============================>.] - ETA: 0s - loss: 0.8304 - acc: 0.7055\n",
            "Epoch 00005: val_acc improved from 0.63480 to 0.67820, saving model to /content/drive/My Drive/Colab Notebooks/Image Classification NODE/CIFAR10_CNN/model_node.h5\n",
            "50000/50000 [==============================] - 23s 465us/sample - loss: 0.8306 - acc: 0.7054 - val_loss: 0.9501 - val_acc: 0.6782\n",
            "Epoch 6/16\n",
            "49920/50000 [============================>.] - ETA: 0s - loss: 0.7693 - acc: 0.7283\n",
            "Epoch 00006: val_acc improved from 0.67820 to 0.71900, saving model to /content/drive/My Drive/Colab Notebooks/Image Classification NODE/CIFAR10_CNN/model_node.h5\n",
            "50000/50000 [==============================] - 23s 464us/sample - loss: 0.7692 - acc: 0.7283 - val_loss: 0.8116 - val_acc: 0.7190\n",
            "Epoch 7/16\n",
            "49920/50000 [============================>.] - ETA: 0s - loss: 0.7168 - acc: 0.7464\n",
            "Epoch 00007: val_acc improved from 0.71900 to 0.72620, saving model to /content/drive/My Drive/Colab Notebooks/Image Classification NODE/CIFAR10_CNN/model_node.h5\n",
            "50000/50000 [==============================] - 23s 465us/sample - loss: 0.7170 - acc: 0.7464 - val_loss: 0.7896 - val_acc: 0.7262\n",
            "Epoch 8/16\n",
            "49920/50000 [============================>.] - ETA: 0s - loss: 0.6669 - acc: 0.7647\n",
            "Epoch 00008: val_acc improved from 0.72620 to 0.76140, saving model to /content/drive/My Drive/Colab Notebooks/Image Classification NODE/CIFAR10_CNN/model_node.h5\n",
            "50000/50000 [==============================] - 23s 468us/sample - loss: 0.6671 - acc: 0.7647 - val_loss: 0.7015 - val_acc: 0.7614\n",
            "Epoch 9/16\n",
            "49920/50000 [============================>.] - ETA: 0s - loss: 0.6345 - acc: 0.7745\n",
            "Epoch 00009: val_acc did not improve from 0.76140\n",
            "50000/50000 [==============================] - 23s 458us/sample - loss: 0.6343 - acc: 0.7746 - val_loss: 0.7844 - val_acc: 0.7323\n",
            "Epoch 10/16\n",
            "49920/50000 [============================>.] - ETA: 0s - loss: 0.5931 - acc: 0.7903\n",
            "Epoch 00010: val_acc did not improve from 0.76140\n",
            "50000/50000 [==============================] - 23s 457us/sample - loss: 0.5934 - acc: 0.7902 - val_loss: 0.7337 - val_acc: 0.7500\n",
            "Epoch 11/16\n",
            "49920/50000 [============================>.] - ETA: 0s - loss: 0.5581 - acc: 0.8016\n",
            "Epoch 00011: val_acc improved from 0.76140 to 0.76790, saving model to /content/drive/My Drive/Colab Notebooks/Image Classification NODE/CIFAR10_CNN/model_node.h5\n",
            "50000/50000 [==============================] - 23s 466us/sample - loss: 0.5583 - acc: 0.8015 - val_loss: 0.6694 - val_acc: 0.7679\n",
            "Epoch 12/16\n",
            "49920/50000 [============================>.] - ETA: 0s - loss: 0.5337 - acc: 0.8106\n",
            "Epoch 00012: val_acc improved from 0.76790 to 0.77090, saving model to /content/drive/My Drive/Colab Notebooks/Image Classification NODE/CIFAR10_CNN/model_node.h5\n",
            "50000/50000 [==============================] - 23s 468us/sample - loss: 0.5335 - acc: 0.8107 - val_loss: 0.6592 - val_acc: 0.7709\n",
            "Epoch 13/16\n",
            "49920/50000 [============================>.] - ETA: 0s - loss: 0.5062 - acc: 0.8185\n",
            "Epoch 00013: val_acc did not improve from 0.77090\n",
            "50000/50000 [==============================] - 23s 461us/sample - loss: 0.5063 - acc: 0.8185 - val_loss: 0.7480 - val_acc: 0.7575\n",
            "Epoch 14/16\n",
            "49920/50000 [============================>.] - ETA: 0s - loss: 0.4851 - acc: 0.8295\n",
            "Epoch 00014: val_acc improved from 0.77090 to 0.77860, saving model to /content/drive/My Drive/Colab Notebooks/Image Classification NODE/CIFAR10_CNN/model_node.h5\n",
            "50000/50000 [==============================] - 24s 470us/sample - loss: 0.4854 - acc: 0.8293 - val_loss: 0.6652 - val_acc: 0.7786\n",
            "Epoch 15/16\n",
            "49920/50000 [============================>.] - ETA: 0s - loss: 0.4646 - acc: 0.8349\n",
            "Epoch 00015: val_acc did not improve from 0.77860\n",
            "50000/50000 [==============================] - 23s 460us/sample - loss: 0.4646 - acc: 0.8349 - val_loss: 0.7096 - val_acc: 0.7672\n",
            "Epoch 16/16\n",
            "49920/50000 [============================>.] - ETA: 0s - loss: 0.4530 - acc: 0.8379\n",
            "Epoch 00016: val_acc did not improve from 0.77860\n",
            "50000/50000 [==============================] - 23s 455us/sample - loss: 0.4531 - acc: 0.8379 - val_loss: 0.6996 - val_acc: 0.7720\n"
          ],
          "name": "stdout"
        }
      ]
    },
    {
      "cell_type": "code",
      "metadata": {
        "id": "Ry7zxnak9ZfO",
        "colab_type": "code",
        "colab": {
          "base_uri": "https://localhost:8080/",
          "height": 429
        },
        "outputId": "5ef1d82b-a0c3-4464-d785-a29bf656d49f"
      },
      "source": [
        "plt.figure(figsize=[8,6])\n",
        "plt.plot(history.history['loss'],'r',linewidth=3.0)\n",
        "plt.plot(history.history['val_loss'],'b',linewidth=3.0)\n",
        "plt.legend(['Training loss', 'Validation Loss'],fontsize=18)\n",
        "plt.xlabel('Epochs ',fontsize=16)\n",
        "plt.ylabel('Loss',fontsize=16)\n",
        "plt.title('Loss Curves',fontsize=16)"
      ],
      "execution_count": 11,
      "outputs": [
        {
          "output_type": "execute_result",
          "data": {
            "text/plain": [
              "Text(0.5, 1.0, 'Loss Curves')"
            ]
          },
          "metadata": {
            "tags": []
          },
          "execution_count": 11
        },
        {
          "output_type": "display_data",
          "data": {
            "image/png": "[encoded data removed]",
            "text/plain": [
              "<Figure size 576x432 with 1 Axes>"
            ]
          },
          "metadata": {
            "tags": [],
            "needs_background": "light"
          }
        }
      ]
    },
    {
      "cell_type": "code",
      "metadata": {
        "id": "z24spJfG9ZyE",
        "colab_type": "code",
        "colab": {
          "base_uri": "https://localhost:8080/",
          "height": 429
        },
        "outputId": "b7cc30e9-0f02-4a25-be2a-71e652e2358f"
      },
      "source": [
        "plt.figure(figsize=[8,6])\n",
        "plt.plot(history.history['acc'],'r',linewidth=3.0)\n",
        "plt.plot(history.history['val_acc'],'b',linewidth=3.0)\n",
        "plt.legend(['Training Accuracy', 'Validation Accuracy'],fontsize=18)\n",
        "plt.xlabel('Epochs ',fontsize=16)\n",
        "plt.ylabel('Accuracy',fontsize=16)\n",
        "plt.title('Accuracy Curves',fontsize=16)"
      ],
      "execution_count": 12,
      "outputs": [
        {
          "output_type": "execute_result",
          "data": {
            "text/plain": [
              "Text(0.5, 1.0, 'Accuracy Curves')"
            ]
          },
          "metadata": {
            "tags": []
          },
          "execution_count": 12
        },
        {
          "output_type": "display_data",
          "data": {
            "image/png": "[encoded data removed]",
            "text/plain": [
              "<Figure size 576x432 with 1 Axes>"
            ]
          },
          "metadata": {
            "tags": [],
            "needs_background": "light"
          }
        }
      ]
    },
    {
      "cell_type": "code",
      "metadata": {
        "id": "VkqjLpSYI78f",
        "colab_type": "code",
        "colab": {
          "base_uri": "https://localhost:8080/",
          "height": 164
        },
        "outputId": "b4740a17-f403-4ecf-9534-3b817f703e60"
      },
      "source": [
        "model.load_weights('/content/drive/My Drive/Colab Notebooks/Image Classification NODE/CIFAR10_CNN/model_node.h5')\n",
        "metrics = [model.evaluate(test_data, test_labels_one_hot), model.evaluate(train_data, train_labels_one_hot)]\n",
        "print(f\"test acc: {metrics[0][1]}\\ntest loss: {metrics[0][0]}\\ntrain acc: {metrics[1][1]}\\ntrain loss: {metrics[1][0]} \\nAvg time per epoch: {sum(time_callback.times)/epochs}\\nNumber of epochs: {epochs}\")"
      ],
      "execution_count": 13,
      "outputs": [
        {
          "output_type": "stream",
          "text": [
            "10000/10000 [==============================] - 5s 458us/sample - loss: 0.6652 - acc: 0.7786\n",
            "50000/50000 [==============================] - 24s 481us/sample - loss: 0.3363 - acc: 0.8827\n",
            "test acc: 0.7785999774932861\n",
            "test loss: 0.6652481302976608\n",
            "train acc: 0.8827199935913086\n",
            "train loss: 0.336318437461853 \n",
            "Avg time per epoch: 23.630012840032578\n",
            "Number of epochs: 16\n"
          ],
          "name": "stdout"
        }
      ]
    },
    {
      "cell_type": "code",
      "metadata": {
        "id": "BKfyWzOl1q_k",
        "colab_type": "code",
        "colab": {}
      },
      "source": [
        ""
      ],
      "execution_count": 13,
      "outputs": []
    }
  ]
}