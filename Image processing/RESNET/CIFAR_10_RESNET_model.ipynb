{
  "nbformat": 4,
  "nbformat_minor": 0,
  "metadata": {
    "colab": {
      "name": "CIFAR-10_RESNET_model.ipynb",
      "provenance": []
    },
    "kernelspec": {
      "name": "python3",
      "display_name": "Python 3"
    },
    "accelerator": "GPU"
  },
  "cells": [
    {
      "cell_type": "code",
      "metadata": {
        "id": "8MizpRTRPJoo",
        "colab_type": "code",
        "colab": {}
      },
      "source": [
        "import tensorflow as tf\n",
        "from tensorflow.keras.datasets import cifar10\n",
        "from tensorflow.keras.layers import Conv2D, BatchNormalization, Dense, Flatten, Input, MaxPooling2D, Dropout\n",
        "from tensorflow.keras.models import Model\n",
        "import tensorflow.keras.backend as K\n",
        "import sys\n",
        "sys.path.append('./')"
      ],
      "execution_count": 2,
      "outputs": []
    },
    {
      "cell_type": "code",
      "metadata": {
        "id": "vOaI5tX4QBmU",
        "colab_type": "code",
        "colab": {}
      },
      "source": [
        "class ResBlock(tf.keras.layers.Layer):\n",
        "\n",
        "    def __init__(self, filters, kernel_size, **kwargs):\n",
        "        self.filters = filters\n",
        "        self.kernel_size = kernel_size\n",
        "        super(ResBlock, self).__init__(**kwargs)\n",
        "    \n",
        "    def get_config(self):\n",
        "        config = super().get_config().copy()\n",
        "        config.update({\n",
        "            'filters': self.filters,\n",
        "            'kernel_size': self.kernel_size,\n",
        "        })\n",
        "        return config\n",
        "\n",
        "\n",
        "    def build(self, input_shape):\n",
        "        self.conv2d_w1 = self.add_weight(\"conv2d_w1\", self.kernel_size + (self.filters, self.filters), initializer='glorot_uniform')\n",
        "        self.conv2d_w2 = self.add_weight(\"conv2d_w2\", self.kernel_size + (self.filters, self.filters), initializer='glorot_uniform')\n",
        "\n",
        "        self.conv2d_b1 = self.add_weight(\"conv2d_b1\", (self.filters,), initializer='zero')\n",
        "        self.conv2d_b2 = self.add_weight(\"conv2d_b2\", (self.filters,), initializer='zero')\n",
        "        super(ResBlock, self).build(input_shape)\n",
        "\n",
        "    def call(self, x):\n",
        "        y = K.conv2d(x, self.conv2d_w1, padding=\"same\")\n",
        "        y = K.bias_add(y, self.conv2d_b1)\n",
        "        y = K.relu(y)\n",
        "\n",
        "        y = K.conv2d(y, self.conv2d_w2, padding=\"same\")\n",
        "        y = K.bias_add(y, self.conv2d_b2)\n",
        "        y = K.relu(y)\n",
        "        y = y+x\n",
        "\n",
        "        return y\n",
        "\n",
        "    def compute_output_shape(self, input_shape):\n",
        "        return input_shape"
      ],
      "execution_count": 28,
      "outputs": []
    },
    {
      "cell_type": "code",
      "metadata": {
        "id": "Grzv8mUZPkQy",
        "colab_type": "code",
        "colab": {}
      },
      "source": [
        "def drcnn(input_shape, num_classes):\n",
        "    x = Input(input_shape)\n",
        "    y = Conv2D(32, (3,3), activation='relu')(x)\n",
        "    y = BatchNormalization(axis=-1)(y)\n",
        "    y = MaxPooling2D((2,2))(y)\n",
        "    y = Dropout(0.1)(y)\n",
        "\n",
        "    y = Conv2D(64, (3,3), activation='relu')(y)\n",
        "    y = BatchNormalization(axis=-1)(y)\n",
        "    y = Conv2D(64, (3,3), activation='relu')(y)\n",
        "    y = BatchNormalization(axis=-1)(y)\n",
        "    y = MaxPooling2D((2,2))(y)\n",
        "    y = Dropout(0.1)(y)\n",
        "\n",
        "    y = ResBlock(64, (3,3))(y)\n",
        "    y = BatchNormalization(axis=-1)(y)\n",
        "    y = Flatten()(y)\n",
        "    y = Dense(256, activation='relu')(y)\n",
        "    y = Dense(num_classes, activation='softmax')(y)\n",
        "    return Model(x,y)"
      ],
      "execution_count": 29,
      "outputs": []
    },
    {
      "cell_type": "code",
      "metadata": {
        "id": "gsF-RVHUPcF_",
        "colab_type": "code",
        "colab": {}
      },
      "source": [
        "batch_size = 256\n",
        "num_classes = 10\n",
        "epochs = 30\n",
        "image_shape = (32, 32, 3)\n",
        "\n",
        "(x_train, y_train), (x_test, y_test) = cifar10.load_data()\n",
        "x_train = x_train.astype('float32') / 255.0\n",
        "x_test = x_test.astype('float32') / 255.0\n",
        "\n",
        "y_train = tf.keras.utils.to_categorical(y_train, num_classes)\n",
        "y_test  = tf.keras.utils.to_categorical(y_test, num_classes)"
      ],
      "execution_count": 30,
      "outputs": []
    },
    {
      "cell_type": "code",
      "metadata": {
        "id": "ENjlTimUPr7Q",
        "colab_type": "code",
        "colab": {
          "base_uri": "https://localhost:8080/",
          "height": 1000
        },
        "outputId": "fa440260-701c-4a44-f351-b692b6c8f461"
      },
      "source": [
        "from tensorflow.keras.callbacks import ModelCheckpoint\n",
        "\n",
        "drcnn = drcnn(image_shape, num_classes)\n",
        "\n",
        "drcnn.compile(loss=tf.keras.losses.categorical_crossentropy,\n",
        "            optimizer=tf.keras.optimizers.Adadelta(2e-1),\n",
        "            metrics=['accuracy'])\n",
        "\n",
        "checkpoint = ModelCheckpoint('/content/drive/My Drive/neural_ode_classification/CIFAR-10-RESNET/model.h5', \n",
        "    monitor='accuracy', \n",
        "    verbose=1, \n",
        "    save_best_only=True, \n",
        "    save_weights_only=False,\n",
        "    mode='auto'\n",
        ")\n",
        "\n",
        "drcnn.summary()\n",
        "\n",
        "history = drcnn.fit(x_train, y_train,\n",
        "            batch_size=batch_size,\n",
        "            epochs=epochs,\n",
        "            verbose=1,\n",
        "            validation_data=(x_test, y_test),\n",
        "            callbacks=[checkpoint])\n",
        "\n",
        "drcnn.save_weights('/content/drive/My Drive/neural_ode_classification/CIFAR-10-RESNET/weights/CIFAR-10-weights.h5')"
      ],
      "execution_count": 31,
      "outputs": [
        {
          "output_type": "stream",
          "text": [
            "Model: \"functional_9\"\n",
            "_________________________________________________________________\n",
            "Layer (type)                 Output Shape              Param #   \n",
            "=================================================================\n",
            "input_7 (InputLayer)         [(None, 32, 32, 3)]       0         \n",
            "_________________________________________________________________\n",
            "conv2d_18 (Conv2D)           (None, 30, 30, 32)        896       \n",
            "_________________________________________________________________\n",
            "batch_normalization_22 (Batc (None, 30, 30, 32)        128       \n",
            "_________________________________________________________________\n",
            "max_pooling2d_12 (MaxPooling (None, 15, 15, 32)        0         \n",
            "_________________________________________________________________\n",
            "dropout_12 (Dropout)         (None, 15, 15, 32)        0         \n",
            "_________________________________________________________________\n",
            "conv2d_19 (Conv2D)           (None, 13, 13, 64)        18496     \n",
            "_________________________________________________________________\n",
            "batch_normalization_23 (Batc (None, 13, 13, 64)        256       \n",
            "_________________________________________________________________\n",
            "conv2d_20 (Conv2D)           (None, 11, 11, 64)        36928     \n",
            "_________________________________________________________________\n",
            "batch_normalization_24 (Batc (None, 11, 11, 64)        256       \n",
            "_________________________________________________________________\n",
            "max_pooling2d_13 (MaxPooling (None, 5, 5, 64)          0         \n",
            "_________________________________________________________________\n",
            "dropout_13 (Dropout)         (None, 5, 5, 64)          0         \n",
            "_________________________________________________________________\n",
            "res_block_4 (ResBlock)       (None, 5, 5, 64)          73856     \n",
            "_________________________________________________________________\n",
            "batch_normalization_25 (Batc (None, 5, 5, 64)          256       \n",
            "_________________________________________________________________\n",
            "flatten_4 (Flatten)          (None, 1600)              0         \n",
            "_________________________________________________________________\n",
            "dense_8 (Dense)              (None, 256)               409856    \n",
            "_________________________________________________________________\n",
            "dense_9 (Dense)              (None, 10)                2570      \n",
            "=================================================================\n",
            "Total params: 543,498\n",
            "Trainable params: 543,050\n",
            "Non-trainable params: 448\n",
            "_________________________________________________________________\n",
            "Epoch 1/30\n",
            "193/196 [============================>.] - ETA: 0s - loss: 1.5744 - accuracy: 0.4416\n",
            "Epoch 00001: accuracy improved from -inf to 0.44276, saving model to /content/drive/My Drive/neural_ode_classification/CIFAR-10-RESNET/model.h5\n",
            "196/196 [==============================] - 3s 17ms/step - loss: 1.5713 - accuracy: 0.4428 - val_loss: 2.8962 - val_accuracy: 0.1217\n",
            "Epoch 2/30\n",
            "193/196 [============================>.] - ETA: 0s - loss: 1.1775 - accuracy: 0.5825\n",
            "Epoch 00002: accuracy improved from 0.44276 to 0.58254, saving model to /content/drive/My Drive/neural_ode_classification/CIFAR-10-RESNET/model.h5\n",
            "196/196 [==============================] - 3s 16ms/step - loss: 1.1770 - accuracy: 0.5825 - val_loss: 1.9090 - val_accuracy: 0.3628\n",
            "Epoch 3/30\n",
            "193/196 [============================>.] - ETA: 0s - loss: 1.0233 - accuracy: 0.6406\n",
            "Epoch 00003: accuracy improved from 0.58254 to 0.64102, saving model to /content/drive/My Drive/neural_ode_classification/CIFAR-10-RESNET/model.h5\n",
            "196/196 [==============================] - 3s 16ms/step - loss: 1.0226 - accuracy: 0.6410 - val_loss: 1.4502 - val_accuracy: 0.4980\n",
            "Epoch 4/30\n",
            "193/196 [============================>.] - ETA: 0s - loss: 0.9149 - accuracy: 0.6800\n",
            "Epoch 00004: accuracy improved from 0.64102 to 0.68004, saving model to /content/drive/My Drive/neural_ode_classification/CIFAR-10-RESNET/model.h5\n",
            "196/196 [==============================] - 3s 16ms/step - loss: 0.9145 - accuracy: 0.6800 - val_loss: 1.0657 - val_accuracy: 0.6296\n",
            "Epoch 5/30\n",
            "193/196 [============================>.] - ETA: 0s - loss: 0.8351 - accuracy: 0.7075\n",
            "Epoch 00005: accuracy improved from 0.68004 to 0.70772, saving model to /content/drive/My Drive/neural_ode_classification/CIFAR-10-RESNET/model.h5\n",
            "196/196 [==============================] - 3s 16ms/step - loss: 0.8341 - accuracy: 0.7077 - val_loss: 0.9471 - val_accuracy: 0.6687\n",
            "Epoch 6/30\n",
            "193/196 [============================>.] - ETA: 0s - loss: 0.7610 - accuracy: 0.7352\n",
            "Epoch 00006: accuracy improved from 0.70772 to 0.73534, saving model to /content/drive/My Drive/neural_ode_classification/CIFAR-10-RESNET/model.h5\n",
            "196/196 [==============================] - 3s 15ms/step - loss: 0.7607 - accuracy: 0.7353 - val_loss: 0.9094 - val_accuracy: 0.6879\n",
            "Epoch 7/30\n",
            "192/196 [============================>.] - ETA: 0s - loss: 0.7022 - accuracy: 0.7566\n",
            "Epoch 00007: accuracy improved from 0.73534 to 0.75674, saving model to /content/drive/My Drive/neural_ode_classification/CIFAR-10-RESNET/model.h5\n",
            "196/196 [==============================] - 3s 15ms/step - loss: 0.7017 - accuracy: 0.7567 - val_loss: 0.8876 - val_accuracy: 0.6876\n",
            "Epoch 8/30\n",
            "193/196 [============================>.] - ETA: 0s - loss: 0.6512 - accuracy: 0.7732\n",
            "Epoch 00008: accuracy improved from 0.75674 to 0.77270, saving model to /content/drive/My Drive/neural_ode_classification/CIFAR-10-RESNET/model.h5\n",
            "196/196 [==============================] - 3s 16ms/step - loss: 0.6517 - accuracy: 0.7727 - val_loss: 1.0154 - val_accuracy: 0.6621\n",
            "Epoch 9/30\n",
            "193/196 [============================>.] - ETA: 0s - loss: 0.6058 - accuracy: 0.7893\n",
            "Epoch 00009: accuracy improved from 0.77270 to 0.78942, saving model to /content/drive/My Drive/neural_ode_classification/CIFAR-10-RESNET/model.h5\n",
            "196/196 [==============================] - 3s 16ms/step - loss: 0.6055 - accuracy: 0.7894 - val_loss: 0.9039 - val_accuracy: 0.6952\n",
            "Epoch 10/30\n",
            "193/196 [============================>.] - ETA: 0s - loss: 0.5637 - accuracy: 0.8038\n",
            "Epoch 00010: accuracy improved from 0.78942 to 0.80400, saving model to /content/drive/My Drive/neural_ode_classification/CIFAR-10-RESNET/model.h5\n",
            "196/196 [==============================] - 3s 15ms/step - loss: 0.5636 - accuracy: 0.8040 - val_loss: 1.1889 - val_accuracy: 0.6250\n",
            "Epoch 11/30\n",
            "193/196 [============================>.] - ETA: 0s - loss: 0.5239 - accuracy: 0.8174\n",
            "Epoch 00011: accuracy improved from 0.80400 to 0.81728, saving model to /content/drive/My Drive/neural_ode_classification/CIFAR-10-RESNET/model.h5\n",
            "196/196 [==============================] - 3s 15ms/step - loss: 0.5240 - accuracy: 0.8173 - val_loss: 0.8314 - val_accuracy: 0.7142\n",
            "Epoch 12/30\n",
            "193/196 [============================>.] - ETA: 0s - loss: 0.4869 - accuracy: 0.8322\n",
            "Epoch 00012: accuracy improved from 0.81728 to 0.83218, saving model to /content/drive/My Drive/neural_ode_classification/CIFAR-10-RESNET/model.h5\n",
            "196/196 [==============================] - 3s 15ms/step - loss: 0.4869 - accuracy: 0.8322 - val_loss: 0.8713 - val_accuracy: 0.7071\n",
            "Epoch 13/30\n",
            "193/196 [============================>.] - ETA: 0s - loss: 0.4549 - accuracy: 0.8433\n",
            "Epoch 00013: accuracy improved from 0.83218 to 0.84326, saving model to /content/drive/My Drive/neural_ode_classification/CIFAR-10-RESNET/model.h5\n",
            "196/196 [==============================] - 3s 15ms/step - loss: 0.4548 - accuracy: 0.8433 - val_loss: 0.8303 - val_accuracy: 0.7234\n",
            "Epoch 14/30\n",
            "193/196 [============================>.] - ETA: 0s - loss: 0.4200 - accuracy: 0.8560\n",
            "Epoch 00014: accuracy improved from 0.84326 to 0.85602, saving model to /content/drive/My Drive/neural_ode_classification/CIFAR-10-RESNET/model.h5\n",
            "196/196 [==============================] - 3s 15ms/step - loss: 0.4198 - accuracy: 0.8560 - val_loss: 0.7979 - val_accuracy: 0.7391\n",
            "Epoch 15/30\n",
            "193/196 [============================>.] - ETA: 0s - loss: 0.3922 - accuracy: 0.8673\n",
            "Epoch 00015: accuracy improved from 0.85602 to 0.86690, saving model to /content/drive/My Drive/neural_ode_classification/CIFAR-10-RESNET/model.h5\n",
            "196/196 [==============================] - 3s 15ms/step - loss: 0.3929 - accuracy: 0.8669 - val_loss: 0.9540 - val_accuracy: 0.6999\n",
            "Epoch 16/30\n",
            "193/196 [============================>.] - ETA: 0s - loss: 0.3642 - accuracy: 0.8764\n",
            "Epoch 00016: accuracy improved from 0.86690 to 0.87634, saving model to /content/drive/My Drive/neural_ode_classification/CIFAR-10-RESNET/model.h5\n",
            "196/196 [==============================] - 3s 15ms/step - loss: 0.3642 - accuracy: 0.8763 - val_loss: 0.8713 - val_accuracy: 0.7245\n",
            "Epoch 17/30\n",
            "193/196 [============================>.] - ETA: 0s - loss: 0.3385 - accuracy: 0.8858\n",
            "Epoch 00017: accuracy improved from 0.87634 to 0.88560, saving model to /content/drive/My Drive/neural_ode_classification/CIFAR-10-RESNET/model.h5\n",
            "196/196 [==============================] - 3s 15ms/step - loss: 0.3387 - accuracy: 0.8856 - val_loss: 0.9115 - val_accuracy: 0.7114\n",
            "Epoch 18/30\n",
            "193/196 [============================>.] - ETA: 0s - loss: 0.3116 - accuracy: 0.8958\n",
            "Epoch 00018: accuracy improved from 0.88560 to 0.89582, saving model to /content/drive/My Drive/neural_ode_classification/CIFAR-10-RESNET/model.h5\n",
            "196/196 [==============================] - 3s 15ms/step - loss: 0.3117 - accuracy: 0.8958 - val_loss: 1.0398 - val_accuracy: 0.6815\n",
            "Epoch 19/30\n",
            "193/196 [============================>.] - ETA: 0s - loss: 0.2847 - accuracy: 0.9059\n",
            "Epoch 00019: accuracy improved from 0.89582 to 0.90564, saving model to /content/drive/My Drive/neural_ode_classification/CIFAR-10-RESNET/model.h5\n",
            "196/196 [==============================] - 3s 15ms/step - loss: 0.2850 - accuracy: 0.9056 - val_loss: 0.8734 - val_accuracy: 0.7322\n",
            "Epoch 20/30\n",
            "193/196 [============================>.] - ETA: 0s - loss: 0.2685 - accuracy: 0.9101\n",
            "Epoch 00020: accuracy improved from 0.90564 to 0.91002, saving model to /content/drive/My Drive/neural_ode_classification/CIFAR-10-RESNET/model.h5\n",
            "196/196 [==============================] - 3s 15ms/step - loss: 0.2688 - accuracy: 0.9100 - val_loss: 0.9436 - val_accuracy: 0.7147\n",
            "Epoch 21/30\n",
            "193/196 [============================>.] - ETA: 0s - loss: 0.2449 - accuracy: 0.9199\n",
            "Epoch 00021: accuracy improved from 0.91002 to 0.91998, saving model to /content/drive/My Drive/neural_ode_classification/CIFAR-10-RESNET/model.h5\n",
            "196/196 [==============================] - 3s 15ms/step - loss: 0.2447 - accuracy: 0.9200 - val_loss: 0.8862 - val_accuracy: 0.7276\n",
            "Epoch 22/30\n",
            "193/196 [============================>.] - ETA: 0s - loss: 0.2270 - accuracy: 0.9260\n",
            "Epoch 00022: accuracy improved from 0.91998 to 0.92600, saving model to /content/drive/My Drive/neural_ode_classification/CIFAR-10-RESNET/model.h5\n",
            "196/196 [==============================] - 3s 15ms/step - loss: 0.2270 - accuracy: 0.9260 - val_loss: 0.8326 - val_accuracy: 0.7463\n",
            "Epoch 23/30\n",
            "193/196 [============================>.] - ETA: 0s - loss: 0.2085 - accuracy: 0.9330\n",
            "Epoch 00023: accuracy improved from 0.92600 to 0.93296, saving model to /content/drive/My Drive/neural_ode_classification/CIFAR-10-RESNET/model.h5\n",
            "196/196 [==============================] - 3s 16ms/step - loss: 0.2088 - accuracy: 0.9330 - val_loss: 0.8682 - val_accuracy: 0.7406\n",
            "Epoch 24/30\n",
            "193/196 [============================>.] - ETA: 0s - loss: 0.1940 - accuracy: 0.9386\n",
            "Epoch 00024: accuracy improved from 0.93296 to 0.93834, saving model to /content/drive/My Drive/neural_ode_classification/CIFAR-10-RESNET/model.h5\n",
            "196/196 [==============================] - 3s 16ms/step - loss: 0.1944 - accuracy: 0.9383 - val_loss: 0.9549 - val_accuracy: 0.7213\n",
            "Epoch 25/30\n",
            "192/196 [============================>.] - ETA: 0s - loss: 0.1786 - accuracy: 0.9423\n",
            "Epoch 00025: accuracy improved from 0.93834 to 0.94234, saving model to /content/drive/My Drive/neural_ode_classification/CIFAR-10-RESNET/model.h5\n",
            "196/196 [==============================] - 3s 16ms/step - loss: 0.1788 - accuracy: 0.9423 - val_loss: 0.9455 - val_accuracy: 0.7242\n",
            "Epoch 26/30\n",
            "193/196 [============================>.] - ETA: 0s - loss: 0.1649 - accuracy: 0.9491\n",
            "Epoch 00026: accuracy improved from 0.94234 to 0.94912, saving model to /content/drive/My Drive/neural_ode_classification/CIFAR-10-RESNET/model.h5\n",
            "196/196 [==============================] - 3s 16ms/step - loss: 0.1649 - accuracy: 0.9491 - val_loss: 0.8493 - val_accuracy: 0.7516\n",
            "Epoch 27/30\n",
            "193/196 [============================>.] - ETA: 0s - loss: 0.1513 - accuracy: 0.9526\n",
            "Epoch 00027: accuracy improved from 0.94912 to 0.95234, saving model to /content/drive/My Drive/neural_ode_classification/CIFAR-10-RESNET/model.h5\n",
            "196/196 [==============================] - 3s 16ms/step - loss: 0.1518 - accuracy: 0.9523 - val_loss: 0.9574 - val_accuracy: 0.7341\n",
            "Epoch 28/30\n",
            "196/196 [==============================] - ETA: 0s - loss: 0.1407 - accuracy: 0.9571\n",
            "Epoch 00028: accuracy improved from 0.95234 to 0.95714, saving model to /content/drive/My Drive/neural_ode_classification/CIFAR-10-RESNET/model.h5\n",
            "196/196 [==============================] - 3s 16ms/step - loss: 0.1407 - accuracy: 0.9571 - val_loss: 0.8543 - val_accuracy: 0.7582\n",
            "Epoch 29/30\n",
            "193/196 [============================>.] - ETA: 0s - loss: 0.1298 - accuracy: 0.9598\n",
            "Epoch 00029: accuracy improved from 0.95714 to 0.95978, saving model to /content/drive/My Drive/neural_ode_classification/CIFAR-10-RESNET/model.h5\n",
            "196/196 [==============================] - 3s 16ms/step - loss: 0.1299 - accuracy: 0.9598 - val_loss: 1.0259 - val_accuracy: 0.7276\n",
            "Epoch 30/30\n",
            "193/196 [============================>.] - ETA: 0s - loss: 0.1202 - accuracy: 0.9651\n",
            "Epoch 00030: accuracy improved from 0.95978 to 0.96496, saving model to /content/drive/My Drive/neural_ode_classification/CIFAR-10-RESNET/model.h5\n",
            "196/196 [==============================] - 3s 16ms/step - loss: 0.1204 - accuracy: 0.9650 - val_loss: 1.0845 - val_accuracy: 0.7298\n"
          ],
          "name": "stdout"
        }
      ]
    },
    {
      "cell_type": "code",
      "metadata": {
        "id": "5fhFO-XWopHp",
        "colab_type": "code",
        "colab": {}
      },
      "source": [
        "import matplotlib.pyplot as plt\n",
        "%matplotlib inline"
      ],
      "execution_count": 34,
      "outputs": []
    },
    {
      "cell_type": "code",
      "metadata": {
        "id": "GYLkH_-xPweG",
        "colab_type": "code",
        "colab": {
          "base_uri": "https://localhost:8080/",
          "height": 428
        },
        "outputId": "8e586c70-ff75-42a1-c88b-8717273421c1"
      },
      "source": [
        "plt.figure(figsize=[8,6])\n",
        "plt.plot(history.history['loss'],'r',linewidth=3.0)\n",
        "plt.plot(history.history['val_loss'],'b',linewidth=3.0)\n",
        "plt.legend(['Training loss', 'Validation Loss'],fontsize=18)\n",
        "plt.xlabel('Epochs ',fontsize=16)\n",
        "plt.ylabel('Loss',fontsize=16)\n",
        "plt.title('Loss Curves',fontsize=16)"
      ],
      "execution_count": 35,
      "outputs": [
        {
          "output_type": "execute_result",
          "data": {
            "text/plain": [
              "Text(0.5, 1.0, 'Loss Curves')"
            ]
          },
          "metadata": {
            "tags": []
          },
          "execution_count": 35
        },
        {
          "output_type": "display_data",
          "data": {
            "image/png": "[encoded data removed]",
            "text/plain": [
              "<Figure size 576x432 with 1 Axes>"
            ]
          },
          "metadata": {
            "tags": [],
            "needs_background": "light"
          }
        }
      ]
    },
    {
      "cell_type": "code",
      "metadata": {
        "id": "Z0-33xkGom43",
        "colab_type": "code",
        "colab": {
          "base_uri": "https://localhost:8080/",
          "height": 428
        },
        "outputId": "e29ff3e2-430e-4eb9-ee28-382858b54bb2"
      },
      "source": [
        "plt.figure(figsize=[8,6])\n",
        "plt.plot(history.history['accuracy'],'r',linewidth=3.0)\n",
        "plt.plot(history.history['val_accuracy'],'b',linewidth=3.0)\n",
        "plt.legend(['Training Accuracy', 'Validation Accuracy'],fontsize=18)\n",
        "plt.xlabel('Epochs ',fontsize=16)\n",
        "plt.ylabel('Accuracy',fontsize=16)\n",
        "plt.title('Accuracy Curves',fontsize=16)"
      ],
      "execution_count": 36,
      "outputs": [
        {
          "output_type": "execute_result",
          "data": {
            "text/plain": [
              "Text(0.5, 1.0, 'Accuracy Curves')"
            ]
          },
          "metadata": {
            "tags": []
          },
          "execution_count": 36
        },
        {
          "output_type": "display_data",
          "data": {
            "image/png": "[encoded data removed]",
            "text/plain": [
              "<Figure size 576x432 with 1 Axes>"
            ]
          },
          "metadata": {
            "tags": [],
            "needs_background": "light"
          }
        }
      ]
    },
    {
      "cell_type": "code",
      "metadata": {
        "id": "SJLcBVx_o3K8",
        "colab_type": "code",
        "colab": {}
      },
      "source": [
        ""
      ],
      "execution_count": null,
      "outputs": []
    }
  ]
}