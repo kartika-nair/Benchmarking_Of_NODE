{
  "nbformat": 4,
  "nbformat_minor": 0,
  "metadata": {
    "colab": {
      "name": "CIFAR-10_NODE+RESNET_model.ipynb",
      "provenance": [],
      "collapsed_sections": []
    },
    "kernelspec": {
      "name": "python3",
      "display_name": "Python 3"
    },
    "accelerator": "GPU"
  },
  "cells": [
    {
      "cell_type": "code",
      "metadata": {
        "id": "BdW8b0QVcmXU",
        "colab_type": "code",
        "colab": {
          "base_uri": "https://localhost:8080/",
          "height": 428
        },
        "outputId": "7192e18e-1740-440c-a04b-85fc5462a616"
      },
      "source": [
        "!rm -rf sample_data\n",
        "#!pip install tensorflow-scientific\n",
        "!pip install tensorflow==1.15"
      ],
      "execution_count": 1,
      "outputs": [
        {
          "output_type": "stream",
          "text": [
            "Requirement already satisfied: tensorflow==1.15 in /usr/local/lib/python3.6/dist-packages (1.15.0)\n",
            "Requirement already satisfied: absl-py>=0.7.0 in /usr/local/lib/python3.6/dist-packages (from tensorflow==1.15) (0.9.0)\n",
            "Requirement already satisfied: gast==0.2.2 in /usr/local/lib/python3.6/dist-packages (from tensorflow==1.15) (0.2.2)\n",
            "Requirement already satisfied: protobuf>=3.6.1 in /usr/local/lib/python3.6/dist-packages (from tensorflow==1.15) (3.12.4)\n",
            "Requirement already satisfied: termcolor>=1.1.0 in /usr/local/lib/python3.6/dist-packages (from tensorflow==1.15) (1.1.0)\n",
            "Requirement already satisfied: astor>=0.6.0 in /usr/local/lib/python3.6/dist-packages (from tensorflow==1.15) (0.8.1)\n",
            "Requirement already satisfied: google-pasta>=0.1.6 in /usr/local/lib/python3.6/dist-packages (from tensorflow==1.15) (0.2.0)\n",
            "Requirement already satisfied: numpy<2.0,>=1.16.0 in /usr/local/lib/python3.6/dist-packages (from tensorflow==1.15) (1.18.5)\n",
            "Requirement already satisfied: grpcio>=1.8.6 in /usr/local/lib/python3.6/dist-packages (from tensorflow==1.15) (1.30.0)\n",
            "Requirement already satisfied: six>=1.10.0 in /usr/local/lib/python3.6/dist-packages (from tensorflow==1.15) (1.15.0)\n",
            "Requirement already satisfied: wheel>=0.26 in /usr/local/lib/python3.6/dist-packages (from tensorflow==1.15) (0.34.2)\n",
            "Requirement already satisfied: keras-applications>=1.0.8 in /usr/local/lib/python3.6/dist-packages (from tensorflow==1.15) (1.0.8)\n",
            "Requirement already satisfied: wrapt>=1.11.1 in /usr/local/lib/python3.6/dist-packages (from tensorflow==1.15) (1.12.1)\n",
            "Requirement already satisfied: keras-preprocessing>=1.0.5 in /usr/local/lib/python3.6/dist-packages (from tensorflow==1.15) (1.1.2)\n",
            "Requirement already satisfied: tensorboard<1.16.0,>=1.15.0 in /usr/local/lib/python3.6/dist-packages (from tensorflow==1.15) (1.15.0)\n",
            "Requirement already satisfied: opt-einsum>=2.3.2 in /usr/local/lib/python3.6/dist-packages (from tensorflow==1.15) (3.3.0)\n",
            "Requirement already satisfied: tensorflow-estimator==1.15.1 in /usr/local/lib/python3.6/dist-packages (from tensorflow==1.15) (1.15.1)\n",
            "Requirement already satisfied: setuptools in /usr/local/lib/python3.6/dist-packages (from protobuf>=3.6.1->tensorflow==1.15) (49.2.0)\n",
            "Requirement already satisfied: h5py in /usr/local/lib/python3.6/dist-packages (from keras-applications>=1.0.8->tensorflow==1.15) (2.10.0)\n",
            "Requirement already satisfied: markdown>=2.6.8 in /usr/local/lib/python3.6/dist-packages (from tensorboard<1.16.0,>=1.15.0->tensorflow==1.15) (3.2.2)\n",
            "Requirement already satisfied: werkzeug>=0.11.15 in /usr/local/lib/python3.6/dist-packages (from tensorboard<1.16.0,>=1.15.0->tensorflow==1.15) (1.0.1)\n",
            "Requirement already satisfied: importlib-metadata; python_version < \"3.8\" in /usr/local/lib/python3.6/dist-packages (from markdown>=2.6.8->tensorboard<1.16.0,>=1.15.0->tensorflow==1.15) (1.7.0)\n",
            "Requirement already satisfied: zipp>=0.5 in /usr/local/lib/python3.6/dist-packages (from importlib-metadata; python_version < \"3.8\"->markdown>=2.6.8->tensorboard<1.16.0,>=1.15.0->tensorflow==1.15) (3.1.0)\n"
          ],
          "name": "stdout"
        }
      ]
    },
    {
      "cell_type": "code",
      "metadata": {
        "id": "t_vqQD_W8fpH",
        "colab_type": "code",
        "colab": {}
      },
      "source": [
        "import numpy as np\n",
        "import matplotlib.pyplot as plt\n",
        "%matplotlib inline\n",
        "from __future__ import print_function\n",
        "import tensorflow as tf\n",
        "from tensorflow.keras.models import Sequential\n",
        "from tensorflow.keras.layers import Dense, Conv2D, MaxPooling2D, Dropout, Flatten, BatchNormalization\n",
        "from tensorflow.keras.optimizers import SGD\n",
        "from tensorflow.keras.utils import to_categorical\n",
        "import tensorflow.keras.backend as K\n",
        "#import tensorflow_scientific as tfs\n"
      ],
      "execution_count": 2,
      "outputs": []
    },
    {
      "cell_type": "code",
      "metadata": {
        "id": "bceBtHBso_a7",
        "colab_type": "code",
        "colab": {
          "base_uri": "https://localhost:8080/",
          "height": 34
        },
        "outputId": "104ff929-e440-423f-f6d6-38b26624bd81"
      },
      "source": [
        "from google.colab import drive\n",
        "drive.mount('/content/drive')"
      ],
      "execution_count": 3,
      "outputs": [
        {
          "output_type": "stream",
          "text": [
            "Drive already mounted at /content/drive; to attempt to forcibly remount, call drive.mount(\"/content/drive\", force_remount=True).\n"
          ],
          "name": "stdout"
        }
      ]
    },
    {
      "cell_type": "code",
      "metadata": {
        "id": "6xO9y6leM4r9",
        "colab_type": "code",
        "colab": {}
      },
      "source": [
        "from tensorflow.keras.datasets import cifar10\n",
        "(train_images, train_labels), (test_images, test_labels) = cifar10.load_data()"
      ],
      "execution_count": 4,
      "outputs": []
    },
    {
      "cell_type": "code",
      "metadata": {
        "id": "L0azwFRuGL-s",
        "colab_type": "code",
        "colab": {}
      },
      "source": [
        "from tensorflow.keras.utils import to_categorical"
      ],
      "execution_count": 5,
      "outputs": []
    },
    {
      "cell_type": "code",
      "metadata": {
        "id": "DgFUB6t5Jn0Y",
        "colab_type": "code",
        "colab": {}
      },
      "source": [
        "nRows,nCols,nDims = train_images.shape[1:]\n",
        "train_data = train_images.reshape(train_images.shape[0], nRows, nCols, nDims)\n",
        "test_data = test_images.reshape(test_images.shape[0], nRows, nCols, nDims)\n",
        "input_shape = (nRows, nCols, nDims)\n",
        "\n",
        "train_data = train_data.astype('float32')\n",
        "test_data = test_data.astype('float32')\n",
        "\n",
        "train_data /= 255\n",
        "test_data /= 255\n",
        "\n",
        "train_labels_one_hot = to_categorical(train_labels)\n",
        "test_labels_one_hot = to_categorical(test_labels)"
      ],
      "execution_count": 6,
      "outputs": []
    },
    {
      "cell_type": "code",
      "metadata": {
        "id": "0Uu1BKTIc6Tv",
        "colab_type": "code",
        "colab": {}
      },
      "source": [
        "class ODEBlock(tf.keras.layers.Layer):\n",
        "\n",
        "    def __init__(self, filters, kernel_size, **kwargs):\n",
        "        self.filters = filters\n",
        "        self.kernel_size = kernel_size\n",
        "        super(ODEBlock, self).__init__(**kwargs)\n",
        "\n",
        "    def get_config(self):\n",
        "        config = super().get_config().copy()\n",
        "        config.update({\n",
        "            'filters': self.filters,\n",
        "            'kernel_size': self.kernel_size,\n",
        "        })\n",
        "        return config\n",
        "\n",
        "    def build(self, input_shape):\n",
        "        self.conv2d_w1 = self.add_weight(\"conv2d_w1\", self.kernel_size + (self.filters + 1, self.filters), initializer='glorot_uniform')\n",
        "        self.conv2d_w2 = self.add_weight(\"conv2d_w2\", self.kernel_size + (self.filters + 1, self.filters), initializer='glorot_uniform')\n",
        "        \n",
        "        self.conv2d_b1 = self.add_weight(\"conv2d_b1\", (self.filters,), initializer='zero')\n",
        "        self.conv2d_b2 = self.add_weight(\"conv2d_b2\", (self.filters,), initializer='zero')\n",
        "        super(ODEBlock, self).build(input_shape)\n",
        "\n",
        "    def call(self, x):\n",
        "        t = K.constant([0,1], dtype=\"float32\")\n",
        "        return tf.contrib.integrate.odeint(self.ode_func, x, t, rtol=1e-3, atol=1e-3)[1] #for tensorflow 1.x\n",
        "        #return tfs.integrate.odeint(self.ode_func, x, t, rtol=1e-3, atol=1e-3)[1]\n",
        "\n",
        "    def compute_output_shape(self, input_shape):\n",
        "        return input_shape\n",
        "\n",
        "    def ode_func(self, x, t):\n",
        "        y = self.concat_t(x, t)\n",
        "        y = K.conv2d(y, self.conv2d_w1, padding=\"same\")\n",
        "        y = K.bias_add(y, self.conv2d_b1)\n",
        "        y = K.relu(y)\n",
        "\n",
        "        y = self.concat_t(y, t)\n",
        "        y = K.conv2d(y, self.conv2d_w2, padding=\"same\")\n",
        "        y = K.bias_add(y, self.conv2d_b2)\n",
        "        y = K.relu(y)\n",
        "\n",
        "        return y\n",
        "\n",
        "    def concat_t(self, x, t):\n",
        "        new_shape = tf.concat([tf.shape(x)[:-1], tf.constant([1],dtype=\"int32\",shape=(1,))], axis=0)\n",
        "        t = tf.ones(shape=new_shape) * tf.reshape(t, (1, 1, 1, 1))\n",
        "\n",
        "        return tf.concat([x, t], axis=-1)"
      ],
      "execution_count": 7,
      "outputs": []
    },
    {
      "cell_type": "code",
      "metadata": {
        "id": "y0mQcbEXm-P5",
        "colab_type": "code",
        "colab": {}
      },
      "source": [
        "class ResBlock(tf.keras.layers.Layer):\n",
        "\n",
        "    def __init__(self, filters, kernel_size, **kwargs):\n",
        "        self.filters = filters\n",
        "        self.kernel_size = kernel_size\n",
        "        super(ResBlock, self).__init__(**kwargs)\n",
        "\n",
        "    def get_config(self):\n",
        "        config = super().get_config().copy()\n",
        "        config.update({\n",
        "            'filters': self.filters,\n",
        "            'kernel_size': self.kernel_size,\n",
        "        })\n",
        "        return config\n",
        "\n",
        "    def build(self, input_shape):\n",
        "        self.conv2d_w1 = self.add_weight(\"conv2d_w1\", self.kernel_size + (self.filters, self.filters), initializer='glorot_uniform')\n",
        "        self.conv2d_w2 = self.add_weight(\"conv2d_w2\", self.kernel_size + (self.filters, self.filters), initializer='glorot_uniform')\n",
        "\n",
        "        self.conv2d_b1 = self.add_weight(\"conv2d_b1\", (self.filters,), initializer='zero')\n",
        "        self.conv2d_b2 = self.add_weight(\"conv2d_b2\", (self.filters,), initializer='zero')\n",
        "        super(ResBlock, self).build(input_shape)\n",
        "\n",
        "    def call(self, x):\n",
        "        y = K.conv2d(x, self.conv2d_w1, padding=\"same\")\n",
        "        y = K.bias_add(y, self.conv2d_b1)\n",
        "        y = K.relu(y)\n",
        "\n",
        "        y = K.conv2d(y, self.conv2d_w2, padding=\"same\")\n",
        "        y = K.bias_add(y, self.conv2d_b2)\n",
        "        y = K.relu(y)\n",
        "        y = y+x\n",
        "\n",
        "        return y\n",
        "\n",
        "    def compute_output_shape(self, input_shape):\n",
        "        return input_shape"
      ],
      "execution_count": 8,
      "outputs": []
    },
    {
      "cell_type": "code",
      "metadata": {
        "id": "sOeds8GodpXc",
        "colab_type": "code",
        "colab": {
          "base_uri": "https://localhost:8080/",
          "height": 1000
        },
        "outputId": "d3ca318e-a9ea-41a0-f3fe-efac3367b558"
      },
      "source": [
        "model = Sequential()\n",
        "model.add(Conv2D(32, (3, 3), activation='relu', kernel_initializer='he_uniform', padding='same', input_shape=(32, 32, 3)))\n",
        "model.add(BatchNormalization())\n",
        "model.add(Conv2D(32, (3, 3), activation='relu', kernel_initializer='he_uniform', padding='same'))\n",
        "model.add(BatchNormalization())\n",
        "model.add(MaxPooling2D((2, 2)))\n",
        "model.add(Dropout(0.2))\n",
        "model.add(Conv2D(64, (3, 3), activation='relu', kernel_initializer='he_uniform', padding='same'))\n",
        "model.add(BatchNormalization())\n",
        "model.add(Conv2D(64, (3, 3), activation='relu', kernel_initializer='he_uniform', padding='same'))\n",
        "model.add(BatchNormalization())\n",
        "model.add(MaxPooling2D((2, 2)))\n",
        "model.add(Dropout(0.3))\n",
        "model.add(Conv2D(128, (3, 3), activation='relu', kernel_initializer='he_uniform', padding='same'))\n",
        "model.add(BatchNormalization())\n",
        "model.add(Conv2D(128, (3, 3), activation='relu', kernel_initializer='he_uniform', padding='same'))\n",
        "model.add(BatchNormalization())\n",
        "model.add(MaxPooling2D((2, 2)))\n",
        "model.add(Dropout(0.4))\n",
        "\t\n",
        "model.add(ODEBlock(128, (3,3)))\n",
        "model.add(ResBlock(128, (3,3)))\n",
        "model.add(Flatten())\n",
        "model.add(Dense(128, activation='relu', kernel_initializer='he_uniform'))\n",
        "model.add(BatchNormalization())\n",
        "model.add(Dropout(0.5))\n",
        "model.add(Dense(10, activation='softmax'))\n",
        "\n",
        "\n",
        "model.summary()"
      ],
      "execution_count": 9,
      "outputs": [
        {
          "output_type": "stream",
          "text": [
            "WARNING:tensorflow:From /usr/local/lib/python3.6/dist-packages/tensorflow_core/python/ops/resource_variable_ops.py:1630: calling BaseResourceVariable.__init__ (from tensorflow.python.ops.resource_variable_ops) with constraint is deprecated and will be removed in a future version.\n",
            "Instructions for updating:\n",
            "If using Keras pass *_constraint arguments to layers.\n",
            "WARNING:tensorflow:\n",
            "The TensorFlow contrib module will not be included in TensorFlow 2.0.\n",
            "For more information, please see:\n",
            "  * https://github.com/tensorflow/community/blob/master/rfcs/20180907-contrib-sunset.md\n",
            "  * https://github.com/tensorflow/addons\n",
            "  * https://github.com/tensorflow/io (for I/O related ops)\n",
            "If you depend on functionality not listed there, please file an issue.\n",
            "\n",
            "WARNING:tensorflow:From /usr/local/lib/python3.6/dist-packages/tensorflow_core/contrib/integrate/python/ops/odes.py:233: div (from tensorflow.python.ops.math_ops) is deprecated and will be removed in a future version.\n",
            "Instructions for updating:\n",
            "Deprecated in favor of operator or tf.math.divide.\n",
            "Model: \"sequential\"\n",
            "_________________________________________________________________\n",
            "Layer (type)                 Output Shape              Param #   \n",
            "=================================================================\n",
            "conv2d (Conv2D)              (None, 32, 32, 32)        896       \n",
            "_________________________________________________________________\n",
            "batch_normalization (BatchNo (None, 32, 32, 32)        128       \n",
            "_________________________________________________________________\n",
            "conv2d_1 (Conv2D)            (None, 32, 32, 32)        9248      \n",
            "_________________________________________________________________\n",
            "batch_normalization_1 (Batch (None, 32, 32, 32)        128       \n",
            "_________________________________________________________________\n",
            "max_pooling2d (MaxPooling2D) (None, 16, 16, 32)        0         \n",
            "_________________________________________________________________\n",
            "dropout (Dropout)            (None, 16, 16, 32)        0         \n",
            "_________________________________________________________________\n",
            "conv2d_2 (Conv2D)            (None, 16, 16, 64)        18496     \n",
            "_________________________________________________________________\n",
            "batch_normalization_2 (Batch (None, 16, 16, 64)        256       \n",
            "_________________________________________________________________\n",
            "conv2d_3 (Conv2D)            (None, 16, 16, 64)        36928     \n",
            "_________________________________________________________________\n",
            "batch_normalization_3 (Batch (None, 16, 16, 64)        256       \n",
            "_________________________________________________________________\n",
            "max_pooling2d_1 (MaxPooling2 (None, 8, 8, 64)          0         \n",
            "_________________________________________________________________\n",
            "dropout_1 (Dropout)          (None, 8, 8, 64)          0         \n",
            "_________________________________________________________________\n",
            "conv2d_4 (Conv2D)            (None, 8, 8, 128)         73856     \n",
            "_________________________________________________________________\n",
            "batch_normalization_4 (Batch (None, 8, 8, 128)         512       \n",
            "_________________________________________________________________\n",
            "conv2d_5 (Conv2D)            (None, 8, 8, 128)         147584    \n",
            "_________________________________________________________________\n",
            "batch_normalization_5 (Batch (None, 8, 8, 128)         512       \n",
            "_________________________________________________________________\n",
            "max_pooling2d_2 (MaxPooling2 (None, 4, 4, 128)         0         \n",
            "_________________________________________________________________\n",
            "dropout_2 (Dropout)          (None, 4, 4, 128)         0         \n",
            "_________________________________________________________________\n",
            "ode_block (ODEBlock)         (None, 4, 4, 128)         297472    \n",
            "_________________________________________________________________\n",
            "res_block (ResBlock)         (None, 4, 4, 128)         295168    \n",
            "_________________________________________________________________\n",
            "flatten (Flatten)            (None, 2048)              0         \n",
            "_________________________________________________________________\n",
            "dense (Dense)                (None, 128)               262272    \n",
            "_________________________________________________________________\n",
            "batch_normalization_6 (Batch (None, 128)               512       \n",
            "_________________________________________________________________\n",
            "dropout_3 (Dropout)          (None, 128)               0         \n",
            "_________________________________________________________________\n",
            "dense_1 (Dense)              (None, 10)                1290      \n",
            "=================================================================\n",
            "Total params: 1,145,514\n",
            "Trainable params: 1,144,362\n",
            "Non-trainable params: 1,152\n",
            "_________________________________________________________________\n"
          ],
          "name": "stdout"
        }
      ]
    },
    {
      "cell_type": "code",
      "metadata": {
        "id": "dDZ_t9ju9ZWB",
        "colab_type": "code",
        "colab": {
          "base_uri": "https://localhost:8080/",
          "height": 1000
        },
        "outputId": "ab69ef8a-5586-485e-f375-99a3db8fcb25"
      },
      "source": [
        "from tensorflow.keras.callbacks import ModelCheckpoint\n",
        "batch_size = 256\n",
        "epochs = 30\n",
        "model.compile(optimizer='adam', loss='categorical_crossentropy', metrics=['accuracy'])\n",
        "\n",
        "checkpoint = ModelCheckpoint(\n",
        "    f'/content/drive/My Drive/neural_ode_classification/CIFAR-10-RESNET+NODE/model.h5', \n",
        "    monitor='acc', \n",
        "    verbose=1, \n",
        "    save_best_only=True, \n",
        "    save_weights_only=False,\n",
        "    mode='auto'\n",
        ")\n",
        "history = model.fit(train_data, \n",
        "                    train_labels_one_hot, \n",
        "                    batch_size=batch_size, \n",
        "                    epochs=epochs, \n",
        "                    verbose=1, \n",
        "                    validation_data=(test_data, test_labels_one_hot),\n",
        "                    callbacks=[checkpoint])\n",
        "\n",
        "model.evaluate(test_data, test_labels_one_hot)"
      ],
      "execution_count": 10,
      "outputs": [
        {
          "output_type": "stream",
          "text": [
            "WARNING:tensorflow:From /usr/local/lib/python3.6/dist-packages/tensorflow_core/python/ops/math_grad.py:1424: where (from tensorflow.python.ops.array_ops) is deprecated and will be removed in a future version.\n",
            "Instructions for updating:\n",
            "Use tf.where in 2.0, which has the same broadcast rule as np.where\n",
            "Train on 50000 samples, validate on 10000 samples\n",
            "Epoch 1/30\n",
            "49920/50000 [============================>.] - ETA: 0s - loss: 1.7923 - acc: 0.3650\n",
            "Epoch 00001: acc improved from -inf to 0.36512, saving model to /content/drive/My Drive/neural_ode_classification/CIFAR-10-RESNET+NODE/model.h5\n",
            "50000/50000 [==============================] - 23s 464us/sample - loss: 1.7919 - acc: 0.3651 - val_loss: 2.8459 - val_acc: 0.1633\n",
            "Epoch 2/30\n",
            "49920/50000 [============================>.] - ETA: 0s - loss: 1.2355 - acc: 0.5585\n",
            "Epoch 00002: acc improved from 0.36512 to 0.55848, saving model to /content/drive/My Drive/neural_ode_classification/CIFAR-10-RESNET+NODE/model.h5\n",
            "50000/50000 [==============================] - 14s 290us/sample - loss: 1.2354 - acc: 0.5585 - val_loss: 1.4895 - val_acc: 0.4712\n",
            "Epoch 3/30\n",
            "49920/50000 [============================>.] - ETA: 0s - loss: 1.0227 - acc: 0.6378\n",
            "Epoch 00003: acc improved from 0.55848 to 0.63784, saving model to /content/drive/My Drive/neural_ode_classification/CIFAR-10-RESNET+NODE/model.h5\n",
            "50000/50000 [==============================] - 15s 291us/sample - loss: 1.0227 - acc: 0.6378 - val_loss: 0.8942 - val_acc: 0.6771\n",
            "Epoch 4/30\n",
            "49920/50000 [============================>.] - ETA: 0s - loss: 0.8973 - acc: 0.6875\n",
            "Epoch 00004: acc improved from 0.63784 to 0.68754, saving model to /content/drive/My Drive/neural_ode_classification/CIFAR-10-RESNET+NODE/model.h5\n",
            "50000/50000 [==============================] - 15s 291us/sample - loss: 0.8971 - acc: 0.6875 - val_loss: 0.8405 - val_acc: 0.7039\n",
            "Epoch 5/30\n",
            "49920/50000 [============================>.] - ETA: 0s - loss: 0.7919 - acc: 0.7250\n",
            "Epoch 00005: acc improved from 0.68754 to 0.72514, saving model to /content/drive/My Drive/neural_ode_classification/CIFAR-10-RESNET+NODE/model.h5\n",
            "50000/50000 [==============================] - 15s 295us/sample - loss: 0.7918 - acc: 0.7251 - val_loss: 0.8223 - val_acc: 0.7192\n",
            "Epoch 6/30\n",
            "49920/50000 [============================>.] - ETA: 0s - loss: 0.7216 - acc: 0.7515\n",
            "Epoch 00006: acc improved from 0.72514 to 0.75152, saving model to /content/drive/My Drive/neural_ode_classification/CIFAR-10-RESNET+NODE/model.h5\n",
            "50000/50000 [==============================] - 15s 301us/sample - loss: 0.7214 - acc: 0.7515 - val_loss: 0.7156 - val_acc: 0.7624\n",
            "Epoch 7/30\n",
            "49920/50000 [============================>.] - ETA: 0s - loss: 0.6545 - acc: 0.7756\n",
            "Epoch 00007: acc improved from 0.75152 to 0.77558, saving model to /content/drive/My Drive/neural_ode_classification/CIFAR-10-RESNET+NODE/model.h5\n",
            "50000/50000 [==============================] - 15s 303us/sample - loss: 0.6546 - acc: 0.7756 - val_loss: 0.6457 - val_acc: 0.7783\n",
            "Epoch 8/30\n",
            "49920/50000 [============================>.] - ETA: 0s - loss: 0.6023 - acc: 0.7961\n",
            "Epoch 00008: acc improved from 0.77558 to 0.79600, saving model to /content/drive/My Drive/neural_ode_classification/CIFAR-10-RESNET+NODE/model.h5\n",
            "50000/50000 [==============================] - 15s 298us/sample - loss: 0.6025 - acc: 0.7960 - val_loss: 0.6552 - val_acc: 0.7850\n",
            "Epoch 9/30\n",
            "49920/50000 [============================>.] - ETA: 0s - loss: 0.5540 - acc: 0.8115\n",
            "Epoch 00009: acc improved from 0.79600 to 0.81154, saving model to /content/drive/My Drive/neural_ode_classification/CIFAR-10-RESNET+NODE/model.h5\n",
            "50000/50000 [==============================] - 15s 296us/sample - loss: 0.5540 - acc: 0.8115 - val_loss: 0.6015 - val_acc: 0.8010\n",
            "Epoch 10/30\n",
            "49920/50000 [============================>.] - ETA: 0s - loss: 0.5126 - acc: 0.8260\n",
            "Epoch 00010: acc improved from 0.81154 to 0.82588, saving model to /content/drive/My Drive/neural_ode_classification/CIFAR-10-RESNET+NODE/model.h5\n",
            "50000/50000 [==============================] - 15s 295us/sample - loss: 0.5130 - acc: 0.8259 - val_loss: 0.5402 - val_acc: 0.8158\n",
            "Epoch 11/30\n",
            "49920/50000 [============================>.] - ETA: 0s - loss: 0.4847 - acc: 0.8356\n",
            "Epoch 00011: acc improved from 0.82588 to 0.83544, saving model to /content/drive/My Drive/neural_ode_classification/CIFAR-10-RESNET+NODE/model.h5\n",
            "50000/50000 [==============================] - 15s 299us/sample - loss: 0.4850 - acc: 0.8354 - val_loss: 0.5698 - val_acc: 0.8142\n",
            "Epoch 12/30\n",
            "49920/50000 [============================>.] - ETA: 0s - loss: 0.4495 - acc: 0.8457\n",
            "Epoch 00012: acc improved from 0.83544 to 0.84580, saving model to /content/drive/My Drive/neural_ode_classification/CIFAR-10-RESNET+NODE/model.h5\n",
            "50000/50000 [==============================] - 15s 296us/sample - loss: 0.4494 - acc: 0.8458 - val_loss: 0.5984 - val_acc: 0.8052\n",
            "Epoch 13/30\n",
            "49920/50000 [============================>.] - ETA: 0s - loss: 0.4207 - acc: 0.8564\n",
            "Epoch 00013: acc improved from 0.84580 to 0.85650, saving model to /content/drive/My Drive/neural_ode_classification/CIFAR-10-RESNET+NODE/model.h5\n",
            "50000/50000 [==============================] - 16s 330us/sample - loss: 0.4206 - acc: 0.8565 - val_loss: 0.5277 - val_acc: 0.8266\n",
            "Epoch 14/30\n",
            "49920/50000 [============================>.] - ETA: 0s - loss: 0.3900 - acc: 0.8679\n",
            "Epoch 00014: acc improved from 0.85650 to 0.86786, saving model to /content/drive/My Drive/neural_ode_classification/CIFAR-10-RESNET+NODE/model.h5\n",
            "50000/50000 [==============================] - 22s 439us/sample - loss: 0.3902 - acc: 0.8679 - val_loss: 0.5908 - val_acc: 0.8144\n",
            "Epoch 15/30\n",
            "49920/50000 [============================>.] - ETA: 0s - loss: 0.3713 - acc: 0.8731\n",
            "Epoch 00015: acc improved from 0.86786 to 0.87310, saving model to /content/drive/My Drive/neural_ode_classification/CIFAR-10-RESNET+NODE/model.h5\n",
            "50000/50000 [==============================] - 23s 451us/sample - loss: 0.3716 - acc: 0.8731 - val_loss: 0.5227 - val_acc: 0.8326\n",
            "Epoch 16/30\n",
            "49920/50000 [============================>.] - ETA: 0s - loss: 0.3403 - acc: 0.8838\n",
            "Epoch 00016: acc improved from 0.87310 to 0.88378, saving model to /content/drive/My Drive/neural_ode_classification/CIFAR-10-RESNET+NODE/model.h5\n",
            "50000/50000 [==============================] - 23s 451us/sample - loss: 0.3404 - acc: 0.8838 - val_loss: 0.5215 - val_acc: 0.8366\n",
            "Epoch 17/30\n",
            "49920/50000 [============================>.] - ETA: 0s - loss: 0.3235 - acc: 0.8895\n",
            "Epoch 00017: acc improved from 0.88378 to 0.88948, saving model to /content/drive/My Drive/neural_ode_classification/CIFAR-10-RESNET+NODE/model.h5\n",
            "50000/50000 [==============================] - 24s 475us/sample - loss: 0.3236 - acc: 0.8895 - val_loss: 0.5192 - val_acc: 0.8384\n",
            "Epoch 18/30\n",
            "49920/50000 [============================>.] - ETA: 0s - loss: 0.2997 - acc: 0.8979\n",
            "Epoch 00018: acc improved from 0.88948 to 0.89792, saving model to /content/drive/My Drive/neural_ode_classification/CIFAR-10-RESNET+NODE/model.h5\n",
            "50000/50000 [==============================] - 25s 509us/sample - loss: 0.2997 - acc: 0.8979 - val_loss: 0.5394 - val_acc: 0.8336\n",
            "Epoch 19/30\n",
            "49920/50000 [============================>.] - ETA: 0s - loss: 0.2832 - acc: 0.9030\n",
            "Epoch 00019: acc improved from 0.89792 to 0.90302, saving model to /content/drive/My Drive/neural_ode_classification/CIFAR-10-RESNET+NODE/model.h5\n",
            "50000/50000 [==============================] - 26s 525us/sample - loss: 0.2833 - acc: 0.9030 - val_loss: 0.5237 - val_acc: 0.8373\n",
            "Epoch 20/30\n",
            "49920/50000 [============================>.] - ETA: 0s - loss: 0.2644 - acc: 0.9097\n",
            "Epoch 00020: acc improved from 0.90302 to 0.90970, saving model to /content/drive/My Drive/neural_ode_classification/CIFAR-10-RESNET+NODE/model.h5\n",
            "50000/50000 [==============================] - 26s 527us/sample - loss: 0.2645 - acc: 0.9097 - val_loss: 0.5583 - val_acc: 0.8320\n",
            "Epoch 21/30\n",
            "49920/50000 [============================>.] - ETA: 0s - loss: 0.2545 - acc: 0.9139\n",
            "Epoch 00021: acc improved from 0.90970 to 0.91382, saving model to /content/drive/My Drive/neural_ode_classification/CIFAR-10-RESNET+NODE/model.h5\n",
            "50000/50000 [==============================] - 26s 526us/sample - loss: 0.2547 - acc: 0.9138 - val_loss: 0.5627 - val_acc: 0.8310\n",
            "Epoch 22/30\n",
            "49920/50000 [============================>.] - ETA: 0s - loss: 0.2380 - acc: 0.9173\n",
            "Epoch 00022: acc improved from 0.91382 to 0.91734, saving model to /content/drive/My Drive/neural_ode_classification/CIFAR-10-RESNET+NODE/model.h5\n",
            "50000/50000 [==============================] - 26s 525us/sample - loss: 0.2380 - acc: 0.9173 - val_loss: 0.6078 - val_acc: 0.8284\n",
            "Epoch 23/30\n",
            "49920/50000 [============================>.] - ETA: 0s - loss: 0.2310 - acc: 0.9209\n",
            "Epoch 00023: acc improved from 0.91734 to 0.92094, saving model to /content/drive/My Drive/neural_ode_classification/CIFAR-10-RESNET+NODE/model.h5\n",
            "50000/50000 [==============================] - 26s 525us/sample - loss: 0.2309 - acc: 0.9209 - val_loss: 0.5454 - val_acc: 0.8437\n",
            "Epoch 24/30\n",
            "49920/50000 [============================>.] - ETA: 0s - loss: 0.2161 - acc: 0.9264\n",
            "Epoch 00024: acc improved from 0.92094 to 0.92646, saving model to /content/drive/My Drive/neural_ode_classification/CIFAR-10-RESNET+NODE/model.h5\n",
            "50000/50000 [==============================] - 26s 527us/sample - loss: 0.2160 - acc: 0.9265 - val_loss: 0.5719 - val_acc: 0.8389\n",
            "Epoch 25/30\n",
            "49920/50000 [============================>.] - ETA: 0s - loss: 0.2010 - acc: 0.9303\n",
            "Epoch 00025: acc improved from 0.92646 to 0.93032, saving model to /content/drive/My Drive/neural_ode_classification/CIFAR-10-RESNET+NODE/model.h5\n",
            "50000/50000 [==============================] - 26s 528us/sample - loss: 0.2011 - acc: 0.9303 - val_loss: 0.5855 - val_acc: 0.8379\n",
            "Epoch 26/30\n",
            "49920/50000 [============================>.] - ETA: 0s - loss: 0.1958 - acc: 0.9334\n",
            "Epoch 00026: acc improved from 0.93032 to 0.93330, saving model to /content/drive/My Drive/neural_ode_classification/CIFAR-10-RESNET+NODE/model.h5\n",
            "50000/50000 [==============================] - 29s 573us/sample - loss: 0.1959 - acc: 0.9333 - val_loss: 0.5922 - val_acc: 0.8400\n",
            "Epoch 27/30\n",
            "49920/50000 [============================>.] - ETA: 0s - loss: 0.1895 - acc: 0.9348\n",
            "Epoch 00027: acc improved from 0.93330 to 0.93482, saving model to /content/drive/My Drive/neural_ode_classification/CIFAR-10-RESNET+NODE/model.h5\n",
            "50000/50000 [==============================] - 30s 601us/sample - loss: 0.1895 - acc: 0.9348 - val_loss: 0.5894 - val_acc: 0.8399\n",
            "Epoch 28/30\n",
            "49920/50000 [============================>.] - ETA: 0s - loss: 0.1814 - acc: 0.9382\n",
            "Epoch 00028: acc improved from 0.93482 to 0.93826, saving model to /content/drive/My Drive/neural_ode_classification/CIFAR-10-RESNET+NODE/model.h5\n",
            "50000/50000 [==============================] - 30s 608us/sample - loss: 0.1814 - acc: 0.9383 - val_loss: 0.5981 - val_acc: 0.8459\n",
            "Epoch 29/30\n",
            "49920/50000 [============================>.] - ETA: 0s - loss: 0.1800 - acc: 0.9380\n",
            "Epoch 00029: acc did not improve from 0.93826\n",
            "50000/50000 [==============================] - 30s 599us/sample - loss: 0.1799 - acc: 0.9381 - val_loss: 0.6091 - val_acc: 0.8398\n",
            "Epoch 30/30\n",
            "49920/50000 [============================>.] - ETA: 0s - loss: 0.1632 - acc: 0.9445\n",
            "Epoch 00030: acc improved from 0.93826 to 0.94448, saving model to /content/drive/My Drive/neural_ode_classification/CIFAR-10-RESNET+NODE/model.h5\n",
            "50000/50000 [==============================] - 30s 609us/sample - loss: 0.1634 - acc: 0.9445 - val_loss: 0.5855 - val_acc: 0.8419\n",
            "10000/10000 [==============================] - 6s 603us/sample - loss: 0.5855 - acc: 0.8421\n"
          ],
          "name": "stdout"
        },
        {
          "output_type": "execute_result",
          "data": {
            "text/plain": [
              "[0.5854955185353756, 0.8421]"
            ]
          },
          "metadata": {
            "tags": []
          },
          "execution_count": 10
        }
      ]
    },
    {
      "cell_type": "code",
      "metadata": {
        "id": "Ry7zxnak9ZfO",
        "colab_type": "code",
        "colab": {
          "base_uri": "https://localhost:8080/",
          "height": 428
        },
        "outputId": "1d94a3c7-6aa0-4e67-9b86-d26b404a5633"
      },
      "source": [
        "plt.figure(figsize=[8,6])\n",
        "plt.plot(history.history['loss'],'r',linewidth=3.0)\n",
        "plt.plot(history.history['val_loss'],'b',linewidth=3.0)\n",
        "plt.legend(['Training loss', 'Validation Loss'],fontsize=18)\n",
        "plt.xlabel('Epochs ',fontsize=16)\n",
        "plt.ylabel('Loss',fontsize=16)\n",
        "plt.title('Loss Curves',fontsize=16)"
      ],
      "execution_count": 11,
      "outputs": [
        {
          "output_type": "execute_result",
          "data": {
            "text/plain": [
              "Text(0.5, 1.0, 'Loss Curves')"
            ]
          },
          "metadata": {
            "tags": []
          },
          "execution_count": 11
        },
        {
          "output_type": "display_data",
          "data": {
            "image/png": "[encoded data removed]",
            "text/plain": [
              "<Figure size 576x432 with 1 Axes>"
            ]
          },
          "metadata": {
            "tags": [],
            "needs_background": "light"
          }
        }
      ]
    },
    {
      "cell_type": "code",
      "metadata": {
        "id": "z24spJfG9ZyE",
        "colab_type": "code",
        "colab": {
          "base_uri": "https://localhost:8080/",
          "height": 428
        },
        "outputId": "43473d79-764a-47a9-c6d1-ca3554f90eb0"
      },
      "source": [
        "plt.figure(figsize=[8,6])\n",
        "plt.plot(history.history['acc'],'r',linewidth=3.0)\n",
        "plt.plot(history.history['val_acc'],'b',linewidth=3.0)\n",
        "plt.legend(['Training Accuracy', 'Validation Accuracy'],fontsize=18)\n",
        "plt.xlabel('Epochs ',fontsize=16)\n",
        "plt.ylabel('Accuracy',fontsize=16)\n",
        "plt.title('Accuracy Curves',fontsize=16)"
      ],
      "execution_count": 12,
      "outputs": [
        {
          "output_type": "execute_result",
          "data": {
            "text/plain": [
              "Text(0.5, 1.0, 'Accuracy Curves')"
            ]
          },
          "metadata": {
            "tags": []
          },
          "execution_count": 12
        },
        {
          "output_type": "display_data",
          "data": {
            "image/png": "[encoded data removed]",
            "text/plain": [
              "<Figure size 576x432 with 1 Axes>"
            ]
          },
          "metadata": {
            "tags": [],
            "needs_background": "light"
          }
        }
      ]
    },
    {
      "cell_type": "code",
      "metadata": {
        "id": "gwbqSjX-9Z0Y",
        "colab_type": "code",
        "colab": {}
      },
      "source": [
        ""
      ],
      "execution_count": null,
      "outputs": []
    }
  ]
}